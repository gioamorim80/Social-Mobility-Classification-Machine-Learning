{
 "cells": [
  {
   "cell_type": "markdown",
   "metadata": {},
   "source": [
    "# Social Mobility - A Machine Learning Classification\n",
    "\n",
    "### Flatiron Data Science Bootcamp Module 5 Final Project\n",
    "\n",
    "## 1. Introduction\n",
    "\n",
    "explain the project scope and objectives\n",
    "\n",
    "\n",
    "\n",
    "....\n",
    "\n"
   ]
  },
  {
   "cell_type": "code",
   "execution_count": 1,
   "metadata": {},
   "outputs": [],
   "source": [
    "import pandas as pd\n",
    "import matplotlib.pyplot as plt\n",
    "import seaborn as sns\n",
    "import numpy as np\n",
    "from sklearn.model_selection import train_test_split, GridSearchCV, cross_val_score\n",
    "from sklearn.metrics import accuracy_score, confusion_matrix, classification_report, roc_curve, auc\n",
    "from sklearn import preprocessing\n",
    "from sklearn.preprocessing import StandardScaler\n",
    "from sklearn import tree\n",
    "from sklearn.tree import DecisionTreeClassifier\n",
    "from sklearn.ensemble import RandomForestClassifier\n",
    "from sklearn import svm\n",
    "from sklearn.svm import SVC\n",
    "from sklearn.utils import resample\n",
    "from sklearn.pipeline import Pipeline\n",
    "from sklearn.pipeline import make_pipeline\n",
    "from sklearn.decomposition import PCA\n",
    "from xgboost import XGBClassifier\n",
    "import os\n",
    "os.environ['KMP_DUPLICATE_LIB_OK']='True'\n",
    "import warnings\n",
    "warnings.filterwarnings('ignore')\n",
    "%matplotlib inline\n",
    "\n"
   ]
  },
  {
   "cell_type": "code",
   "execution_count": 2,
   "metadata": {},
   "outputs": [
    {
     "data": {
      "text/html": [
       "<div>\n",
       "<style scoped>\n",
       "    .dataframe tbody tr th:only-of-type {\n",
       "        vertical-align: middle;\n",
       "    }\n",
       "\n",
       "    .dataframe tbody tr th {\n",
       "        vertical-align: top;\n",
       "    }\n",
       "\n",
       "    .dataframe thead th {\n",
       "        text-align: right;\n",
       "    }\n",
       "</style>\n",
       "<table border=\"1\" class=\"dataframe\">\n",
       "  <thead>\n",
       "    <tr style=\"text-align: right;\">\n",
       "      <th></th>\n",
       "      <th>tract</th>\n",
       "      <th>county</th>\n",
       "      <th>state</th>\n",
       "      <th>hhinc_mean2000</th>\n",
       "      <th>mean_commutetime2000</th>\n",
       "      <th>frac_coll_plus2010</th>\n",
       "      <th>frac_coll_plus2000</th>\n",
       "      <th>foreign_share2010</th>\n",
       "      <th>med_hhinc2016</th>\n",
       "      <th>med_hhinc1990</th>\n",
       "      <th>...</th>\n",
       "      <th>mail_return_rate2010</th>\n",
       "      <th>ln_wage_growth_hs_grad</th>\n",
       "      <th>jobs_total_5mi_2015</th>\n",
       "      <th>jobs_highpay_5mi_2015</th>\n",
       "      <th>nonwhite_share2010</th>\n",
       "      <th>popdensity2010</th>\n",
       "      <th>cz</th>\n",
       "      <th>czname</th>\n",
       "      <th>ann_avg_job_growth_2004_2013</th>\n",
       "      <th>job_density_2013</th>\n",
       "    </tr>\n",
       "  </thead>\n",
       "  <tbody>\n",
       "    <tr>\n",
       "      <th>0</th>\n",
       "      <td>20100</td>\n",
       "      <td>1</td>\n",
       "      <td>1</td>\n",
       "      <td>68638.727</td>\n",
       "      <td>26.171911</td>\n",
       "      <td>0.254428</td>\n",
       "      <td>0.156479</td>\n",
       "      <td>0.009950</td>\n",
       "      <td>66000.0</td>\n",
       "      <td>27375.0</td>\n",
       "      <td>...</td>\n",
       "      <td>83.500000</td>\n",
       "      <td>0.038233</td>\n",
       "      <td>10109.0</td>\n",
       "      <td>3396.0</td>\n",
       "      <td>0.162657</td>\n",
       "      <td>504.75183</td>\n",
       "      <td>11101.0</td>\n",
       "      <td>Montgomery</td>\n",
       "      <td>-0.006769</td>\n",
       "      <td>92.133049</td>\n",
       "    </tr>\n",
       "    <tr>\n",
       "      <th>1</th>\n",
       "      <td>20200</td>\n",
       "      <td>1</td>\n",
       "      <td>1</td>\n",
       "      <td>57242.512</td>\n",
       "      <td>24.806705</td>\n",
       "      <td>0.267194</td>\n",
       "      <td>0.146932</td>\n",
       "      <td>0.016337</td>\n",
       "      <td>41107.0</td>\n",
       "      <td>19000.0</td>\n",
       "      <td>...</td>\n",
       "      <td>81.300003</td>\n",
       "      <td>0.089306</td>\n",
       "      <td>9948.0</td>\n",
       "      <td>3328.0</td>\n",
       "      <td>0.611060</td>\n",
       "      <td>1682.17050</td>\n",
       "      <td>11101.0</td>\n",
       "      <td>Montgomery</td>\n",
       "      <td>-0.004253</td>\n",
       "      <td>971.317870</td>\n",
       "    </tr>\n",
       "    <tr>\n",
       "      <th>2</th>\n",
       "      <td>20300</td>\n",
       "      <td>1</td>\n",
       "      <td>1</td>\n",
       "      <td>75647.727</td>\n",
       "      <td>25.322525</td>\n",
       "      <td>0.164159</td>\n",
       "      <td>0.224413</td>\n",
       "      <td>0.027096</td>\n",
       "      <td>51250.0</td>\n",
       "      <td>29419.0</td>\n",
       "      <td>...</td>\n",
       "      <td>79.500000</td>\n",
       "      <td>-0.177743</td>\n",
       "      <td>10387.0</td>\n",
       "      <td>3230.0</td>\n",
       "      <td>0.247554</td>\n",
       "      <td>1633.41390</td>\n",
       "      <td>11101.0</td>\n",
       "      <td>Montgomery</td>\n",
       "      <td>0.014218</td>\n",
       "      <td>340.920070</td>\n",
       "    </tr>\n",
       "    <tr>\n",
       "      <th>3</th>\n",
       "      <td>20400</td>\n",
       "      <td>1</td>\n",
       "      <td>1</td>\n",
       "      <td>74852.055</td>\n",
       "      <td>22.965347</td>\n",
       "      <td>0.252744</td>\n",
       "      <td>0.230469</td>\n",
       "      <td>0.015083</td>\n",
       "      <td>52704.0</td>\n",
       "      <td>37891.0</td>\n",
       "      <td>...</td>\n",
       "      <td>83.500000</td>\n",
       "      <td>-0.072311</td>\n",
       "      <td>12933.0</td>\n",
       "      <td>3635.0</td>\n",
       "      <td>0.081167</td>\n",
       "      <td>1780.03250</td>\n",
       "      <td>11101.0</td>\n",
       "      <td>Montgomery</td>\n",
       "      <td>-0.019841</td>\n",
       "      <td>207.386370</td>\n",
       "    </tr>\n",
       "    <tr>\n",
       "      <th>4</th>\n",
       "      <td>20500</td>\n",
       "      <td>1</td>\n",
       "      <td>1</td>\n",
       "      <td>96174.766</td>\n",
       "      <td>26.222353</td>\n",
       "      <td>0.375063</td>\n",
       "      <td>0.321154</td>\n",
       "      <td>0.046488</td>\n",
       "      <td>52463.0</td>\n",
       "      <td>41516.0</td>\n",
       "      <td>...</td>\n",
       "      <td>77.300003</td>\n",
       "      <td>-0.096140</td>\n",
       "      <td>12933.0</td>\n",
       "      <td>3635.0</td>\n",
       "      <td>0.216236</td>\n",
       "      <td>2446.26220</td>\n",
       "      <td>11101.0</td>\n",
       "      <td>Montgomery</td>\n",
       "      <td>0.018627</td>\n",
       "      <td>800.272640</td>\n",
       "    </tr>\n",
       "  </tbody>\n",
       "</table>\n",
       "<p>5 rows × 38 columns</p>\n",
       "</div>"
      ],
      "text/plain": [
       "   tract  county  state  hhinc_mean2000  mean_commutetime2000  \\\n",
       "0  20100       1      1       68638.727             26.171911   \n",
       "1  20200       1      1       57242.512             24.806705   \n",
       "2  20300       1      1       75647.727             25.322525   \n",
       "3  20400       1      1       74852.055             22.965347   \n",
       "4  20500       1      1       96174.766             26.222353   \n",
       "\n",
       "   frac_coll_plus2010  frac_coll_plus2000  foreign_share2010  med_hhinc2016  \\\n",
       "0            0.254428            0.156479           0.009950        66000.0   \n",
       "1            0.267194            0.146932           0.016337        41107.0   \n",
       "2            0.164159            0.224413           0.027096        51250.0   \n",
       "3            0.252744            0.230469           0.015083        52704.0   \n",
       "4            0.375063            0.321154           0.046488        52463.0   \n",
       "\n",
       "   med_hhinc1990  ...  mail_return_rate2010  ln_wage_growth_hs_grad  \\\n",
       "0        27375.0  ...             83.500000                0.038233   \n",
       "1        19000.0  ...             81.300003                0.089306   \n",
       "2        29419.0  ...             79.500000               -0.177743   \n",
       "3        37891.0  ...             83.500000               -0.072311   \n",
       "4        41516.0  ...             77.300003               -0.096140   \n",
       "\n",
       "   jobs_total_5mi_2015  jobs_highpay_5mi_2015  nonwhite_share2010  \\\n",
       "0              10109.0                 3396.0            0.162657   \n",
       "1               9948.0                 3328.0            0.611060   \n",
       "2              10387.0                 3230.0            0.247554   \n",
       "3              12933.0                 3635.0            0.081167   \n",
       "4              12933.0                 3635.0            0.216236   \n",
       "\n",
       "   popdensity2010       cz      czname  ann_avg_job_growth_2004_2013  \\\n",
       "0       504.75183  11101.0  Montgomery                     -0.006769   \n",
       "1      1682.17050  11101.0  Montgomery                     -0.004253   \n",
       "2      1633.41390  11101.0  Montgomery                      0.014218   \n",
       "3      1780.03250  11101.0  Montgomery                     -0.019841   \n",
       "4      2446.26220  11101.0  Montgomery                      0.018627   \n",
       "\n",
       "   job_density_2013  \n",
       "0         92.133049  \n",
       "1        971.317870  \n",
       "2        340.920070  \n",
       "3        207.386370  \n",
       "4        800.272640  \n",
       "\n",
       "[5 rows x 38 columns]"
      ]
     },
     "execution_count": 2,
     "metadata": {},
     "output_type": "execute_result"
    }
   ],
   "source": [
    "# load and check dataset\n",
    "df = pd.read_csv('tract_covariates.csv')\n",
    "df.head()"
   ]
  },
  {
   "cell_type": "code",
   "execution_count": 3,
   "metadata": {},
   "outputs": [
    {
     "data": {
      "text/plain": [
       "(74123, 38)"
      ]
     },
     "execution_count": 3,
     "metadata": {},
     "output_type": "execute_result"
    }
   ],
   "source": [
    "# check number of columns and rows\n",
    "df.shape"
   ]
  },
  {
   "cell_type": "code",
   "execution_count": 4,
   "metadata": {},
   "outputs": [
    {
     "data": {
      "text/plain": [
       "Index(['tract', 'county', 'state', 'hhinc_mean2000', 'mean_commutetime2000',\n",
       "       'frac_coll_plus2010', 'frac_coll_plus2000', 'foreign_share2010',\n",
       "       'med_hhinc2016', 'med_hhinc1990', 'popdensity2000', 'poor_share2010',\n",
       "       'poor_share2000', 'poor_share1990', 'share_black2010', 'share_hisp2010',\n",
       "       'share_asian2010', 'share_black2000', 'share_white2000',\n",
       "       'share_hisp2000', 'share_asian2000', 'gsmn_math_g3_2013',\n",
       "       'rent_twobed2015', 'singleparent_share2010', 'singleparent_share1990',\n",
       "       'singleparent_share2000', 'traveltime15_2010', 'emp2000',\n",
       "       'mail_return_rate2010', 'ln_wage_growth_hs_grad', 'jobs_total_5mi_2015',\n",
       "       'jobs_highpay_5mi_2015', 'nonwhite_share2010', 'popdensity2010', 'cz',\n",
       "       'czname', 'ann_avg_job_growth_2004_2013', 'job_density_2013'],\n",
       "      dtype='object')"
      ]
     },
     "execution_count": 4,
     "metadata": {},
     "output_type": "execute_result"
    }
   ],
   "source": [
    "# check all columns names\n",
    "df.columns"
   ]
  },
  {
   "cell_type": "code",
   "execution_count": 5,
   "metadata": {
    "scrolled": false
   },
   "outputs": [
    {
     "data": {
      "text/plain": [
       "tract                            0.000000\n",
       "county                           0.000000\n",
       "state                            0.000000\n",
       "hhinc_mean2000                   2.333958\n",
       "mean_commutetime2000             2.301580\n",
       "frac_coll_plus2010               1.180470\n",
       "frac_coll_plus2000               2.238172\n",
       "foreign_share2010                2.354195\n",
       "med_hhinc2016                    1.577108\n",
       "med_hhinc1990                    2.297532\n",
       "popdensity2000                   1.867167\n",
       "poor_share2010                   1.330221\n",
       "poor_share2000                   2.302929\n",
       "poor_share1990                   2.275947\n",
       "share_black2010                  0.940329\n",
       "share_hisp2010                   0.940329\n",
       "share_asian2010                  2.610526\n",
       "share_black2000                  2.195000\n",
       "share_white2000                  2.195000\n",
       "share_hisp2000                   2.195000\n",
       "share_asian2000                  3.989315\n",
       "gsmn_math_g3_2013                2.019616\n",
       "rent_twobed2015                 23.478542\n",
       "singleparent_share2010           1.863119\n",
       "singleparent_share1990           2.470218\n",
       "singleparent_share2000           2.354195\n",
       "traveltime15_2010                1.299192\n",
       "emp2000                          2.234124\n",
       "mail_return_rate2010             1.799711\n",
       "ln_wage_growth_hs_grad          30.135046\n",
       "jobs_total_5mi_2015              1.946764\n",
       "jobs_highpay_5mi_2015            1.946764\n",
       "nonwhite_share2010               0.940329\n",
       "popdensity2010                   0.648921\n",
       "cz                               1.388233\n",
       "czname                           1.388233\n",
       "ann_avg_job_growth_2004_2013     4.666568\n",
       "job_density_2013                 2.239521\n",
       "dtype: float64"
      ]
     },
     "execution_count": 5,
     "metadata": {},
     "output_type": "execute_result"
    }
   ],
   "source": [
    "# check percentage of NaNs in each column\n",
    "df.isna().sum()/len(df)*100"
   ]
  },
  {
   "cell_type": "code",
   "execution_count": 6,
   "metadata": {},
   "outputs": [
    {
     "data": {
      "text/plain": [
       "tract                             int64\n",
       "county                            int64\n",
       "state                             int64\n",
       "hhinc_mean2000                  float64\n",
       "mean_commutetime2000            float64\n",
       "frac_coll_plus2010              float64\n",
       "frac_coll_plus2000              float64\n",
       "foreign_share2010               float64\n",
       "med_hhinc2016                   float64\n",
       "med_hhinc1990                   float64\n",
       "popdensity2000                  float64\n",
       "poor_share2010                  float64\n",
       "poor_share2000                  float64\n",
       "poor_share1990                  float64\n",
       "share_black2010                 float64\n",
       "share_hisp2010                  float64\n",
       "share_asian2010                 float64\n",
       "share_black2000                 float64\n",
       "share_white2000                 float64\n",
       "share_hisp2000                  float64\n",
       "share_asian2000                 float64\n",
       "gsmn_math_g3_2013               float64\n",
       "rent_twobed2015                 float64\n",
       "singleparent_share2010          float64\n",
       "singleparent_share1990          float64\n",
       "singleparent_share2000          float64\n",
       "traveltime15_2010               float64\n",
       "emp2000                         float64\n",
       "mail_return_rate2010            float64\n",
       "ln_wage_growth_hs_grad          float64\n",
       "jobs_total_5mi_2015             float64\n",
       "jobs_highpay_5mi_2015           float64\n",
       "nonwhite_share2010              float64\n",
       "popdensity2010                  float64\n",
       "cz                              float64\n",
       "czname                           object\n",
       "ann_avg_job_growth_2004_2013    float64\n",
       "job_density_2013                float64\n",
       "dtype: object"
      ]
     },
     "execution_count": 6,
     "metadata": {},
     "output_type": "execute_result"
    }
   ],
   "source": [
    "# check each column type\n",
    "df.dtypes"
   ]
  },
  {
   "cell_type": "code",
   "execution_count": 7,
   "metadata": {},
   "outputs": [
    {
     "data": {
      "text/plain": [
       "74123"
      ]
     },
     "execution_count": 7,
     "metadata": {},
     "output_type": "execute_result"
    }
   ],
   "source": [
    "# combine tract, map and state as one unique identifier for each census location\n",
    "df['id'] = df.tract.map(str) + '-' + df.county.map(str) + '-' + df.state.map(str)\n",
    "df.id.nunique()"
   ]
  },
  {
   "cell_type": "code",
   "execution_count": 8,
   "metadata": {},
   "outputs": [
    {
     "data": {
      "text/html": [
       "<div>\n",
       "<style scoped>\n",
       "    .dataframe tbody tr th:only-of-type {\n",
       "        vertical-align: middle;\n",
       "    }\n",
       "\n",
       "    .dataframe tbody tr th {\n",
       "        vertical-align: top;\n",
       "    }\n",
       "\n",
       "    .dataframe thead th {\n",
       "        text-align: right;\n",
       "    }\n",
       "</style>\n",
       "<table border=\"1\" class=\"dataframe\">\n",
       "  <thead>\n",
       "    <tr style=\"text-align: right;\">\n",
       "      <th></th>\n",
       "      <th>id</th>\n",
       "      <th>hhinc_mean2000</th>\n",
       "      <th>mean_commutetime2000</th>\n",
       "      <th>frac_coll_plus2010</th>\n",
       "      <th>frac_coll_plus2000</th>\n",
       "      <th>foreign_share2010</th>\n",
       "      <th>med_hhinc2016</th>\n",
       "      <th>med_hhinc1990</th>\n",
       "      <th>popdensity2000</th>\n",
       "      <th>poor_share2010</th>\n",
       "      <th>...</th>\n",
       "      <th>singleparent_share2000</th>\n",
       "      <th>traveltime15_2010</th>\n",
       "      <th>emp2000</th>\n",
       "      <th>mail_return_rate2010</th>\n",
       "      <th>jobs_total_5mi_2015</th>\n",
       "      <th>jobs_highpay_5mi_2015</th>\n",
       "      <th>nonwhite_share2010</th>\n",
       "      <th>popdensity2010</th>\n",
       "      <th>ann_avg_job_growth_2004_2013</th>\n",
       "      <th>job_density_2013</th>\n",
       "    </tr>\n",
       "  </thead>\n",
       "  <tbody>\n",
       "    <tr>\n",
       "      <th>0</th>\n",
       "      <td>20100-1-1</td>\n",
       "      <td>68638.727</td>\n",
       "      <td>26.171911</td>\n",
       "      <td>0.254428</td>\n",
       "      <td>0.156479</td>\n",
       "      <td>0.009950</td>\n",
       "      <td>66000.0</td>\n",
       "      <td>27375.0</td>\n",
       "      <td>195.72380</td>\n",
       "      <td>0.105030</td>\n",
       "      <td>...</td>\n",
       "      <td>0.250980</td>\n",
       "      <td>0.273034</td>\n",
       "      <td>0.567308</td>\n",
       "      <td>83.500000</td>\n",
       "      <td>10109.0</td>\n",
       "      <td>3396.0</td>\n",
       "      <td>0.162657</td>\n",
       "      <td>504.75183</td>\n",
       "      <td>-0.006769</td>\n",
       "      <td>92.133049</td>\n",
       "    </tr>\n",
       "    <tr>\n",
       "      <th>1</th>\n",
       "      <td>20200-1-1</td>\n",
       "      <td>57242.512</td>\n",
       "      <td>24.806705</td>\n",
       "      <td>0.267194</td>\n",
       "      <td>0.146932</td>\n",
       "      <td>0.016337</td>\n",
       "      <td>41107.0</td>\n",
       "      <td>19000.0</td>\n",
       "      <td>566.38141</td>\n",
       "      <td>0.147590</td>\n",
       "      <td>...</td>\n",
       "      <td>0.392523</td>\n",
       "      <td>0.152040</td>\n",
       "      <td>0.493169</td>\n",
       "      <td>81.300003</td>\n",
       "      <td>9948.0</td>\n",
       "      <td>3328.0</td>\n",
       "      <td>0.611060</td>\n",
       "      <td>1682.17050</td>\n",
       "      <td>-0.004253</td>\n",
       "      <td>971.317870</td>\n",
       "    </tr>\n",
       "    <tr>\n",
       "      <th>2</th>\n",
       "      <td>20300-1-1</td>\n",
       "      <td>75647.727</td>\n",
       "      <td>25.322525</td>\n",
       "      <td>0.164159</td>\n",
       "      <td>0.224413</td>\n",
       "      <td>0.027096</td>\n",
       "      <td>51250.0</td>\n",
       "      <td>29419.0</td>\n",
       "      <td>624.19684</td>\n",
       "      <td>0.080385</td>\n",
       "      <td>...</td>\n",
       "      <td>0.244856</td>\n",
       "      <td>0.205534</td>\n",
       "      <td>0.578560</td>\n",
       "      <td>79.500000</td>\n",
       "      <td>10387.0</td>\n",
       "      <td>3230.0</td>\n",
       "      <td>0.247554</td>\n",
       "      <td>1633.41390</td>\n",
       "      <td>0.014218</td>\n",
       "      <td>340.920070</td>\n",
       "    </tr>\n",
       "    <tr>\n",
       "      <th>3</th>\n",
       "      <td>20400-1-1</td>\n",
       "      <td>74852.055</td>\n",
       "      <td>22.965347</td>\n",
       "      <td>0.252744</td>\n",
       "      <td>0.230469</td>\n",
       "      <td>0.015083</td>\n",
       "      <td>52704.0</td>\n",
       "      <td>37891.0</td>\n",
       "      <td>713.80396</td>\n",
       "      <td>0.063223</td>\n",
       "      <td>...</td>\n",
       "      <td>0.190722</td>\n",
       "      <td>0.350673</td>\n",
       "      <td>0.596501</td>\n",
       "      <td>83.500000</td>\n",
       "      <td>12933.0</td>\n",
       "      <td>3635.0</td>\n",
       "      <td>0.081167</td>\n",
       "      <td>1780.03250</td>\n",
       "      <td>-0.019841</td>\n",
       "      <td>207.386370</td>\n",
       "    </tr>\n",
       "    <tr>\n",
       "      <th>4</th>\n",
       "      <td>20500-1-1</td>\n",
       "      <td>96174.766</td>\n",
       "      <td>26.222353</td>\n",
       "      <td>0.375063</td>\n",
       "      <td>0.321154</td>\n",
       "      <td>0.046488</td>\n",
       "      <td>52463.0</td>\n",
       "      <td>41516.0</td>\n",
       "      <td>529.93030</td>\n",
       "      <td>0.059569</td>\n",
       "      <td>...</td>\n",
       "      <td>0.168000</td>\n",
       "      <td>0.250496</td>\n",
       "      <td>0.661268</td>\n",
       "      <td>77.300003</td>\n",
       "      <td>12933.0</td>\n",
       "      <td>3635.0</td>\n",
       "      <td>0.216236</td>\n",
       "      <td>2446.26220</td>\n",
       "      <td>0.018627</td>\n",
       "      <td>800.272640</td>\n",
       "    </tr>\n",
       "  </tbody>\n",
       "</table>\n",
       "<p>5 rows × 32 columns</p>\n",
       "</div>"
      ],
      "text/plain": [
       "          id  hhinc_mean2000  mean_commutetime2000  frac_coll_plus2010  \\\n",
       "0  20100-1-1       68638.727             26.171911            0.254428   \n",
       "1  20200-1-1       57242.512             24.806705            0.267194   \n",
       "2  20300-1-1       75647.727             25.322525            0.164159   \n",
       "3  20400-1-1       74852.055             22.965347            0.252744   \n",
       "4  20500-1-1       96174.766             26.222353            0.375063   \n",
       "\n",
       "   frac_coll_plus2000  foreign_share2010  med_hhinc2016  med_hhinc1990  \\\n",
       "0            0.156479           0.009950        66000.0        27375.0   \n",
       "1            0.146932           0.016337        41107.0        19000.0   \n",
       "2            0.224413           0.027096        51250.0        29419.0   \n",
       "3            0.230469           0.015083        52704.0        37891.0   \n",
       "4            0.321154           0.046488        52463.0        41516.0   \n",
       "\n",
       "   popdensity2000  poor_share2010  ...  singleparent_share2000  \\\n",
       "0       195.72380        0.105030  ...                0.250980   \n",
       "1       566.38141        0.147590  ...                0.392523   \n",
       "2       624.19684        0.080385  ...                0.244856   \n",
       "3       713.80396        0.063223  ...                0.190722   \n",
       "4       529.93030        0.059569  ...                0.168000   \n",
       "\n",
       "   traveltime15_2010   emp2000  mail_return_rate2010  jobs_total_5mi_2015  \\\n",
       "0           0.273034  0.567308             83.500000              10109.0   \n",
       "1           0.152040  0.493169             81.300003               9948.0   \n",
       "2           0.205534  0.578560             79.500000              10387.0   \n",
       "3           0.350673  0.596501             83.500000              12933.0   \n",
       "4           0.250496  0.661268             77.300003              12933.0   \n",
       "\n",
       "   jobs_highpay_5mi_2015  nonwhite_share2010  popdensity2010  \\\n",
       "0                 3396.0            0.162657       504.75183   \n",
       "1                 3328.0            0.611060      1682.17050   \n",
       "2                 3230.0            0.247554      1633.41390   \n",
       "3                 3635.0            0.081167      1780.03250   \n",
       "4                 3635.0            0.216236      2446.26220   \n",
       "\n",
       "   ann_avg_job_growth_2004_2013  job_density_2013  \n",
       "0                     -0.006769         92.133049  \n",
       "1                     -0.004253        971.317870  \n",
       "2                      0.014218        340.920070  \n",
       "3                     -0.019841        207.386370  \n",
       "4                      0.018627        800.272640  \n",
       "\n",
       "[5 rows x 32 columns]"
      ]
     },
     "execution_count": 8,
     "metadata": {},
     "output_type": "execute_result"
    }
   ],
   "source": [
    "# move identifier column to beginning of dataframe \n",
    "cols = list(df)\n",
    "cols.insert(0, cols.pop(cols.index('id')))\n",
    "df = df.loc[:, cols]\n",
    "\n",
    "# drop columns that are not necessary or that have a high percentage of NaNs\n",
    "df.drop(['tract', 'county', 'state', 'cz', 'czname', 'rent_twobed2015', 'ln_wage_growth_hs_grad'], axis=1, inplace=True)\n",
    "df.head()"
   ]
  },
  {
   "cell_type": "code",
   "execution_count": 9,
   "metadata": {
    "scrolled": false
   },
   "outputs": [
    {
     "data": {
      "text/html": [
       "<div>\n",
       "<style scoped>\n",
       "    .dataframe tbody tr th:only-of-type {\n",
       "        vertical-align: middle;\n",
       "    }\n",
       "\n",
       "    .dataframe tbody tr th {\n",
       "        vertical-align: top;\n",
       "    }\n",
       "\n",
       "    .dataframe thead th {\n",
       "        text-align: right;\n",
       "    }\n",
       "</style>\n",
       "<table border=\"1\" class=\"dataframe\">\n",
       "  <thead>\n",
       "    <tr style=\"text-align: right;\">\n",
       "      <th></th>\n",
       "      <th>hhinc_mean2000</th>\n",
       "      <th>mean_commutetime2000</th>\n",
       "      <th>frac_coll_plus2010</th>\n",
       "      <th>frac_coll_plus2000</th>\n",
       "      <th>foreign_share2010</th>\n",
       "      <th>med_hhinc2016</th>\n",
       "      <th>med_hhinc1990</th>\n",
       "      <th>popdensity2000</th>\n",
       "      <th>poor_share2010</th>\n",
       "      <th>poor_share2000</th>\n",
       "      <th>...</th>\n",
       "      <th>singleparent_share2000</th>\n",
       "      <th>traveltime15_2010</th>\n",
       "      <th>emp2000</th>\n",
       "      <th>mail_return_rate2010</th>\n",
       "      <th>jobs_total_5mi_2015</th>\n",
       "      <th>jobs_highpay_5mi_2015</th>\n",
       "      <th>nonwhite_share2010</th>\n",
       "      <th>popdensity2010</th>\n",
       "      <th>ann_avg_job_growth_2004_2013</th>\n",
       "      <th>job_density_2013</th>\n",
       "    </tr>\n",
       "  </thead>\n",
       "  <tbody>\n",
       "    <tr>\n",
       "      <th>count</th>\n",
       "      <td>72393.000000</td>\n",
       "      <td>72417.000000</td>\n",
       "      <td>73248.000000</td>\n",
       "      <td>72464.000000</td>\n",
       "      <td>72378.000000</td>\n",
       "      <td>72954.000000</td>\n",
       "      <td>72420.000000</td>\n",
       "      <td>72739.000000</td>\n",
       "      <td>73137.000000</td>\n",
       "      <td>72416.000000</td>\n",
       "      <td>...</td>\n",
       "      <td>72378.000000</td>\n",
       "      <td>73160.000000</td>\n",
       "      <td>72467.000000</td>\n",
       "      <td>72789.000000</td>\n",
       "      <td>7.268000e+04</td>\n",
       "      <td>7.268000e+04</td>\n",
       "      <td>73426.000000</td>\n",
       "      <td>73642.000000</td>\n",
       "      <td>70664.000000</td>\n",
       "      <td>7.246300e+04</td>\n",
       "    </tr>\n",
       "    <tr>\n",
       "      <th>mean</th>\n",
       "      <td>80327.556155</td>\n",
       "      <td>26.946929</td>\n",
       "      <td>0.269188</td>\n",
       "      <td>0.237791</td>\n",
       "      <td>0.120875</td>\n",
       "      <td>58810.315528</td>\n",
       "      <td>32178.195869</td>\n",
       "      <td>1983.551558</td>\n",
       "      <td>0.151696</td>\n",
       "      <td>0.128522</td>\n",
       "      <td>...</td>\n",
       "      <td>0.293477</td>\n",
       "      <td>0.295065</td>\n",
       "      <td>0.594060</td>\n",
       "      <td>78.692768</td>\n",
       "      <td>1.119495e+05</td>\n",
       "      <td>5.855423e+04</td>\n",
       "      <td>0.368949</td>\n",
       "      <td>5236.287765</td>\n",
       "      <td>0.015335</td>\n",
       "      <td>2.157003e+03</td>\n",
       "    </tr>\n",
       "    <tr>\n",
       "      <th>std</th>\n",
       "      <td>34437.757785</td>\n",
       "      <td>7.015295</td>\n",
       "      <td>0.182729</td>\n",
       "      <td>0.168770</td>\n",
       "      <td>0.137757</td>\n",
       "      <td>29670.457993</td>\n",
       "      <td>14327.205251</td>\n",
       "      <td>4544.191364</td>\n",
       "      <td>0.128338</td>\n",
       "      <td>0.110132</td>\n",
       "      <td>...</td>\n",
       "      <td>0.157817</td>\n",
       "      <td>0.155631</td>\n",
       "      <td>0.112812</td>\n",
       "      <td>7.876387</td>\n",
       "      <td>2.517040e+05</td>\n",
       "      <td>1.553782e+05</td>\n",
       "      <td>0.307444</td>\n",
       "      <td>11701.388496</td>\n",
       "      <td>0.076179</td>\n",
       "      <td>1.876617e+04</td>\n",
       "    </tr>\n",
       "    <tr>\n",
       "      <th>min</th>\n",
       "      <td>7239.477100</td>\n",
       "      <td>2.500000</td>\n",
       "      <td>0.000000</td>\n",
       "      <td>0.000000</td>\n",
       "      <td>0.000000</td>\n",
       "      <td>2499.000000</td>\n",
       "      <td>4999.000000</td>\n",
       "      <td>0.000000</td>\n",
       "      <td>0.000000</td>\n",
       "      <td>0.000000</td>\n",
       "      <td>...</td>\n",
       "      <td>0.000000</td>\n",
       "      <td>0.000000</td>\n",
       "      <td>0.000000</td>\n",
       "      <td>0.000000</td>\n",
       "      <td>0.000000e+00</td>\n",
       "      <td>0.000000e+00</td>\n",
       "      <td>0.000000</td>\n",
       "      <td>0.000000</td>\n",
       "      <td>-0.606690</td>\n",
       "      <td>0.000000e+00</td>\n",
       "    </tr>\n",
       "    <tr>\n",
       "      <th>25%</th>\n",
       "      <td>57366.266000</td>\n",
       "      <td>22.034706</td>\n",
       "      <td>0.130765</td>\n",
       "      <td>0.110645</td>\n",
       "      <td>0.023023</td>\n",
       "      <td>38698.000000</td>\n",
       "      <td>22257.000000</td>\n",
       "      <td>95.557041</td>\n",
       "      <td>0.059191</td>\n",
       "      <td>0.050159</td>\n",
       "      <td>...</td>\n",
       "      <td>0.182487</td>\n",
       "      <td>0.184125</td>\n",
       "      <td>0.532866</td>\n",
       "      <td>74.300003</td>\n",
       "      <td>6.454000e+03</td>\n",
       "      <td>2.279750e+03</td>\n",
       "      <td>0.108159</td>\n",
       "      <td>314.829350</td>\n",
       "      <td>-0.018859</td>\n",
       "      <td>5.673720e+01</td>\n",
       "    </tr>\n",
       "    <tr>\n",
       "      <th>50%</th>\n",
       "      <td>71705.953000</td>\n",
       "      <td>26.164030</td>\n",
       "      <td>0.218334</td>\n",
       "      <td>0.186889</td>\n",
       "      <td>0.067070</td>\n",
       "      <td>52291.500000</td>\n",
       "      <td>29806.500000</td>\n",
       "      <td>755.014890</td>\n",
       "      <td>0.116065</td>\n",
       "      <td>0.095659</td>\n",
       "      <td>...</td>\n",
       "      <td>0.258736</td>\n",
       "      <td>0.265494</td>\n",
       "      <td>0.607797</td>\n",
       "      <td>79.599998</td>\n",
       "      <td>4.221550e+04</td>\n",
       "      <td>1.691450e+04</td>\n",
       "      <td>0.265904</td>\n",
       "      <td>2189.878900</td>\n",
       "      <td>0.008496</td>\n",
       "      <td>4.125840e+02</td>\n",
       "    </tr>\n",
       "    <tr>\n",
       "      <th>75%</th>\n",
       "      <td>94675.211000</td>\n",
       "      <td>31.048534</td>\n",
       "      <td>0.370618</td>\n",
       "      <td>0.325419</td>\n",
       "      <td>0.168883</td>\n",
       "      <td>71851.000000</td>\n",
       "      <td>39408.250000</td>\n",
       "      <td>2000.978350</td>\n",
       "      <td>0.205636</td>\n",
       "      <td>0.171529</td>\n",
       "      <td>...</td>\n",
       "      <td>0.366292</td>\n",
       "      <td>0.376318</td>\n",
       "      <td>0.670782</td>\n",
       "      <td>84.300003</td>\n",
       "      <td>1.228150e+05</td>\n",
       "      <td>5.771550e+04</td>\n",
       "      <td>0.587899</td>\n",
       "      <td>5284.204800</td>\n",
       "      <td>0.040975</td>\n",
       "      <td>1.371066e+03</td>\n",
       "    </tr>\n",
       "    <tr>\n",
       "      <th>max</th>\n",
       "      <td>434368.630000</td>\n",
       "      <td>80.025421</td>\n",
       "      <td>1.000000</td>\n",
       "      <td>1.000000</td>\n",
       "      <td>1.000000</td>\n",
       "      <td>250001.000000</td>\n",
       "      <td>150001.000000</td>\n",
       "      <td>205382.190000</td>\n",
       "      <td>1.000000</td>\n",
       "      <td>1.000000</td>\n",
       "      <td>...</td>\n",
       "      <td>1.000000</td>\n",
       "      <td>1.000000</td>\n",
       "      <td>1.000000</td>\n",
       "      <td>100.000000</td>\n",
       "      <td>2.826437e+06</td>\n",
       "      <td>1.794186e+06</td>\n",
       "      <td>1.000000</td>\n",
       "      <td>543333.310000</td>\n",
       "      <td>1.336456</td>\n",
       "      <td>2.905290e+06</td>\n",
       "    </tr>\n",
       "  </tbody>\n",
       "</table>\n",
       "<p>8 rows × 31 columns</p>\n",
       "</div>"
      ],
      "text/plain": [
       "       hhinc_mean2000  mean_commutetime2000  frac_coll_plus2010  \\\n",
       "count    72393.000000          72417.000000        73248.000000   \n",
       "mean     80327.556155             26.946929            0.269188   \n",
       "std      34437.757785              7.015295            0.182729   \n",
       "min       7239.477100              2.500000            0.000000   \n",
       "25%      57366.266000             22.034706            0.130765   \n",
       "50%      71705.953000             26.164030            0.218334   \n",
       "75%      94675.211000             31.048534            0.370618   \n",
       "max     434368.630000             80.025421            1.000000   \n",
       "\n",
       "       frac_coll_plus2000  foreign_share2010  med_hhinc2016  med_hhinc1990  \\\n",
       "count        72464.000000       72378.000000   72954.000000   72420.000000   \n",
       "mean             0.237791           0.120875   58810.315528   32178.195869   \n",
       "std              0.168770           0.137757   29670.457993   14327.205251   \n",
       "min              0.000000           0.000000    2499.000000    4999.000000   \n",
       "25%              0.110645           0.023023   38698.000000   22257.000000   \n",
       "50%              0.186889           0.067070   52291.500000   29806.500000   \n",
       "75%              0.325419           0.168883   71851.000000   39408.250000   \n",
       "max              1.000000           1.000000  250001.000000  150001.000000   \n",
       "\n",
       "       popdensity2000  poor_share2010  poor_share2000  ...  \\\n",
       "count    72739.000000    73137.000000    72416.000000  ...   \n",
       "mean      1983.551558        0.151696        0.128522  ...   \n",
       "std       4544.191364        0.128338        0.110132  ...   \n",
       "min          0.000000        0.000000        0.000000  ...   \n",
       "25%         95.557041        0.059191        0.050159  ...   \n",
       "50%        755.014890        0.116065        0.095659  ...   \n",
       "75%       2000.978350        0.205636        0.171529  ...   \n",
       "max     205382.190000        1.000000        1.000000  ...   \n",
       "\n",
       "       singleparent_share2000  traveltime15_2010       emp2000  \\\n",
       "count            72378.000000       73160.000000  72467.000000   \n",
       "mean                 0.293477           0.295065      0.594060   \n",
       "std                  0.157817           0.155631      0.112812   \n",
       "min                  0.000000           0.000000      0.000000   \n",
       "25%                  0.182487           0.184125      0.532866   \n",
       "50%                  0.258736           0.265494      0.607797   \n",
       "75%                  0.366292           0.376318      0.670782   \n",
       "max                  1.000000           1.000000      1.000000   \n",
       "\n",
       "       mail_return_rate2010  jobs_total_5mi_2015  jobs_highpay_5mi_2015  \\\n",
       "count          72789.000000         7.268000e+04           7.268000e+04   \n",
       "mean              78.692768         1.119495e+05           5.855423e+04   \n",
       "std                7.876387         2.517040e+05           1.553782e+05   \n",
       "min                0.000000         0.000000e+00           0.000000e+00   \n",
       "25%               74.300003         6.454000e+03           2.279750e+03   \n",
       "50%               79.599998         4.221550e+04           1.691450e+04   \n",
       "75%               84.300003         1.228150e+05           5.771550e+04   \n",
       "max              100.000000         2.826437e+06           1.794186e+06   \n",
       "\n",
       "       nonwhite_share2010  popdensity2010  ann_avg_job_growth_2004_2013  \\\n",
       "count        73426.000000    73642.000000                  70664.000000   \n",
       "mean             0.368949     5236.287765                      0.015335   \n",
       "std              0.307444    11701.388496                      0.076179   \n",
       "min              0.000000        0.000000                     -0.606690   \n",
       "25%              0.108159      314.829350                     -0.018859   \n",
       "50%              0.265904     2189.878900                      0.008496   \n",
       "75%              0.587899     5284.204800                      0.040975   \n",
       "max              1.000000   543333.310000                      1.336456   \n",
       "\n",
       "       job_density_2013  \n",
       "count      7.246300e+04  \n",
       "mean       2.157003e+03  \n",
       "std        1.876617e+04  \n",
       "min        0.000000e+00  \n",
       "25%        5.673720e+01  \n",
       "50%        4.125840e+02  \n",
       "75%        1.371066e+03  \n",
       "max        2.905290e+06  \n",
       "\n",
       "[8 rows x 31 columns]"
      ]
     },
     "execution_count": 9,
     "metadata": {},
     "output_type": "execute_result"
    }
   ],
   "source": [
    "# check overal stats of dataframe\n",
    "df.describe()"
   ]
  },
  {
   "cell_type": "markdown",
   "metadata": {},
   "source": [
    "A few things we can notice here: \n",
    "\n",
    "- some columns present the same data from different years. It could make more sense to treat these as one column for change, instead of keeping both years data.\n",
    "\n",
    "- data magnitude varies a lot from column to column and scaling and standardizing will certainly be necessary."
   ]
  },
  {
   "cell_type": "code",
   "execution_count": 10,
   "metadata": {},
   "outputs": [
    {
     "data": {
      "image/png": "[encoded data removed]",
      "text/plain": [
       "<Figure size 1152x1008 with 36 Axes>"
      ]
     },
     "metadata": {
      "needs_background": "light"
     },
     "output_type": "display_data"
    }
   ],
   "source": [
    "df.hist(figsize=(16,14));"
   ]
  },
  {
   "cell_type": "code",
   "execution_count": null,
   "metadata": {},
   "outputs": [],
   "source": []
  },
  {
   "cell_type": "code",
   "execution_count": null,
   "metadata": {},
   "outputs": [],
   "source": []
  },
  {
   "cell_type": "code",
   "execution_count": null,
   "metadata": {},
   "outputs": [],
   "source": []
  },
  {
   "cell_type": "markdown",
   "metadata": {},
   "source": [
    "Now let's get our target variable. We want to measure social mobility - meaning, when children fair better in terms of income than their parents. To do this, we will bring data from another dataset, in the same study, that has ranks for income for both parents and children.\n",
    "\n",
    "kfr_pooled_pooled_mean = Mean percentile rank (relative to other children born in the same year) in the national distribution of household income (i.e. own earnings and spouse’s earnings) measured as mean earnings in 2014-2015 for the baseline sample\n",
    "\n",
    "par_rank_pooled_pooled_mean = Mean household income rank for parents of children of race [race] and gender [gender]. Parents are ranked relative to other parents with children in the same birth cohort (averaged over 1994-1995 and 1998-2000)"
   ]
  },
  {
   "cell_type": "code",
   "execution_count": null,
   "metadata": {},
   "outputs": [],
   "source": []
  },
  {
   "cell_type": "code",
   "execution_count": 11,
   "metadata": {},
   "outputs": [],
   "source": [
    "# load necessary information from dataframe\n",
    "df3 = pd.read_csv('tract_outcomes_early.csv', usecols=['tract', 'county', 'state', 'kfr_pooled_pooled_mean', 'par_rank_pooled_pooled_mean'])"
   ]
  },
  {
   "cell_type": "code",
   "execution_count": 12,
   "metadata": {},
   "outputs": [
    {
     "data": {
      "text/html": [
       "<div>\n",
       "<style scoped>\n",
       "    .dataframe tbody tr th:only-of-type {\n",
       "        vertical-align: middle;\n",
       "    }\n",
       "\n",
       "    .dataframe tbody tr th {\n",
       "        vertical-align: top;\n",
       "    }\n",
       "\n",
       "    .dataframe thead th {\n",
       "        text-align: right;\n",
       "    }\n",
       "</style>\n",
       "<table border=\"1\" class=\"dataframe\">\n",
       "  <thead>\n",
       "    <tr style=\"text-align: right;\">\n",
       "      <th></th>\n",
       "      <th>state</th>\n",
       "      <th>county</th>\n",
       "      <th>tract</th>\n",
       "      <th>kfr_pooled_pooled_mean</th>\n",
       "      <th>par_rank_pooled_pooled_mean</th>\n",
       "    </tr>\n",
       "  </thead>\n",
       "  <tbody>\n",
       "    <tr>\n",
       "      <th>0</th>\n",
       "      <td>1</td>\n",
       "      <td>1</td>\n",
       "      <td>20100</td>\n",
       "      <td>0.481355</td>\n",
       "      <td>0.512273</td>\n",
       "    </tr>\n",
       "    <tr>\n",
       "      <th>1</th>\n",
       "      <td>1</td>\n",
       "      <td>1</td>\n",
       "      <td>20200</td>\n",
       "      <td>0.370569</td>\n",
       "      <td>0.357840</td>\n",
       "    </tr>\n",
       "    <tr>\n",
       "      <th>2</th>\n",
       "      <td>1</td>\n",
       "      <td>1</td>\n",
       "      <td>20300</td>\n",
       "      <td>0.487227</td>\n",
       "      <td>0.534671</td>\n",
       "    </tr>\n",
       "    <tr>\n",
       "      <th>3</th>\n",
       "      <td>1</td>\n",
       "      <td>1</td>\n",
       "      <td>20400</td>\n",
       "      <td>0.536163</td>\n",
       "      <td>0.597961</td>\n",
       "    </tr>\n",
       "    <tr>\n",
       "      <th>4</th>\n",
       "      <td>1</td>\n",
       "      <td>1</td>\n",
       "      <td>20500</td>\n",
       "      <td>0.579610</td>\n",
       "      <td>0.651672</td>\n",
       "    </tr>\n",
       "  </tbody>\n",
       "</table>\n",
       "</div>"
      ],
      "text/plain": [
       "   state  county  tract  kfr_pooled_pooled_mean  par_rank_pooled_pooled_mean\n",
       "0      1       1  20100                0.481355                     0.512273\n",
       "1      1       1  20200                0.370569                     0.357840\n",
       "2      1       1  20300                0.487227                     0.534671\n",
       "3      1       1  20400                0.536163                     0.597961\n",
       "4      1       1  20500                0.579610                     0.651672"
      ]
     },
     "execution_count": 12,
     "metadata": {},
     "output_type": "execute_result"
    }
   ],
   "source": [
    "# check dataframe\n",
    "df3.head()"
   ]
  },
  {
   "cell_type": "code",
   "execution_count": 13,
   "metadata": {},
   "outputs": [],
   "source": [
    "# combine tract, map and state as one unique identifier for each census location\n",
    "df3['id'] = df3.tract.map(str) + '-' + df3.county.map(str) + '-' + df3.state.map(str)"
   ]
  },
  {
   "cell_type": "code",
   "execution_count": 14,
   "metadata": {},
   "outputs": [],
   "source": [
    "# move identifier column to beginning of dataframe \n",
    "cols = list(df3)\n",
    "cols.insert(0, cols.pop(cols.index('id')))\n",
    "df3 = df3.loc[:, cols]"
   ]
  },
  {
   "cell_type": "code",
   "execution_count": 15,
   "metadata": {},
   "outputs": [],
   "source": [
    "# remove columns that are no longer needed\n",
    "df3.drop(['tract', 'county', 'state'], axis=1, inplace=True)"
   ]
  },
  {
   "cell_type": "code",
   "execution_count": 16,
   "metadata": {},
   "outputs": [
    {
     "data": {
      "text/plain": [
       "(73278, 3)"
      ]
     },
     "execution_count": 16,
     "metadata": {},
     "output_type": "execute_result"
    }
   ],
   "source": [
    "# check number of columns and rows\n",
    "df3.shape"
   ]
  },
  {
   "cell_type": "code",
   "execution_count": 17,
   "metadata": {},
   "outputs": [
    {
     "data": {
      "text/plain": [
       "id                             0.000000\n",
       "kfr_pooled_pooled_mean         1.724938\n",
       "par_rank_pooled_pooled_mean    1.724938\n",
       "dtype: float64"
      ]
     },
     "execution_count": 17,
     "metadata": {},
     "output_type": "execute_result"
    }
   ],
   "source": [
    "# check percentage of NaNs\n",
    "df3.isna().sum()/len(df3)*100"
   ]
  },
  {
   "cell_type": "code",
   "execution_count": 18,
   "metadata": {},
   "outputs": [],
   "source": [
    "# calculate mobility in a new column by subtracting rank from parents' rank\n",
    "df3['mobility'] = df3['kfr_pooled_pooled_mean'] - df3['par_rank_pooled_pooled_mean']"
   ]
  },
  {
   "cell_type": "code",
   "execution_count": 19,
   "metadata": {},
   "outputs": [
    {
     "data": {
      "text/html": [
       "<div>\n",
       "<style scoped>\n",
       "    .dataframe tbody tr th:only-of-type {\n",
       "        vertical-align: middle;\n",
       "    }\n",
       "\n",
       "    .dataframe tbody tr th {\n",
       "        vertical-align: top;\n",
       "    }\n",
       "\n",
       "    .dataframe thead th {\n",
       "        text-align: right;\n",
       "    }\n",
       "</style>\n",
       "<table border=\"1\" class=\"dataframe\">\n",
       "  <thead>\n",
       "    <tr style=\"text-align: right;\">\n",
       "      <th></th>\n",
       "      <th>kfr_pooled_pooled_mean</th>\n",
       "      <th>par_rank_pooled_pooled_mean</th>\n",
       "      <th>mobility</th>\n",
       "    </tr>\n",
       "  </thead>\n",
       "  <tbody>\n",
       "    <tr>\n",
       "      <th>count</th>\n",
       "      <td>72014.000000</td>\n",
       "      <td>72014.000000</td>\n",
       "      <td>72014.000000</td>\n",
       "    </tr>\n",
       "    <tr>\n",
       "      <th>mean</th>\n",
       "      <td>0.507519</td>\n",
       "      <td>0.523503</td>\n",
       "      <td>-0.015984</td>\n",
       "    </tr>\n",
       "    <tr>\n",
       "      <th>std</th>\n",
       "      <td>0.095564</td>\n",
       "      <td>0.153076</td>\n",
       "      <td>0.081375</td>\n",
       "    </tr>\n",
       "    <tr>\n",
       "      <th>min</th>\n",
       "      <td>0.158528</td>\n",
       "      <td>0.101707</td>\n",
       "      <td>-0.688561</td>\n",
       "    </tr>\n",
       "    <tr>\n",
       "      <th>25%</th>\n",
       "      <td>0.443233</td>\n",
       "      <td>0.413284</td>\n",
       "      <td>-0.072159</td>\n",
       "    </tr>\n",
       "    <tr>\n",
       "      <th>50%</th>\n",
       "      <td>0.512092</td>\n",
       "      <td>0.519227</td>\n",
       "      <td>-0.016234</td>\n",
       "    </tr>\n",
       "    <tr>\n",
       "      <th>75%</th>\n",
       "      <td>0.576070</td>\n",
       "      <td>0.633467</td>\n",
       "      <td>0.037503</td>\n",
       "    </tr>\n",
       "    <tr>\n",
       "      <th>max</th>\n",
       "      <td>0.792643</td>\n",
       "      <td>0.957305</td>\n",
       "      <td>0.419661</td>\n",
       "    </tr>\n",
       "  </tbody>\n",
       "</table>\n",
       "</div>"
      ],
      "text/plain": [
       "       kfr_pooled_pooled_mean  par_rank_pooled_pooled_mean      mobility\n",
       "count            72014.000000                 72014.000000  72014.000000\n",
       "mean                 0.507519                     0.523503     -0.015984\n",
       "std                  0.095564                     0.153076      0.081375\n",
       "min                  0.158528                     0.101707     -0.688561\n",
       "25%                  0.443233                     0.413284     -0.072159\n",
       "50%                  0.512092                     0.519227     -0.016234\n",
       "75%                  0.576070                     0.633467      0.037503\n",
       "max                  0.792643                     0.957305      0.419661"
      ]
     },
     "execution_count": 19,
     "metadata": {},
     "output_type": "execute_result"
    }
   ],
   "source": [
    "# check stats\n",
    "df3.describe()"
   ]
  },
  {
   "cell_type": "code",
   "execution_count": 20,
   "metadata": {},
   "outputs": [
    {
     "data": {
      "image/png": "[encoded data removed]",
      "text/plain": [
       "<Figure size 432x288 with 4 Axes>"
      ]
     },
     "metadata": {
      "needs_background": "light"
     },
     "output_type": "display_data"
    }
   ],
   "source": [
    "# check distribution\n",
    "df3.hist();"
   ]
  },
  {
   "cell_type": "code",
   "execution_count": 21,
   "metadata": {},
   "outputs": [
    {
     "data": {
      "text/plain": [
       "<matplotlib.axes._subplots.AxesSubplot at 0x1209ddef0>"
      ]
     },
     "execution_count": 21,
     "metadata": {},
     "output_type": "execute_result"
    },
    {
     "data": {
      "image/png": "[encoded data removed]",
      "text/plain": [
       "<Figure size 432x288 with 1 Axes>"
      ]
     },
     "metadata": {
      "needs_background": "light"
     },
     "output_type": "display_data"
    }
   ],
   "source": [
    "# check outliers\n",
    "sns.boxplot(df3.mobility)"
   ]
  },
  {
   "cell_type": "code",
   "execution_count": 22,
   "metadata": {
    "scrolled": true
   },
   "outputs": [
    {
     "data": {
      "text/plain": [
       "41.312535822484236"
      ]
     },
     "execution_count": 22,
     "metadata": {},
     "output_type": "execute_result"
    }
   ],
   "source": [
    "# check percentage at positive mobility\n",
    "len(df3.mobility[df3.mobility > 0])/len(df3.mobility)*100"
   ]
  },
  {
   "cell_type": "code",
   "execution_count": 23,
   "metadata": {},
   "outputs": [],
   "source": [
    "# classify outcomes for positive mobility and no/negative mobility\n",
    "df3['outcome'] = np.where(df3.mobility > 0, 1, 0)"
   ]
  },
  {
   "cell_type": "code",
   "execution_count": 24,
   "metadata": {
    "scrolled": false
   },
   "outputs": [
    {
     "data": {
      "text/plain": [
       "0    0.586875\n",
       "1    0.413125\n",
       "Name: outcome, dtype: float64"
      ]
     },
     "execution_count": 24,
     "metadata": {},
     "output_type": "execute_result"
    }
   ],
   "source": [
    "# check balance of target variable\n",
    "df3.outcome.value_counts()/len(df3)"
   ]
  },
  {
   "cell_type": "code",
   "execution_count": 25,
   "metadata": {
    "scrolled": true
   },
   "outputs": [],
   "source": [
    "# drop all the other columns, keeping only the outcome\n",
    "df3.drop(columns=['kfr_pooled_pooled_mean', 'par_rank_pooled_pooled_mean', 'mobility'], inplace=True)"
   ]
  },
  {
   "cell_type": "code",
   "execution_count": 26,
   "metadata": {},
   "outputs": [
    {
     "data": {
      "text/html": [
       "<div>\n",
       "<style scoped>\n",
       "    .dataframe tbody tr th:only-of-type {\n",
       "        vertical-align: middle;\n",
       "    }\n",
       "\n",
       "    .dataframe tbody tr th {\n",
       "        vertical-align: top;\n",
       "    }\n",
       "\n",
       "    .dataframe thead th {\n",
       "        text-align: right;\n",
       "    }\n",
       "</style>\n",
       "<table border=\"1\" class=\"dataframe\">\n",
       "  <thead>\n",
       "    <tr style=\"text-align: right;\">\n",
       "      <th></th>\n",
       "      <th>id</th>\n",
       "      <th>hhinc_mean2000</th>\n",
       "      <th>mean_commutetime2000</th>\n",
       "      <th>frac_coll_plus2010</th>\n",
       "      <th>frac_coll_plus2000</th>\n",
       "      <th>foreign_share2010</th>\n",
       "      <th>med_hhinc2016</th>\n",
       "      <th>med_hhinc1990</th>\n",
       "      <th>popdensity2000</th>\n",
       "      <th>poor_share2010</th>\n",
       "      <th>...</th>\n",
       "      <th>traveltime15_2010</th>\n",
       "      <th>emp2000</th>\n",
       "      <th>mail_return_rate2010</th>\n",
       "      <th>jobs_total_5mi_2015</th>\n",
       "      <th>jobs_highpay_5mi_2015</th>\n",
       "      <th>nonwhite_share2010</th>\n",
       "      <th>popdensity2010</th>\n",
       "      <th>ann_avg_job_growth_2004_2013</th>\n",
       "      <th>job_density_2013</th>\n",
       "      <th>outcome</th>\n",
       "    </tr>\n",
       "  </thead>\n",
       "  <tbody>\n",
       "    <tr>\n",
       "      <th>0</th>\n",
       "      <td>20100-1-1</td>\n",
       "      <td>68638.727</td>\n",
       "      <td>26.171911</td>\n",
       "      <td>0.254428</td>\n",
       "      <td>0.156479</td>\n",
       "      <td>0.009950</td>\n",
       "      <td>66000.0</td>\n",
       "      <td>27375.0</td>\n",
       "      <td>195.72380</td>\n",
       "      <td>0.105030</td>\n",
       "      <td>...</td>\n",
       "      <td>0.273034</td>\n",
       "      <td>0.567308</td>\n",
       "      <td>83.500000</td>\n",
       "      <td>10109.0</td>\n",
       "      <td>3396.0</td>\n",
       "      <td>0.162657</td>\n",
       "      <td>504.75183</td>\n",
       "      <td>-0.006769</td>\n",
       "      <td>92.133049</td>\n",
       "      <td>0</td>\n",
       "    </tr>\n",
       "    <tr>\n",
       "      <th>1</th>\n",
       "      <td>20200-1-1</td>\n",
       "      <td>57242.512</td>\n",
       "      <td>24.806705</td>\n",
       "      <td>0.267194</td>\n",
       "      <td>0.146932</td>\n",
       "      <td>0.016337</td>\n",
       "      <td>41107.0</td>\n",
       "      <td>19000.0</td>\n",
       "      <td>566.38141</td>\n",
       "      <td>0.147590</td>\n",
       "      <td>...</td>\n",
       "      <td>0.152040</td>\n",
       "      <td>0.493169</td>\n",
       "      <td>81.300003</td>\n",
       "      <td>9948.0</td>\n",
       "      <td>3328.0</td>\n",
       "      <td>0.611060</td>\n",
       "      <td>1682.17050</td>\n",
       "      <td>-0.004253</td>\n",
       "      <td>971.317870</td>\n",
       "      <td>1</td>\n",
       "    </tr>\n",
       "    <tr>\n",
       "      <th>2</th>\n",
       "      <td>20300-1-1</td>\n",
       "      <td>75647.727</td>\n",
       "      <td>25.322525</td>\n",
       "      <td>0.164159</td>\n",
       "      <td>0.224413</td>\n",
       "      <td>0.027096</td>\n",
       "      <td>51250.0</td>\n",
       "      <td>29419.0</td>\n",
       "      <td>624.19684</td>\n",
       "      <td>0.080385</td>\n",
       "      <td>...</td>\n",
       "      <td>0.205534</td>\n",
       "      <td>0.578560</td>\n",
       "      <td>79.500000</td>\n",
       "      <td>10387.0</td>\n",
       "      <td>3230.0</td>\n",
       "      <td>0.247554</td>\n",
       "      <td>1633.41390</td>\n",
       "      <td>0.014218</td>\n",
       "      <td>340.920070</td>\n",
       "      <td>0</td>\n",
       "    </tr>\n",
       "    <tr>\n",
       "      <th>3</th>\n",
       "      <td>20400-1-1</td>\n",
       "      <td>74852.055</td>\n",
       "      <td>22.965347</td>\n",
       "      <td>0.252744</td>\n",
       "      <td>0.230469</td>\n",
       "      <td>0.015083</td>\n",
       "      <td>52704.0</td>\n",
       "      <td>37891.0</td>\n",
       "      <td>713.80396</td>\n",
       "      <td>0.063223</td>\n",
       "      <td>...</td>\n",
       "      <td>0.350673</td>\n",
       "      <td>0.596501</td>\n",
       "      <td>83.500000</td>\n",
       "      <td>12933.0</td>\n",
       "      <td>3635.0</td>\n",
       "      <td>0.081167</td>\n",
       "      <td>1780.03250</td>\n",
       "      <td>-0.019841</td>\n",
       "      <td>207.386370</td>\n",
       "      <td>0</td>\n",
       "    </tr>\n",
       "    <tr>\n",
       "      <th>4</th>\n",
       "      <td>20500-1-1</td>\n",
       "      <td>96174.766</td>\n",
       "      <td>26.222353</td>\n",
       "      <td>0.375063</td>\n",
       "      <td>0.321154</td>\n",
       "      <td>0.046488</td>\n",
       "      <td>52463.0</td>\n",
       "      <td>41516.0</td>\n",
       "      <td>529.93030</td>\n",
       "      <td>0.059569</td>\n",
       "      <td>...</td>\n",
       "      <td>0.250496</td>\n",
       "      <td>0.661268</td>\n",
       "      <td>77.300003</td>\n",
       "      <td>12933.0</td>\n",
       "      <td>3635.0</td>\n",
       "      <td>0.216236</td>\n",
       "      <td>2446.26220</td>\n",
       "      <td>0.018627</td>\n",
       "      <td>800.272640</td>\n",
       "      <td>0</td>\n",
       "    </tr>\n",
       "  </tbody>\n",
       "</table>\n",
       "<p>5 rows × 33 columns</p>\n",
       "</div>"
      ],
      "text/plain": [
       "          id  hhinc_mean2000  mean_commutetime2000  frac_coll_plus2010  \\\n",
       "0  20100-1-1       68638.727             26.171911            0.254428   \n",
       "1  20200-1-1       57242.512             24.806705            0.267194   \n",
       "2  20300-1-1       75647.727             25.322525            0.164159   \n",
       "3  20400-1-1       74852.055             22.965347            0.252744   \n",
       "4  20500-1-1       96174.766             26.222353            0.375063   \n",
       "\n",
       "   frac_coll_plus2000  foreign_share2010  med_hhinc2016  med_hhinc1990  \\\n",
       "0            0.156479           0.009950        66000.0        27375.0   \n",
       "1            0.146932           0.016337        41107.0        19000.0   \n",
       "2            0.224413           0.027096        51250.0        29419.0   \n",
       "3            0.230469           0.015083        52704.0        37891.0   \n",
       "4            0.321154           0.046488        52463.0        41516.0   \n",
       "\n",
       "   popdensity2000  poor_share2010  ...  traveltime15_2010   emp2000  \\\n",
       "0       195.72380        0.105030  ...           0.273034  0.567308   \n",
       "1       566.38141        0.147590  ...           0.152040  0.493169   \n",
       "2       624.19684        0.080385  ...           0.205534  0.578560   \n",
       "3       713.80396        0.063223  ...           0.350673  0.596501   \n",
       "4       529.93030        0.059569  ...           0.250496  0.661268   \n",
       "\n",
       "   mail_return_rate2010  jobs_total_5mi_2015  jobs_highpay_5mi_2015  \\\n",
       "0             83.500000              10109.0                 3396.0   \n",
       "1             81.300003               9948.0                 3328.0   \n",
       "2             79.500000              10387.0                 3230.0   \n",
       "3             83.500000              12933.0                 3635.0   \n",
       "4             77.300003              12933.0                 3635.0   \n",
       "\n",
       "   nonwhite_share2010  popdensity2010  ann_avg_job_growth_2004_2013  \\\n",
       "0            0.162657       504.75183                     -0.006769   \n",
       "1            0.611060      1682.17050                     -0.004253   \n",
       "2            0.247554      1633.41390                      0.014218   \n",
       "3            0.081167      1780.03250                     -0.019841   \n",
       "4            0.216236      2446.26220                      0.018627   \n",
       "\n",
       "   job_density_2013  outcome  \n",
       "0         92.133049        0  \n",
       "1        971.317870        1  \n",
       "2        340.920070        0  \n",
       "3        207.386370        0  \n",
       "4        800.272640        0  \n",
       "\n",
       "[5 rows x 33 columns]"
      ]
     },
     "execution_count": 26,
     "metadata": {},
     "output_type": "execute_result"
    }
   ],
   "source": [
    "# merge dataframes\n",
    "df = pd.merge(df, df3, on='id')\n",
    "df.head()"
   ]
  },
  {
   "cell_type": "code",
   "execution_count": 27,
   "metadata": {},
   "outputs": [
    {
     "data": {
      "text/plain": [
       "id                              0.000000\n",
       "hhinc_mean2000                  1.331914\n",
       "mean_commutetime2000            1.316903\n",
       "frac_coll_plus2010              0.388930\n",
       "frac_coll_plus2000              1.275963\n",
       "foreign_share2010               1.363301\n",
       "med_hhinc2016                   0.702803\n",
       "med_hhinc1990                   1.316903\n",
       "popdensity2000                  1.104015\n",
       "poor_share2010                  0.470810\n",
       "poor_share2000                  1.314173\n",
       "poor_share1990                  1.303256\n",
       "share_black2010                 0.227899\n",
       "share_hisp2010                  0.227899\n",
       "share_asian2010                 1.819100\n",
       "share_black2000                 1.241846\n",
       "share_white2000                 1.241846\n",
       "share_hisp2000                  1.241846\n",
       "share_asian2000                 3.040476\n",
       "gsmn_math_g3_2013               1.621223\n",
       "singleparent_share2010          0.974372\n",
       "singleparent_share1990          1.476569\n",
       "singleparent_share2000          1.355113\n",
       "traveltime15_2010               0.462622\n",
       "emp2000                         1.274598\n",
       "mail_return_rate2010            0.997571\n",
       "jobs_total_5mi_2015             1.319632\n",
       "jobs_highpay_5mi_2015           1.319632\n",
       "nonwhite_share2010              0.227899\n",
       "popdensity2010                  0.114632\n",
       "ann_avg_job_growth_2004_2013    3.567237\n",
       "job_density_2013                1.112203\n",
       "outcome                         0.000000\n",
       "dtype: float64"
      ]
     },
     "execution_count": 27,
     "metadata": {},
     "output_type": "execute_result"
    }
   ],
   "source": [
    "# check percentage of NaNs\n",
    "df.isna().sum()/len(df)*100"
   ]
  },
  {
   "cell_type": "code",
   "execution_count": 28,
   "metadata": {},
   "outputs": [],
   "source": [
    "# drop rows with NaNs\n",
    "df = df.dropna()"
   ]
  },
  {
   "cell_type": "code",
   "execution_count": 29,
   "metadata": {},
   "outputs": [
    {
     "data": {
      "text/plain": [
       "(67395, 33)"
      ]
     },
     "execution_count": 29,
     "metadata": {},
     "output_type": "execute_result"
    }
   ],
   "source": [
    "# check lenght of rows and columns\n",
    "df.shape"
   ]
  },
  {
   "cell_type": "code",
   "execution_count": 30,
   "metadata": {},
   "outputs": [
    {
     "data": {
      "text/plain": [
       "0    59.008829\n",
       "1    40.991171\n",
       "Name: outcome, dtype: float64"
      ]
     },
     "execution_count": 30,
     "metadata": {},
     "output_type": "execute_result"
    }
   ],
   "source": [
    "# check balance of target after drop of NaNs\n",
    "df.outcome.value_counts()/len(df.outcome)*100"
   ]
  },
  {
   "cell_type": "code",
   "execution_count": 31,
   "metadata": {},
   "outputs": [
    {
     "data": {
      "text/plain": [
       "<matplotlib.axes._subplots.AxesSubplot at 0x1212ce9b0>"
      ]
     },
     "execution_count": 31,
     "metadata": {},
     "output_type": "execute_result"
    },
    {
     "data": {
      "image/png": "[encoded data removed]",
      "text/plain": [
       "<Figure size 792x648 with 2 Axes>"
      ]
     },
     "metadata": {
      "needs_background": "light"
     },
     "output_type": "display_data"
    }
   ],
   "source": [
    "# Compute the correlation matrix\n",
    "corr = df.corr()\n",
    "\n",
    "# Generate a mask for the upper triangle\n",
    "mask = np.zeros_like(corr, dtype=np.bool)\n",
    "mask[np.triu_indices_from(mask)] = True\n",
    "\n",
    "# Set up the matplotlib figure\n",
    "f, ax = plt.subplots(figsize=(11, 9))\n",
    "\n",
    "# Generate a custom diverging colormap\n",
    "cmap = sns.diverging_palette(220, 10, as_cmap=True)\n",
    "\n",
    "# Draw the heatmap with the mask and correct aspect ratio\n",
    "sns.heatmap(corr, mask=mask, cmap=cmap, vmax=.3, center=0,\n",
    "            square=True, linewidths=.5, cbar_kws={\"shrink\": .5})"
   ]
  },
  {
   "cell_type": "code",
   "execution_count": 32,
   "metadata": {},
   "outputs": [],
   "source": [
    "# define target variable\n",
    "target = df.outcome"
   ]
  },
  {
   "cell_type": "code",
   "execution_count": 33,
   "metadata": {},
   "outputs": [],
   "source": [
    "# define features\n",
    "features = df.iloc[:,1:32]"
   ]
  },
  {
   "cell_type": "code",
   "execution_count": 34,
   "metadata": {},
   "outputs": [],
   "source": [
    "# split the data into train and test\n",
    "X_train, X_test, y_train, y_test = train_test_split(features, target, test_size=0.4, random_state=42)"
   ]
  },
  {
   "cell_type": "code",
   "execution_count": 35,
   "metadata": {},
   "outputs": [
    {
     "data": {
      "text/plain": [
       "DecisionTreeClassifier(class_weight=None, criterion='entropy', max_depth=None,\n",
       "            max_features=None, max_leaf_nodes=None,\n",
       "            min_impurity_decrease=0.0, min_impurity_split=None,\n",
       "            min_samples_leaf=1, min_samples_split=2,\n",
       "            min_weight_fraction_leaf=0.0, presort=False, random_state=42,\n",
       "            splitter='best')"
      ]
     },
     "execution_count": 35,
     "metadata": {},
     "output_type": "execute_result"
    }
   ],
   "source": [
    "# create a base decision tree\n",
    "dt = DecisionTreeClassifier(criterion='entropy', random_state=42)\n",
    "dt.fit(X_train, y_train)"
   ]
  },
  {
   "cell_type": "code",
   "execution_count": 36,
   "metadata": {},
   "outputs": [
    {
     "data": {
      "text/plain": [
       "0.7994184218696606"
      ]
     },
     "execution_count": 36,
     "metadata": {},
     "output_type": "execute_result"
    }
   ],
   "source": [
    "# Make predictions using test set \n",
    "y_pred = dt.predict(X_test)\n",
    "\n",
    "# Check the AUC of predictions\n",
    "false_positive_rate, true_positive_rate, thresholds = roc_curve(y_test, y_pred)\n",
    "roc_auc = auc(false_positive_rate, true_positive_rate)\n",
    "roc_auc"
   ]
  },
  {
   "cell_type": "code",
   "execution_count": 64,
   "metadata": {},
   "outputs": [
    {
     "name": "stdout",
     "output_type": "stream",
     "text": [
      "Accuracy is :80.66251205579049\n",
      "\n",
      "AUC is :0.8\n",
      "\n",
      "Confusion Matrix\n",
      "----------------\n"
     ]
    },
    {
     "data": {
      "text/html": [
       "<div>\n",
       "<style scoped>\n",
       "    .dataframe tbody tr th:only-of-type {\n",
       "        vertical-align: middle;\n",
       "    }\n",
       "\n",
       "    .dataframe tbody tr th {\n",
       "        vertical-align: top;\n",
       "    }\n",
       "\n",
       "    .dataframe thead th {\n",
       "        text-align: right;\n",
       "    }\n",
       "</style>\n",
       "<table border=\"1\" class=\"dataframe\">\n",
       "  <thead>\n",
       "    <tr style=\"text-align: right;\">\n",
       "      <th>Predicted</th>\n",
       "      <th>0</th>\n",
       "      <th>1</th>\n",
       "      <th>All</th>\n",
       "    </tr>\n",
       "    <tr>\n",
       "      <th>True</th>\n",
       "      <th></th>\n",
       "      <th></th>\n",
       "      <th></th>\n",
       "    </tr>\n",
       "  </thead>\n",
       "  <tbody>\n",
       "    <tr>\n",
       "      <th>0</th>\n",
       "      <td>13266</td>\n",
       "      <td>2527</td>\n",
       "      <td>15793</td>\n",
       "    </tr>\n",
       "    <tr>\n",
       "      <th>1</th>\n",
       "      <td>2686</td>\n",
       "      <td>8479</td>\n",
       "      <td>11165</td>\n",
       "    </tr>\n",
       "    <tr>\n",
       "      <th>All</th>\n",
       "      <td>15952</td>\n",
       "      <td>11006</td>\n",
       "      <td>26958</td>\n",
       "    </tr>\n",
       "  </tbody>\n",
       "</table>\n",
       "</div>"
      ],
      "text/plain": [
       "Predicted      0      1    All\n",
       "True                          \n",
       "0          13266   2527  15793\n",
       "1           2686   8479  11165\n",
       "All        15952  11006  26958"
      ]
     },
     "execution_count": 64,
     "metadata": {},
     "output_type": "execute_result"
    }
   ],
   "source": [
    "# Calculate accuracy \n",
    "acc = accuracy_score(y_test,y_pred) * 100\n",
    "print('Accuracy is :{0}'.format(acc))\n",
    "\n",
    "# Check the AUC for predictions\n",
    "false_positive_rate, true_positive_rate, thresholds = roc_curve(y_test, y_pred)\n",
    "roc_auc = auc(false_positive_rate, true_positive_rate)\n",
    "print('\\nAUC is :{0}'.format(round(roc_auc, 2)))\n",
    "\n",
    "# Create and print a confusion matrix \n",
    "print('\\nConfusion Matrix')\n",
    "print('----------------')\n",
    "pd.crosstab(y_test, y_pred, rownames=['True'], colnames=['Predicted'], margins=True)"
   ]
  },
  {
   "cell_type": "code",
   "execution_count": 37,
   "metadata": {},
   "outputs": [
    {
     "data": {
      "image/png": "[encoded data removed]",
      "text/plain": [
       "<Figure size 864x432 with 1 Axes>"
      ]
     },
     "metadata": {
      "needs_background": "light"
     },
     "output_type": "display_data"
    }
   ],
   "source": [
    "# Identify the optimal tree depth for given data\n",
    "max_depths = np.linspace(1, 32, 32, endpoint=True)\n",
    "train_results = []\n",
    "test_results = []\n",
    "for max_depth in max_depths:\n",
    "   dt = DecisionTreeClassifier(criterion='entropy', max_depth=max_depth, random_state=42)\n",
    "   dt.fit(X_train, y_train)\n",
    "   train_pred = dt.predict(X_train)\n",
    "   false_positive_rate, true_positive_rate, thresholds = roc_curve(y_train, train_pred)\n",
    "   roc_auc = auc(false_positive_rate, true_positive_rate)\n",
    "   # Add auc score to previous train results\n",
    "   train_results.append(roc_auc)\n",
    "   y_pred = dt.predict(X_test)\n",
    "   false_positive_rate, true_positive_rate, thresholds = roc_curve(y_test, y_pred)\n",
    "   roc_auc = auc(false_positive_rate, true_positive_rate)\n",
    "   # Add auc score to previous test results\n",
    "   test_results.append(roc_auc)\n",
    "\n",
    "plt.figure(figsize=(12,6))\n",
    "plt.plot(max_depths, train_results, 'b', label='Train AUC')\n",
    "plt.plot(max_depths, test_results, 'r', label='Test AUC')\n",
    "plt.ylabel('AUC score')\n",
    "plt.xlabel('Tree depth')\n",
    "plt.legend()\n",
    "plt.show()"
   ]
  },
  {
   "cell_type": "markdown",
   "metadata": {},
   "source": [
    "From this graph we can infere that the maximum depth we should be working with is 5-6."
   ]
  },
  {
   "cell_type": "code",
   "execution_count": 38,
   "metadata": {},
   "outputs": [
    {
     "data": {
      "image/png": "[encoded data removed]",
      "text/plain": [
       "<Figure size 864x432 with 1 Axes>"
      ]
     },
     "metadata": {
      "needs_background": "light"
     },
     "output_type": "display_data"
    }
   ],
   "source": [
    "# Identify the optimal min-samples-split for given data\n",
    "min_samples_splits = np.linspace(0.1, 1.0, 10, endpoint=True)\n",
    "train_results = []\n",
    "test_results = []\n",
    "for min_samples_split in min_samples_splits:\n",
    "   dt = DecisionTreeClassifier(criterion='entropy', min_samples_split=min_samples_split, random_state=42)\n",
    "   dt.fit(X_train, y_train)\n",
    "   train_pred = dt.predict(X_train)\n",
    "   false_positive_rate, true_positive_rate, thresholds =    roc_curve(y_train, train_pred)\n",
    "   roc_auc = auc(false_positive_rate, true_positive_rate)\n",
    "   train_results.append(roc_auc)\n",
    "   y_pred = dt.predict(X_test)\n",
    "   false_positive_rate, true_positive_rate, thresholds = roc_curve(y_test, y_pred)\n",
    "   roc_auc = auc(false_positive_rate, true_positive_rate)\n",
    "   test_results.append(roc_auc)\n",
    "\n",
    "plt.figure(figsize=(12,6))\n",
    "plt.plot(min_samples_splits, train_results, 'b', label='Train AUC')\n",
    "plt.plot(min_samples_splits, test_results, 'r', label='Test AUC')\n",
    "plt.xlabel('Min. Sample splits')\n",
    "plt.legend()\n",
    "plt.show()"
   ]
  },
  {
   "cell_type": "markdown",
   "metadata": {},
   "source": [
    "The minimum sample splits stabilizes at 0.6. Let's check the sample leafs."
   ]
  },
  {
   "cell_type": "code",
   "execution_count": 39,
   "metadata": {},
   "outputs": [
    {
     "data": {
      "image/png": "[encoded data removed]",
      "text/plain": [
       "<Figure size 864x432 with 1 Axes>"
      ]
     },
     "metadata": {
      "needs_background": "light"
     },
     "output_type": "display_data"
    }
   ],
   "source": [
    "# Calculate the optimal value for minimum sample leafs\n",
    "min_samples_leafs = np.linspace(0.1, 0.5, 5, endpoint=True)\n",
    "train_results = []\n",
    "test_results = []\n",
    "for min_samples_leaf in min_samples_leafs:\n",
    "   dt = DecisionTreeClassifier(criterion='entropy', min_samples_leaf=min_samples_leaf, random_state=42)\n",
    "   dt.fit(X_train, y_train)\n",
    "   train_pred = dt.predict(X_train)\n",
    "   false_positive_rate, true_positive_rate, thresholds = roc_curve(y_train, train_pred)\n",
    "   roc_auc = auc(false_positive_rate, true_positive_rate)\n",
    "   train_results.append(roc_auc)\n",
    "   y_pred = dt.predict(X_test)\n",
    "   false_positive_rate, true_positive_rate, thresholds = roc_curve(y_test, y_pred)\n",
    "   roc_auc = auc(false_positive_rate, true_positive_rate)\n",
    "   test_results.append(roc_auc)\n",
    "    \n",
    "plt.figure(figsize=(12,6))    \n",
    "plt.plot(min_samples_leafs, train_results, 'b', label='Train AUC')\n",
    "plt.plot(min_samples_leafs, test_results, 'r', label='Test AUC')\n",
    "plt.ylabel('AUC score')\n",
    "plt.xlabel('Min. Sample Leafs')\n",
    "plt.legend()\n",
    "plt.show()\n"
   ]
  },
  {
   "cell_type": "markdown",
   "metadata": {},
   "source": [
    "Our accuracy decreases after 0.4."
   ]
  },
  {
   "cell_type": "code",
   "execution_count": 40,
   "metadata": {},
   "outputs": [
    {
     "data": {
      "image/png": "[encoded data removed]",
      "text/plain": [
       "<Figure size 864x432 with 1 Axes>"
      ]
     },
     "metadata": {
      "needs_background": "light"
     },
     "output_type": "display_data"
    }
   ],
   "source": [
    "# Find the best value for optimal maximum feature size\n",
    "max_features = list(range(1, X_train.shape[1]))\n",
    "train_results = []\n",
    "test_results = []\n",
    "for max_feature in max_features:\n",
    "   dt = DecisionTreeClassifier(criterion='entropy', max_features=max_feature, random_state=42)\n",
    "   dt.fit(X_train, y_train)\n",
    "   train_pred = dt.predict(X_train)\n",
    "   false_positive_rate, true_positive_rate, thresholds = roc_curve(y_train, train_pred)\n",
    "   roc_auc = auc(false_positive_rate, true_positive_rate)\n",
    "   train_results.append(roc_auc)\n",
    "   y_pred = dt.predict(X_test)\n",
    "   false_positive_rate, true_positive_rate, thresholds = roc_curve(y_test, y_pred)\n",
    "   roc_auc = auc(false_positive_rate, true_positive_rate)\n",
    "   test_results.append(roc_auc)\n",
    "\n",
    "plt.figure(figsize=(12,6))\n",
    "plt.plot(max_features, train_results, 'b', label='Train AUC')\n",
    "plt.plot(max_features, test_results, 'r', label='Test AUC')\n",
    "plt.ylabel('AUC score')\n",
    "plt.xlabel('max features')\n",
    "plt.legend()\n",
    "plt.show()"
   ]
  },
  {
   "cell_type": "markdown",
   "metadata": {},
   "source": [
    "Not much variation and the highest points seem to be achieved at around 7 features only."
   ]
  },
  {
   "cell_type": "code",
   "execution_count": 41,
   "metadata": {},
   "outputs": [
    {
     "data": {
      "text/plain": [
       "0.7997095909066948"
      ]
     },
     "execution_count": 41,
     "metadata": {},
     "output_type": "execute_result"
    }
   ],
   "source": [
    "# Train a classifier with optimal values identified above\n",
    "dt = DecisionTreeClassifier(criterion='entropy',\n",
    "                           max_features=27,\n",
    "                           max_depth=6,\n",
    "                           min_samples_split=0.6,\n",
    "                           min_samples_leaf=0.4, \n",
    "                           random_state=42)\n",
    "dt.fit(X_train, y_train)\n",
    "false_positive_rate, true_positive_rate, thresholds = roc_curve(y_test, y_pred)\n",
    "roc_auc = auc(false_positive_rate, true_positive_rate)\n",
    "roc_auc"
   ]
  },
  {
   "cell_type": "code",
   "execution_count": 42,
   "metadata": {},
   "outputs": [],
   "source": [
    "# decision tree model with PCA in a pipeline\n",
    "pipe3 = Pipeline([('pca', PCA(n_components=27)),\n",
    "        ('clf', tree.DecisionTreeClassifier(random_state=42))])"
   ]
  },
  {
   "cell_type": "code",
   "execution_count": 43,
   "metadata": {},
   "outputs": [
    {
     "data": {
      "text/plain": [
       "Pipeline(memory=None,\n",
       "     steps=[('pca', PCA(copy=True, iterated_power='auto', n_components=27, random_state=None,\n",
       "  svd_solver='auto', tol=0.0, whiten=False)), ('clf', DecisionTreeClassifier(class_weight=None, criterion='gini', max_depth=None,\n",
       "            max_features=None, max_leaf_nodes=None,\n",
       "            min_impurity_decrease=0.0, min_impurity_split=None,\n",
       "            min_samples_leaf=1, min_samples_split=2,\n",
       "            min_weight_fraction_leaf=0.0, presort=False, random_state=42,\n",
       "            splitter='best'))])"
      ]
     },
     "execution_count": 43,
     "metadata": {},
     "output_type": "execute_result"
    }
   ],
   "source": [
    "# fit the model\n",
    "pipe3.fit(X_train, y_train)"
   ]
  },
  {
   "cell_type": "code",
   "execution_count": 44,
   "metadata": {},
   "outputs": [
    {
     "data": {
      "text/plain": [
       "1.0"
      ]
     },
     "execution_count": 44,
     "metadata": {},
     "output_type": "execute_result"
    }
   ],
   "source": [
    "# train score\n",
    "pipe3.score(X_train, y_train)"
   ]
  },
  {
   "cell_type": "code",
   "execution_count": 45,
   "metadata": {
    "scrolled": true
   },
   "outputs": [
    {
     "data": {
      "text/plain": [
       "0.7940129089695082"
      ]
     },
     "execution_count": 45,
     "metadata": {},
     "output_type": "execute_result"
    }
   ],
   "source": [
    "# test score\n",
    "pipe3.score(X_test, y_test)"
   ]
  },
  {
   "cell_type": "markdown",
   "metadata": {},
   "source": [
    "We only see a very slight improvement in our Decision Tree. Let's try an ensemble method - a Random Forest."
   ]
  },
  {
   "cell_type": "code",
   "execution_count": 46,
   "metadata": {},
   "outputs": [
    {
     "data": {
      "text/plain": [
       "RandomForestClassifier(bootstrap=True, class_weight=None, criterion='gini',\n",
       "            max_depth=6, max_features='auto', max_leaf_nodes=None,\n",
       "            min_impurity_decrease=0.0, min_impurity_split=None,\n",
       "            min_samples_leaf=1, min_samples_split=2,\n",
       "            min_weight_fraction_leaf=0.0, n_estimators=100, n_jobs=None,\n",
       "            oob_score=False, random_state=None, verbose=0,\n",
       "            warm_start=False)"
      ]
     },
     "execution_count": 46,
     "metadata": {},
     "output_type": "execute_result"
    }
   ],
   "source": [
    "# Instantiate and fit a RandomForestClassifier - base model\n",
    "forest = RandomForestClassifier(n_estimators=100, max_depth=6)\n",
    "forest.fit(X_train, y_train)"
   ]
  },
  {
   "cell_type": "code",
   "execution_count": 47,
   "metadata": {},
   "outputs": [
    {
     "data": {
      "text/plain": [
       "0.8597076934490689"
      ]
     },
     "execution_count": 47,
     "metadata": {},
     "output_type": "execute_result"
    }
   ],
   "source": [
    "# check training accuracy score\n",
    "forest.score(X_train, y_train)"
   ]
  },
  {
   "cell_type": "code",
   "execution_count": 48,
   "metadata": {},
   "outputs": [
    {
     "data": {
      "text/plain": [
       "0.8506194821574301"
      ]
     },
     "execution_count": 48,
     "metadata": {},
     "output_type": "execute_result"
    }
   ],
   "source": [
    "# check test accuracy score\n",
    "forest.score(X_test, y_test)"
   ]
  },
  {
   "cell_type": "code",
   "execution_count": 49,
   "metadata": {
    "scrolled": false
   },
   "outputs": [
    {
     "data": {
      "image/png": "[encoded data removed]",
      "text/plain": [
       "<Figure size 576x576 with 1 Axes>"
      ]
     },
     "metadata": {
      "needs_background": "light"
     },
     "output_type": "display_data"
    }
   ],
   "source": [
    "# plot and check feature importance\n",
    "def plot_feature_importances(model):\n",
    "    n_features = X_train.shape[1]\n",
    "    plt.figure(figsize=(14,8))\n",
    "    plt.barh(range(n_features), model.feature_importances_, align='center') \n",
    "    plt.yticks(np.arange(n_features), X_train.columns.values) \n",
    "    plt.xlabel('Feature importance')\n",
    "    plt.ylabel('Feature')\n",
    "\n",
    "plot_feature_importances(forest)"
   ]
  },
  {
   "cell_type": "code",
   "execution_count": 50,
   "metadata": {},
   "outputs": [
    {
     "data": {
      "text/plain": [
       "GridSearchCV(cv=3, error_score='raise-deprecating',\n",
       "       estimator=Pipeline(memory=None,\n",
       "     steps=[('clf', RandomForestClassifier(bootstrap=True, class_weight=None, criterion='gini',\n",
       "            max_depth=None, max_features='auto', max_leaf_nodes=None,\n",
       "            min_impurity_decrease=0.0, min_impurity_split=None,\n",
       "            min_samples_leaf=1, min_samples_split=2,\n",
       "            min_weight_fraction_leaf=0.0, n_estimators='warn', n_jobs=None,\n",
       "            oob_score=False, random_state=42, verbose=0, warm_start=False))]),\n",
       "       fit_params=None, iid='warn', n_jobs=None,\n",
       "       param_grid=[{'clf__n_estimators': [120], 'clf__criterion': ['entropy', 'gini'], 'clf__max_depth': [4, 5, 6], 'clf__min_samples_leaf': [0.05, 0.1, 0.2], 'clf__min_samples_split': [0.05, 0.1, 0.2]}],\n",
       "       pre_dispatch='2*n_jobs', refit=True, return_train_score=True,\n",
       "       scoring='accuracy', verbose=0)"
      ]
     },
     "execution_count": 50,
     "metadata": {},
     "output_type": "execute_result"
    }
   ],
   "source": [
    "# use a pipeline with grid search\n",
    "pipe_rf = Pipeline([('clf', RandomForestClassifier(random_state=42))])\n",
    "\n",
    "# Set grid search params\n",
    "param_grid_forest = [ \n",
    "  {'clf__n_estimators': [120],\n",
    "   'clf__criterion': ['entropy', 'gini'], \n",
    "   'clf__max_depth': [4, 5, 6],  \n",
    "   'clf__min_samples_leaf':[0.05 ,0.1, 0.2],  \n",
    "   'clf__min_samples_split':[0.05 ,0.1, 0.2]\n",
    "  }\n",
    "]\n",
    "\n",
    "# Construct grid search\n",
    "gs_rf = GridSearchCV(estimator=pipe_rf,\n",
    "            param_grid=param_grid_forest,\n",
    "            scoring='accuracy',\n",
    "            cv=3, return_train_score = True)\n",
    "\n",
    "# Fit using grid search\n",
    "gs_rf.fit(X_train, y_train)"
   ]
  },
  {
   "cell_type": "code",
   "execution_count": 51,
   "metadata": {},
   "outputs": [
    {
     "name": "stdout",
     "output_type": "stream",
     "text": [
      "Best accuracy: 0.828\n",
      "\n",
      "Best params:\n",
      " {'clf__criterion': 'entropy', 'clf__max_depth': 4, 'clf__min_samples_leaf': 0.05, 'clf__min_samples_split': 0.05, 'clf__n_estimators': 120}\n"
     ]
    }
   ],
   "source": [
    "# Best accuracy\n",
    "print('Best accuracy: %.3f' % gs_rf.best_score_)\n",
    "\n",
    "# Best params\n",
    "print('\\nBest params:\\n', gs_rf.best_params_)"
   ]
  },
  {
   "cell_type": "code",
   "execution_count": 52,
   "metadata": {},
   "outputs": [
    {
     "data": {
      "text/plain": [
       "0.8249128273610802"
      ]
     },
     "execution_count": 52,
     "metadata": {},
     "output_type": "execute_result"
    }
   ],
   "source": [
    "gs_rf.score(X_test, y_test)"
   ]
  },
  {
   "cell_type": "code",
   "execution_count": null,
   "metadata": {},
   "outputs": [],
   "source": [
    "# Import tools needed for visualization\n",
    "from sklearn.tree import export_graphviz\n",
    "import pydot\n",
    "# Pull out one tree from the forest\n",
    "tree = gs_rf.estimators_[5]\n",
    "# Export the image to a dot file\n",
    "export_graphviz(tree, out_file = 'tree.dot', feature_names = feature_list, rounded = True, precision = 1)\n",
    "# Use dot file to create a graph\n",
    "(graph, ) = pydot.graph_from_dot_file('tree.dot')\n",
    "# Write graph to a png file\n",
    "graph.write_png('tree.png')"
   ]
  },
  {
   "cell_type": "code",
   "execution_count": null,
   "metadata": {},
   "outputs": [],
   "source": [
    "# Get numerical feature importances\n",
    "importances = list(gs_rf.feature_importances_)\n",
    "# List of tuples with variable and importance\n",
    "feature_importances = [(feature, round(importance, 2)) for feature, importance in zip(feature_list, importances)]\n",
    "# Sort the feature importances by most important first\n",
    "feature_importances = sorted(feature_importances, key = lambda x: x[1], reverse = True)\n",
    "# Print out the feature and importances \n",
    "[print('Variable: {:20} Importance: {}'.format(*pair)) for pair in feature_importances];"
   ]
  },
  {
   "cell_type": "markdown",
   "metadata": {},
   "source": [
    "This is better than a single decision tree for sure, but maybe we should try another type of model instead of Random Forest. Let's see how a Support Vector Machine does."
   ]
  },
  {
   "cell_type": "code",
   "execution_count": 53,
   "metadata": {},
   "outputs": [],
   "source": [
    "# SVM model\n",
    "pipe2 = Pipeline([('scaler', StandardScaler()),\n",
    "                 ('SVM', SVC())])"
   ]
  },
  {
   "cell_type": "code",
   "execution_count": 54,
   "metadata": {},
   "outputs": [
    {
     "data": {
      "text/plain": [
       "Pipeline(memory=None,\n",
       "     steps=[('scaler', StandardScaler(copy=True, with_mean=True, with_std=True)), ('SVM', SVC(C=1.0, cache_size=200, class_weight=None, coef0=0.0,\n",
       "  decision_function_shape='ovr', degree=3, gamma='auto_deprecated',\n",
       "  kernel='rbf', max_iter=-1, probability=False, random_state=None,\n",
       "  shrinking=True, tol=0.001, verbose=False))])"
      ]
     },
     "execution_count": 54,
     "metadata": {},
     "output_type": "execute_result"
    }
   ],
   "source": [
    "# fit the model\n",
    "pipe2.fit(X_train, y_train)"
   ]
  },
  {
   "cell_type": "code",
   "execution_count": 55,
   "metadata": {},
   "outputs": [
    {
     "data": {
      "text/plain": [
       "0.8746939683952816"
      ]
     },
     "execution_count": 55,
     "metadata": {},
     "output_type": "execute_result"
    }
   ],
   "source": [
    "# train score\n",
    "pipe2.score(X_train, y_train)"
   ]
  },
  {
   "cell_type": "code",
   "execution_count": 56,
   "metadata": {
    "scrolled": true
   },
   "outputs": [
    {
     "data": {
      "text/plain": [
       "0.8664589361228577"
      ]
     },
     "execution_count": 56,
     "metadata": {},
     "output_type": "execute_result"
    }
   ],
   "source": [
    "# test score\n",
    "pipe2.score(X_test, y_test)"
   ]
  },
  {
   "cell_type": "code",
   "execution_count": 57,
   "metadata": {},
   "outputs": [],
   "source": [
    "scores = cross_val_score(pipe2, features, target, cv=3)"
   ]
  },
  {
   "cell_type": "code",
   "execution_count": 58,
   "metadata": {},
   "outputs": [
    {
     "name": "stdout",
     "output_type": "stream",
     "text": [
      "Accuracy: 0.85 (+/- 0.01)\n"
     ]
    }
   ],
   "source": [
    "print(\"Accuracy: %0.2f (+/- %0.2f)\" % (scores.mean(), scores.std() * 2))"
   ]
  },
  {
   "cell_type": "code",
   "execution_count": 59,
   "metadata": {},
   "outputs": [
    {
     "name": "stdout",
     "output_type": "stream",
     "text": [
      "Training Accuracy: 86.84%\n",
      "Validation accuracy: 85.99%\n"
     ]
    }
   ],
   "source": [
    "# Instantiate XGBClassifier\n",
    "clf = XGBClassifier()\n",
    "\n",
    "# Fit XGBClassifier\n",
    "clf.fit(X_train, y_train)\n",
    "\n",
    "# Predict on training and test sets\n",
    "training_preds = clf.predict(X_train)\n",
    "test_preds = clf.predict(X_test)\n",
    "\n",
    "# Accuracy of training and test sets\n",
    "training_accuracy = accuracy_score(y_train, training_preds)\n",
    "test_accuracy = accuracy_score(y_test, test_preds)\n",
    "\n",
    "print('Training Accuracy: {:.4}%'.format(training_accuracy * 100))\n",
    "print('Validation accuracy: {:.4}%'.format(test_accuracy * 100))"
   ]
  },
  {
   "cell_type": "code",
   "execution_count": 60,
   "metadata": {},
   "outputs": [],
   "source": [
    "param_grid = {\n",
    "    'learning_rate': [0.1, 0.2],\n",
    "    'max_depth': [6],\n",
    "    'min_child_weight': [1, 2],\n",
    "    'subsample': [0.5, 0.7],\n",
    "    'n_estimators': [100],\n",
    "}"
   ]
  },
  {
   "cell_type": "code",
   "execution_count": 61,
   "metadata": {},
   "outputs": [
    {
     "name": "stdout",
     "output_type": "stream",
     "text": [
      "Grid Search found the following optimal parameters: \n",
      "learning_rate: 0.1\n",
      "max_depth: 6\n",
      "min_child_weight: 1\n",
      "n_estimators: 100\n",
      "subsample: 0.7\n",
      "\n",
      "Training Accuracy: 89.93%\n",
      "Validation accuracy: 86.67%\n"
     ]
    }
   ],
   "source": [
    "grid_clf = GridSearchCV(clf, param_grid, scoring='accuracy', cv=None, n_jobs=1)\n",
    "grid_clf.fit(X_train, y_train)\n",
    "\n",
    "best_parameters = grid_clf.best_params_\n",
    "\n",
    "print('Grid Search found the following optimal parameters: ')\n",
    "for param_name in sorted(best_parameters.keys()):\n",
    "    print('%s: %r' % (param_name, best_parameters[param_name]))\n",
    "\n",
    "training_preds = grid_clf.predict(X_train)\n",
    "test_preds = grid_clf.predict(X_test)\n",
    "training_accuracy = accuracy_score(y_train, training_preds)\n",
    "test_accuracy = accuracy_score(y_test, test_preds)\n",
    "\n",
    "print('')\n",
    "print('Training Accuracy: {:.4}%'.format(training_accuracy * 100))\n",
    "print('Validation accuracy: {:.4}%'.format(test_accuracy * 100))"
   ]
  },
  {
   "cell_type": "markdown",
   "metadata": {},
   "source": [
    "for future work: evaluate by race and gender to see if they are good predictors or even better predictors than other variables"
   ]
  },
  {
   "cell_type": "code",
   "execution_count": 63,
   "metadata": {},
   "outputs": [
    {
     "data": {
      "text/plain": [
       "array([0.85666947, 0.85988427, 0.86215936, 0.85795539, 0.85637272])"
      ]
     },
     "execution_count": 63,
     "metadata": {},
     "output_type": "execute_result"
    }
   ],
   "source": [
    "# cross validation\n",
    "from sklearn.model_selection import ShuffleSplit\n",
    "n_samples = df.shape[0]\n",
    "cv = ShuffleSplit(n_splits=5, test_size=0.3, random_state=42)\n",
    "clf = make_pipeline(preprocessing.StandardScaler(), svm.SVC(C=100))\n",
    "cross_val_score(clf, features, target, cv=cv)"
   ]
  },
  {
   "cell_type": "code",
   "execution_count": null,
   "metadata": {},
   "outputs": [],
   "source": []
  }
 ],
 "metadata": {
  "kernelspec": {
   "display_name": "Python 3",
   "language": "python",
   "name": "python3"
  },
  "language_info": {
   "codemirror_mode": {
    "name": "ipython",
    "version": 3
   },
   "file_extension": ".py",
   "mimetype": "text/x-python",
   "name": "python",
   "nbconvert_exporter": "python",
   "pygments_lexer": "ipython3",
   "version": "3.6.6"
  }
 },
 "nbformat": 4,
 "nbformat_minor": 2
}
