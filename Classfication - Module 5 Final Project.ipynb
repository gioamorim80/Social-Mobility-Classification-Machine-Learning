{
 "cells": [
  {
   "cell_type": "markdown",
   "metadata": {},
   "source": [
    "# Machine Learning Classification  -  Social Mobility at Census Tracts\n",
    "\n",
    "### Flatiron Data Science Bootcamp Module 5 Final Project\n",
    "\n",
    "## 1. Introduction\n",
    "\n",
    "For the Module 5 Final Project of the Flatiron Data Science Bootcamp we were tasked with addressing a problem that we can solve by using a supervised Machine Learning Classification model. We had the freedom to chose our dataset and problem itself for this project, and I chose to work with issues of social inequality. \n",
    "\n",
    "I'm using data made available by [Opportunity Insights](https://opportunityinsights.org/data/), a group of researchers and policy analysts based at Harvard University. I'm using data from two datasets from their project called [The Opportunity Atlas: Mapping the Childhood Roots of Social Mobility](https://opportunityinsights.org/paper/the-opportunity-atlas/). This data allows us to access information on a geographical level (census tracts) regarding many different variables, such as median income, education level, race make up, high paying jobs density and others, while also providing information on median income ranks for parents and children who have been raised in such areas. \n",
    "\n",
    "The make up of neighborhoods where children grow up have an impact, according to the research, on their income as adults - as well as other outcomes which we will not address at this time. \n",
    "\n",
    "_The problem we are looking to solve is:_\n",
    "\n",
    "### Identify areas (census tracts) that provide opportunity for positive social mobility\n",
    "*(based on income of children compared to income of parents). \n",
    "\n",
    "Using the data available we wil train our Machine Learning model to be able to classify each area as providing or not opportunity for social mobility in terms of raise in income level. \n",
    "\n",
    "Such a classification would be helpful to pinpoint the areas where more support/public policies are needed, as well as opportunities areas for low income families to consider moving to, once affordability for each area is crossed with our classification data. The former could be done as a further step if one chooses to continue working in this project. \n",
    "\n",
    "***\n",
    "\n",
    "### 1. Load, clean and prepare data\n",
    "\n",
    "Our first step will be to load, analize and prepare our data for machine learning classification. Let's start by importing all the libraries we will need for this project in one step.\n",
    "\n"
   ]
  },
  {
   "cell_type": "code",
   "execution_count": 1,
   "metadata": {},
   "outputs": [],
   "source": [
    "# import necessary libraries \n",
    "import pandas as pd\n",
    "import matplotlib.pyplot as plt\n",
    "import seaborn as sns\n",
    "import numpy as np\n",
    "from sklearn.model_selection import train_test_split, GridSearchCV, cross_val_score\n",
    "from sklearn.metrics import accuracy_score, confusion_matrix, classification_report, roc_curve, auc, log_loss\n",
    "from sklearn import preprocessing\n",
    "from sklearn.preprocessing import StandardScaler\n",
    "from sklearn import tree\n",
    "from sklearn.tree import DecisionTreeClassifier\n",
    "from sklearn.ensemble import RandomForestClassifier, AdaBoostClassifier, GradientBoostingClassifier\n",
    "from sklearn.neighbors import KNeighborsClassifier\n",
    "from sklearn.svm import SVC, LinearSVC, NuSVC\n",
    "from sklearn.utils import resample\n",
    "from sklearn.pipeline import Pipeline\n",
    "from sklearn.pipeline import make_pipeline\n",
    "from sklearn.decomposition import PCA\n",
    "from sklearn.discriminant_analysis import LinearDiscriminantAnalysis\n",
    "from sklearn.discriminant_analysis import QuadraticDiscriminantAnalysis\n",
    "from xgboost import XGBClassifier\n",
    "import os\n",
    "os.environ['KMP_DUPLICATE_LIB_OK']='True'\n",
    "import warnings\n",
    "warnings.filterwarnings('ignore')\n",
    "%matplotlib inline"
   ]
  },
  {
   "cell_type": "markdown",
   "metadata": {},
   "source": [
    "#### Load variables dataset\n",
    "\n",
    "Our first dataset contains the several different variables we will work with, organized by census tracts. We will load it and analyse it, cleaning any NaNs, eliminating columns that might not be necessary to our analysis and having a look at distributions and outliers as well. "
   ]
  },
  {
   "cell_type": "code",
   "execution_count": 2,
   "metadata": {},
   "outputs": [
    {
     "data": {
      "text/html": [
       "<div>\n",
       "<style scoped>\n",
       "    .dataframe tbody tr th:only-of-type {\n",
       "        vertical-align: middle;\n",
       "    }\n",
       "\n",
       "    .dataframe tbody tr th {\n",
       "        vertical-align: top;\n",
       "    }\n",
       "\n",
       "    .dataframe thead th {\n",
       "        text-align: right;\n",
       "    }\n",
       "</style>\n",
       "<table border=\"1\" class=\"dataframe\">\n",
       "  <thead>\n",
       "    <tr style=\"text-align: right;\">\n",
       "      <th></th>\n",
       "      <th>tract</th>\n",
       "      <th>county</th>\n",
       "      <th>state</th>\n",
       "      <th>hhinc_mean2000</th>\n",
       "      <th>mean_commutetime2000</th>\n",
       "      <th>frac_coll_plus2010</th>\n",
       "      <th>frac_coll_plus2000</th>\n",
       "      <th>foreign_share2010</th>\n",
       "      <th>med_hhinc2016</th>\n",
       "      <th>med_hhinc1990</th>\n",
       "      <th>...</th>\n",
       "      <th>mail_return_rate2010</th>\n",
       "      <th>ln_wage_growth_hs_grad</th>\n",
       "      <th>jobs_total_5mi_2015</th>\n",
       "      <th>jobs_highpay_5mi_2015</th>\n",
       "      <th>nonwhite_share2010</th>\n",
       "      <th>popdensity2010</th>\n",
       "      <th>cz</th>\n",
       "      <th>czname</th>\n",
       "      <th>ann_avg_job_growth_2004_2013</th>\n",
       "      <th>job_density_2013</th>\n",
       "    </tr>\n",
       "  </thead>\n",
       "  <tbody>\n",
       "    <tr>\n",
       "      <th>0</th>\n",
       "      <td>20100</td>\n",
       "      <td>1</td>\n",
       "      <td>1</td>\n",
       "      <td>68638.727</td>\n",
       "      <td>26.171911</td>\n",
       "      <td>0.254428</td>\n",
       "      <td>0.156479</td>\n",
       "      <td>0.009950</td>\n",
       "      <td>66000.0</td>\n",
       "      <td>27375.0</td>\n",
       "      <td>...</td>\n",
       "      <td>83.500000</td>\n",
       "      <td>0.038233</td>\n",
       "      <td>10109.0</td>\n",
       "      <td>3396.0</td>\n",
       "      <td>0.162657</td>\n",
       "      <td>504.75183</td>\n",
       "      <td>11101.0</td>\n",
       "      <td>Montgomery</td>\n",
       "      <td>-0.006769</td>\n",
       "      <td>92.133049</td>\n",
       "    </tr>\n",
       "    <tr>\n",
       "      <th>1</th>\n",
       "      <td>20200</td>\n",
       "      <td>1</td>\n",
       "      <td>1</td>\n",
       "      <td>57242.512</td>\n",
       "      <td>24.806705</td>\n",
       "      <td>0.267194</td>\n",
       "      <td>0.146932</td>\n",
       "      <td>0.016337</td>\n",
       "      <td>41107.0</td>\n",
       "      <td>19000.0</td>\n",
       "      <td>...</td>\n",
       "      <td>81.300003</td>\n",
       "      <td>0.089306</td>\n",
       "      <td>9948.0</td>\n",
       "      <td>3328.0</td>\n",
       "      <td>0.611060</td>\n",
       "      <td>1682.17050</td>\n",
       "      <td>11101.0</td>\n",
       "      <td>Montgomery</td>\n",
       "      <td>-0.004253</td>\n",
       "      <td>971.317870</td>\n",
       "    </tr>\n",
       "    <tr>\n",
       "      <th>2</th>\n",
       "      <td>20300</td>\n",
       "      <td>1</td>\n",
       "      <td>1</td>\n",
       "      <td>75647.727</td>\n",
       "      <td>25.322525</td>\n",
       "      <td>0.164159</td>\n",
       "      <td>0.224413</td>\n",
       "      <td>0.027096</td>\n",
       "      <td>51250.0</td>\n",
       "      <td>29419.0</td>\n",
       "      <td>...</td>\n",
       "      <td>79.500000</td>\n",
       "      <td>-0.177743</td>\n",
       "      <td>10387.0</td>\n",
       "      <td>3230.0</td>\n",
       "      <td>0.247554</td>\n",
       "      <td>1633.41390</td>\n",
       "      <td>11101.0</td>\n",
       "      <td>Montgomery</td>\n",
       "      <td>0.014218</td>\n",
       "      <td>340.920070</td>\n",
       "    </tr>\n",
       "    <tr>\n",
       "      <th>3</th>\n",
       "      <td>20400</td>\n",
       "      <td>1</td>\n",
       "      <td>1</td>\n",
       "      <td>74852.055</td>\n",
       "      <td>22.965347</td>\n",
       "      <td>0.252744</td>\n",
       "      <td>0.230469</td>\n",
       "      <td>0.015083</td>\n",
       "      <td>52704.0</td>\n",
       "      <td>37891.0</td>\n",
       "      <td>...</td>\n",
       "      <td>83.500000</td>\n",
       "      <td>-0.072311</td>\n",
       "      <td>12933.0</td>\n",
       "      <td>3635.0</td>\n",
       "      <td>0.081167</td>\n",
       "      <td>1780.03250</td>\n",
       "      <td>11101.0</td>\n",
       "      <td>Montgomery</td>\n",
       "      <td>-0.019841</td>\n",
       "      <td>207.386370</td>\n",
       "    </tr>\n",
       "    <tr>\n",
       "      <th>4</th>\n",
       "      <td>20500</td>\n",
       "      <td>1</td>\n",
       "      <td>1</td>\n",
       "      <td>96174.766</td>\n",
       "      <td>26.222353</td>\n",
       "      <td>0.375063</td>\n",
       "      <td>0.321154</td>\n",
       "      <td>0.046488</td>\n",
       "      <td>52463.0</td>\n",
       "      <td>41516.0</td>\n",
       "      <td>...</td>\n",
       "      <td>77.300003</td>\n",
       "      <td>-0.096140</td>\n",
       "      <td>12933.0</td>\n",
       "      <td>3635.0</td>\n",
       "      <td>0.216236</td>\n",
       "      <td>2446.26220</td>\n",
       "      <td>11101.0</td>\n",
       "      <td>Montgomery</td>\n",
       "      <td>0.018627</td>\n",
       "      <td>800.272640</td>\n",
       "    </tr>\n",
       "  </tbody>\n",
       "</table>\n",
       "<p>5 rows × 38 columns</p>\n",
       "</div>"
      ],
      "text/plain": [
       "   tract  county  state  hhinc_mean2000  mean_commutetime2000  \\\n",
       "0  20100       1      1       68638.727             26.171911   \n",
       "1  20200       1      1       57242.512             24.806705   \n",
       "2  20300       1      1       75647.727             25.322525   \n",
       "3  20400       1      1       74852.055             22.965347   \n",
       "4  20500       1      1       96174.766             26.222353   \n",
       "\n",
       "   frac_coll_plus2010  frac_coll_plus2000  foreign_share2010  med_hhinc2016  \\\n",
       "0            0.254428            0.156479           0.009950        66000.0   \n",
       "1            0.267194            0.146932           0.016337        41107.0   \n",
       "2            0.164159            0.224413           0.027096        51250.0   \n",
       "3            0.252744            0.230469           0.015083        52704.0   \n",
       "4            0.375063            0.321154           0.046488        52463.0   \n",
       "\n",
       "   med_hhinc1990  ...  mail_return_rate2010  ln_wage_growth_hs_grad  \\\n",
       "0        27375.0  ...             83.500000                0.038233   \n",
       "1        19000.0  ...             81.300003                0.089306   \n",
       "2        29419.0  ...             79.500000               -0.177743   \n",
       "3        37891.0  ...             83.500000               -0.072311   \n",
       "4        41516.0  ...             77.300003               -0.096140   \n",
       "\n",
       "   jobs_total_5mi_2015  jobs_highpay_5mi_2015  nonwhite_share2010  \\\n",
       "0              10109.0                 3396.0            0.162657   \n",
       "1               9948.0                 3328.0            0.611060   \n",
       "2              10387.0                 3230.0            0.247554   \n",
       "3              12933.0                 3635.0            0.081167   \n",
       "4              12933.0                 3635.0            0.216236   \n",
       "\n",
       "   popdensity2010       cz      czname  ann_avg_job_growth_2004_2013  \\\n",
       "0       504.75183  11101.0  Montgomery                     -0.006769   \n",
       "1      1682.17050  11101.0  Montgomery                     -0.004253   \n",
       "2      1633.41390  11101.0  Montgomery                      0.014218   \n",
       "3      1780.03250  11101.0  Montgomery                     -0.019841   \n",
       "4      2446.26220  11101.0  Montgomery                      0.018627   \n",
       "\n",
       "   job_density_2013  \n",
       "0         92.133049  \n",
       "1        971.317870  \n",
       "2        340.920070  \n",
       "3        207.386370  \n",
       "4        800.272640  \n",
       "\n",
       "[5 rows x 38 columns]"
      ]
     },
     "execution_count": 2,
     "metadata": {},
     "output_type": "execute_result"
    }
   ],
   "source": [
    "# load and check dataset\n",
    "df = pd.read_csv('tract_covariates.csv')\n",
    "df.head()"
   ]
  },
  {
   "cell_type": "code",
   "execution_count": 3,
   "metadata": {},
   "outputs": [
    {
     "data": {
      "text/plain": [
       "(74123, 38)"
      ]
     },
     "execution_count": 3,
     "metadata": {},
     "output_type": "execute_result"
    }
   ],
   "source": [
    "# check number of columns and rows\n",
    "df.shape"
   ]
  },
  {
   "cell_type": "markdown",
   "metadata": {},
   "source": [
    "We have a reasonably sized dataset for a machine learning project, with over 74K rows. The full description of all columns can be found on the READ ME file for the [Neighborhood Characteristics by Census Tract](https://opportunityinsights.org/data/), but most are self explanatory. Let's have a look at all the columns. I also want to check for NaNs percentage on each column and the data types."
   ]
  },
  {
   "cell_type": "code",
   "execution_count": 4,
   "metadata": {
    "scrolled": false
   },
   "outputs": [
    {
     "data": {
      "text/plain": [
       "tract                            0.000000\n",
       "county                           0.000000\n",
       "state                            0.000000\n",
       "hhinc_mean2000                   2.333958\n",
       "mean_commutetime2000             2.301580\n",
       "frac_coll_plus2010               1.180470\n",
       "frac_coll_plus2000               2.238172\n",
       "foreign_share2010                2.354195\n",
       "med_hhinc2016                    1.577108\n",
       "med_hhinc1990                    2.297532\n",
       "popdensity2000                   1.867167\n",
       "poor_share2010                   1.330221\n",
       "poor_share2000                   2.302929\n",
       "poor_share1990                   2.275947\n",
       "share_black2010                  0.940329\n",
       "share_hisp2010                   0.940329\n",
       "share_asian2010                  2.610526\n",
       "share_black2000                  2.195000\n",
       "share_white2000                  2.195000\n",
       "share_hisp2000                   2.195000\n",
       "share_asian2000                  3.989315\n",
       "gsmn_math_g3_2013                2.019616\n",
       "rent_twobed2015                 23.478542\n",
       "singleparent_share2010           1.863119\n",
       "singleparent_share1990           2.470218\n",
       "singleparent_share2000           2.354195\n",
       "traveltime15_2010                1.299192\n",
       "emp2000                          2.234124\n",
       "mail_return_rate2010             1.799711\n",
       "ln_wage_growth_hs_grad          30.135046\n",
       "jobs_total_5mi_2015              1.946764\n",
       "jobs_highpay_5mi_2015            1.946764\n",
       "nonwhite_share2010               0.940329\n",
       "popdensity2010                   0.648921\n",
       "cz                               1.388233\n",
       "czname                           1.388233\n",
       "ann_avg_job_growth_2004_2013     4.666568\n",
       "job_density_2013                 2.239521\n",
       "dtype: float64"
      ]
     },
     "execution_count": 4,
     "metadata": {},
     "output_type": "execute_result"
    }
   ],
   "source": [
    "# check names of all columns and percentage of NaNs in each column\n",
    "df.isna().sum()/len(df)*100"
   ]
  },
  {
   "cell_type": "markdown",
   "metadata": {},
   "source": [
    "Some of our columns have a high percentage of NaNs. We will need to addres this problem further on."
   ]
  },
  {
   "cell_type": "code",
   "execution_count": 5,
   "metadata": {},
   "outputs": [
    {
     "data": {
      "text/plain": [
       "tract                             int64\n",
       "county                            int64\n",
       "state                             int64\n",
       "hhinc_mean2000                  float64\n",
       "mean_commutetime2000            float64\n",
       "frac_coll_plus2010              float64\n",
       "frac_coll_plus2000              float64\n",
       "foreign_share2010               float64\n",
       "med_hhinc2016                   float64\n",
       "med_hhinc1990                   float64\n",
       "popdensity2000                  float64\n",
       "poor_share2010                  float64\n",
       "poor_share2000                  float64\n",
       "poor_share1990                  float64\n",
       "share_black2010                 float64\n",
       "share_hisp2010                  float64\n",
       "share_asian2010                 float64\n",
       "share_black2000                 float64\n",
       "share_white2000                 float64\n",
       "share_hisp2000                  float64\n",
       "share_asian2000                 float64\n",
       "gsmn_math_g3_2013               float64\n",
       "rent_twobed2015                 float64\n",
       "singleparent_share2010          float64\n",
       "singleparent_share1990          float64\n",
       "singleparent_share2000          float64\n",
       "traveltime15_2010               float64\n",
       "emp2000                         float64\n",
       "mail_return_rate2010            float64\n",
       "ln_wage_growth_hs_grad          float64\n",
       "jobs_total_5mi_2015             float64\n",
       "jobs_highpay_5mi_2015           float64\n",
       "nonwhite_share2010              float64\n",
       "popdensity2010                  float64\n",
       "cz                              float64\n",
       "czname                           object\n",
       "ann_avg_job_growth_2004_2013    float64\n",
       "job_density_2013                float64\n",
       "dtype: object"
      ]
     },
     "execution_count": 5,
     "metadata": {},
     "output_type": "execute_result"
    }
   ],
   "source": [
    "# check each column type\n",
    "df.dtypes"
   ]
  },
  {
   "cell_type": "markdown",
   "metadata": {},
   "source": [
    "Most columns are numeric and the categorical one (czname - Name of commuting zone) is not really necessary for our analysis. Each row is identified by a census tract, county and state so in order to make the identifier unique we will combine the three into a unique 'ID' column. We will also choose to eliminate the columns with high percentage of NaNs because either eliminating these rows, looking considerable data, or using an average value to replace the null values would not be good approaches (some data is not available for whole states so filling those values with an average could distort and compromise our data). "
   ]
  },
  {
   "cell_type": "code",
   "execution_count": 6,
   "metadata": {},
   "outputs": [
    {
     "data": {
      "text/plain": [
       "74123"
      ]
     },
     "execution_count": 6,
     "metadata": {},
     "output_type": "execute_result"
    }
   ],
   "source": [
    "# combine tract, map and state as one unique identifier for each census location\n",
    "df['id'] = df.tract.map(str) + '-' + df.county.map(str) + '-' + df.state.map(str)\n",
    "df.id.nunique()"
   ]
  },
  {
   "cell_type": "code",
   "execution_count": 7,
   "metadata": {},
   "outputs": [
    {
     "data": {
      "text/html": [
       "<div>\n",
       "<style scoped>\n",
       "    .dataframe tbody tr th:only-of-type {\n",
       "        vertical-align: middle;\n",
       "    }\n",
       "\n",
       "    .dataframe tbody tr th {\n",
       "        vertical-align: top;\n",
       "    }\n",
       "\n",
       "    .dataframe thead th {\n",
       "        text-align: right;\n",
       "    }\n",
       "</style>\n",
       "<table border=\"1\" class=\"dataframe\">\n",
       "  <thead>\n",
       "    <tr style=\"text-align: right;\">\n",
       "      <th></th>\n",
       "      <th>id</th>\n",
       "      <th>hhinc_mean2000</th>\n",
       "      <th>mean_commutetime2000</th>\n",
       "      <th>frac_coll_plus2010</th>\n",
       "      <th>frac_coll_plus2000</th>\n",
       "      <th>foreign_share2010</th>\n",
       "      <th>med_hhinc2016</th>\n",
       "      <th>med_hhinc1990</th>\n",
       "      <th>popdensity2000</th>\n",
       "      <th>poor_share2010</th>\n",
       "      <th>...</th>\n",
       "      <th>singleparent_share2000</th>\n",
       "      <th>traveltime15_2010</th>\n",
       "      <th>emp2000</th>\n",
       "      <th>mail_return_rate2010</th>\n",
       "      <th>jobs_total_5mi_2015</th>\n",
       "      <th>jobs_highpay_5mi_2015</th>\n",
       "      <th>nonwhite_share2010</th>\n",
       "      <th>popdensity2010</th>\n",
       "      <th>ann_avg_job_growth_2004_2013</th>\n",
       "      <th>job_density_2013</th>\n",
       "    </tr>\n",
       "  </thead>\n",
       "  <tbody>\n",
       "    <tr>\n",
       "      <th>0</th>\n",
       "      <td>20100-1-1</td>\n",
       "      <td>68638.727</td>\n",
       "      <td>26.171911</td>\n",
       "      <td>0.254428</td>\n",
       "      <td>0.156479</td>\n",
       "      <td>0.009950</td>\n",
       "      <td>66000.0</td>\n",
       "      <td>27375.0</td>\n",
       "      <td>195.72380</td>\n",
       "      <td>0.105030</td>\n",
       "      <td>...</td>\n",
       "      <td>0.250980</td>\n",
       "      <td>0.273034</td>\n",
       "      <td>0.567308</td>\n",
       "      <td>83.500000</td>\n",
       "      <td>10109.0</td>\n",
       "      <td>3396.0</td>\n",
       "      <td>0.162657</td>\n",
       "      <td>504.75183</td>\n",
       "      <td>-0.006769</td>\n",
       "      <td>92.133049</td>\n",
       "    </tr>\n",
       "    <tr>\n",
       "      <th>1</th>\n",
       "      <td>20200-1-1</td>\n",
       "      <td>57242.512</td>\n",
       "      <td>24.806705</td>\n",
       "      <td>0.267194</td>\n",
       "      <td>0.146932</td>\n",
       "      <td>0.016337</td>\n",
       "      <td>41107.0</td>\n",
       "      <td>19000.0</td>\n",
       "      <td>566.38141</td>\n",
       "      <td>0.147590</td>\n",
       "      <td>...</td>\n",
       "      <td>0.392523</td>\n",
       "      <td>0.152040</td>\n",
       "      <td>0.493169</td>\n",
       "      <td>81.300003</td>\n",
       "      <td>9948.0</td>\n",
       "      <td>3328.0</td>\n",
       "      <td>0.611060</td>\n",
       "      <td>1682.17050</td>\n",
       "      <td>-0.004253</td>\n",
       "      <td>971.317870</td>\n",
       "    </tr>\n",
       "    <tr>\n",
       "      <th>2</th>\n",
       "      <td>20300-1-1</td>\n",
       "      <td>75647.727</td>\n",
       "      <td>25.322525</td>\n",
       "      <td>0.164159</td>\n",
       "      <td>0.224413</td>\n",
       "      <td>0.027096</td>\n",
       "      <td>51250.0</td>\n",
       "      <td>29419.0</td>\n",
       "      <td>624.19684</td>\n",
       "      <td>0.080385</td>\n",
       "      <td>...</td>\n",
       "      <td>0.244856</td>\n",
       "      <td>0.205534</td>\n",
       "      <td>0.578560</td>\n",
       "      <td>79.500000</td>\n",
       "      <td>10387.0</td>\n",
       "      <td>3230.0</td>\n",
       "      <td>0.247554</td>\n",
       "      <td>1633.41390</td>\n",
       "      <td>0.014218</td>\n",
       "      <td>340.920070</td>\n",
       "    </tr>\n",
       "    <tr>\n",
       "      <th>3</th>\n",
       "      <td>20400-1-1</td>\n",
       "      <td>74852.055</td>\n",
       "      <td>22.965347</td>\n",
       "      <td>0.252744</td>\n",
       "      <td>0.230469</td>\n",
       "      <td>0.015083</td>\n",
       "      <td>52704.0</td>\n",
       "      <td>37891.0</td>\n",
       "      <td>713.80396</td>\n",
       "      <td>0.063223</td>\n",
       "      <td>...</td>\n",
       "      <td>0.190722</td>\n",
       "      <td>0.350673</td>\n",
       "      <td>0.596501</td>\n",
       "      <td>83.500000</td>\n",
       "      <td>12933.0</td>\n",
       "      <td>3635.0</td>\n",
       "      <td>0.081167</td>\n",
       "      <td>1780.03250</td>\n",
       "      <td>-0.019841</td>\n",
       "      <td>207.386370</td>\n",
       "    </tr>\n",
       "    <tr>\n",
       "      <th>4</th>\n",
       "      <td>20500-1-1</td>\n",
       "      <td>96174.766</td>\n",
       "      <td>26.222353</td>\n",
       "      <td>0.375063</td>\n",
       "      <td>0.321154</td>\n",
       "      <td>0.046488</td>\n",
       "      <td>52463.0</td>\n",
       "      <td>41516.0</td>\n",
       "      <td>529.93030</td>\n",
       "      <td>0.059569</td>\n",
       "      <td>...</td>\n",
       "      <td>0.168000</td>\n",
       "      <td>0.250496</td>\n",
       "      <td>0.661268</td>\n",
       "      <td>77.300003</td>\n",
       "      <td>12933.0</td>\n",
       "      <td>3635.0</td>\n",
       "      <td>0.216236</td>\n",
       "      <td>2446.26220</td>\n",
       "      <td>0.018627</td>\n",
       "      <td>800.272640</td>\n",
       "    </tr>\n",
       "  </tbody>\n",
       "</table>\n",
       "<p>5 rows × 32 columns</p>\n",
       "</div>"
      ],
      "text/plain": [
       "          id  hhinc_mean2000  mean_commutetime2000  frac_coll_plus2010  \\\n",
       "0  20100-1-1       68638.727             26.171911            0.254428   \n",
       "1  20200-1-1       57242.512             24.806705            0.267194   \n",
       "2  20300-1-1       75647.727             25.322525            0.164159   \n",
       "3  20400-1-1       74852.055             22.965347            0.252744   \n",
       "4  20500-1-1       96174.766             26.222353            0.375063   \n",
       "\n",
       "   frac_coll_plus2000  foreign_share2010  med_hhinc2016  med_hhinc1990  \\\n",
       "0            0.156479           0.009950        66000.0        27375.0   \n",
       "1            0.146932           0.016337        41107.0        19000.0   \n",
       "2            0.224413           0.027096        51250.0        29419.0   \n",
       "3            0.230469           0.015083        52704.0        37891.0   \n",
       "4            0.321154           0.046488        52463.0        41516.0   \n",
       "\n",
       "   popdensity2000  poor_share2010  ...  singleparent_share2000  \\\n",
       "0       195.72380        0.105030  ...                0.250980   \n",
       "1       566.38141        0.147590  ...                0.392523   \n",
       "2       624.19684        0.080385  ...                0.244856   \n",
       "3       713.80396        0.063223  ...                0.190722   \n",
       "4       529.93030        0.059569  ...                0.168000   \n",
       "\n",
       "   traveltime15_2010   emp2000  mail_return_rate2010  jobs_total_5mi_2015  \\\n",
       "0           0.273034  0.567308             83.500000              10109.0   \n",
       "1           0.152040  0.493169             81.300003               9948.0   \n",
       "2           0.205534  0.578560             79.500000              10387.0   \n",
       "3           0.350673  0.596501             83.500000              12933.0   \n",
       "4           0.250496  0.661268             77.300003              12933.0   \n",
       "\n",
       "   jobs_highpay_5mi_2015  nonwhite_share2010  popdensity2010  \\\n",
       "0                 3396.0            0.162657       504.75183   \n",
       "1                 3328.0            0.611060      1682.17050   \n",
       "2                 3230.0            0.247554      1633.41390   \n",
       "3                 3635.0            0.081167      1780.03250   \n",
       "4                 3635.0            0.216236      2446.26220   \n",
       "\n",
       "   ann_avg_job_growth_2004_2013  job_density_2013  \n",
       "0                     -0.006769         92.133049  \n",
       "1                     -0.004253        971.317870  \n",
       "2                      0.014218        340.920070  \n",
       "3                     -0.019841        207.386370  \n",
       "4                      0.018627        800.272640  \n",
       "\n",
       "[5 rows x 32 columns]"
      ]
     },
     "execution_count": 7,
     "metadata": {},
     "output_type": "execute_result"
    }
   ],
   "source": [
    "# move identifier column to beginning of dataframe to facilitate visualization\n",
    "cols = list(df)\n",
    "cols.insert(0, cols.pop(cols.index('id')))\n",
    "df = df.loc[:, cols]\n",
    "\n",
    "# drop columns that are not necessary or that have a too high percentage of NaNs\n",
    "df.drop(['tract', 'county', 'state', 'cz', 'czname', 'rent_twobed2015', 'ln_wage_growth_hs_grad'], axis=1, inplace=True)\n",
    "df.head()"
   ]
  },
  {
   "cell_type": "code",
   "execution_count": 8,
   "metadata": {
    "scrolled": false
   },
   "outputs": [
    {
     "data": {
      "text/html": [
       "<div>\n",
       "<style scoped>\n",
       "    .dataframe tbody tr th:only-of-type {\n",
       "        vertical-align: middle;\n",
       "    }\n",
       "\n",
       "    .dataframe tbody tr th {\n",
       "        vertical-align: top;\n",
       "    }\n",
       "\n",
       "    .dataframe thead th {\n",
       "        text-align: right;\n",
       "    }\n",
       "</style>\n",
       "<table border=\"1\" class=\"dataframe\">\n",
       "  <thead>\n",
       "    <tr style=\"text-align: right;\">\n",
       "      <th></th>\n",
       "      <th>hhinc_mean2000</th>\n",
       "      <th>mean_commutetime2000</th>\n",
       "      <th>frac_coll_plus2010</th>\n",
       "      <th>frac_coll_plus2000</th>\n",
       "      <th>foreign_share2010</th>\n",
       "      <th>med_hhinc2016</th>\n",
       "      <th>med_hhinc1990</th>\n",
       "      <th>popdensity2000</th>\n",
       "      <th>poor_share2010</th>\n",
       "      <th>poor_share2000</th>\n",
       "      <th>...</th>\n",
       "      <th>singleparent_share2000</th>\n",
       "      <th>traveltime15_2010</th>\n",
       "      <th>emp2000</th>\n",
       "      <th>mail_return_rate2010</th>\n",
       "      <th>jobs_total_5mi_2015</th>\n",
       "      <th>jobs_highpay_5mi_2015</th>\n",
       "      <th>nonwhite_share2010</th>\n",
       "      <th>popdensity2010</th>\n",
       "      <th>ann_avg_job_growth_2004_2013</th>\n",
       "      <th>job_density_2013</th>\n",
       "    </tr>\n",
       "  </thead>\n",
       "  <tbody>\n",
       "    <tr>\n",
       "      <th>count</th>\n",
       "      <td>72393.000000</td>\n",
       "      <td>72417.000000</td>\n",
       "      <td>73248.000000</td>\n",
       "      <td>72464.000000</td>\n",
       "      <td>72378.000000</td>\n",
       "      <td>72954.000000</td>\n",
       "      <td>72420.000000</td>\n",
       "      <td>72739.000000</td>\n",
       "      <td>73137.000000</td>\n",
       "      <td>72416.000000</td>\n",
       "      <td>...</td>\n",
       "      <td>72378.000000</td>\n",
       "      <td>73160.000000</td>\n",
       "      <td>72467.000000</td>\n",
       "      <td>72789.000000</td>\n",
       "      <td>7.268000e+04</td>\n",
       "      <td>7.268000e+04</td>\n",
       "      <td>73426.000000</td>\n",
       "      <td>73642.000000</td>\n",
       "      <td>70664.000000</td>\n",
       "      <td>7.246300e+04</td>\n",
       "    </tr>\n",
       "    <tr>\n",
       "      <th>mean</th>\n",
       "      <td>80327.556155</td>\n",
       "      <td>26.946929</td>\n",
       "      <td>0.269188</td>\n",
       "      <td>0.237791</td>\n",
       "      <td>0.120875</td>\n",
       "      <td>58810.315528</td>\n",
       "      <td>32178.195869</td>\n",
       "      <td>1983.551558</td>\n",
       "      <td>0.151696</td>\n",
       "      <td>0.128522</td>\n",
       "      <td>...</td>\n",
       "      <td>0.293477</td>\n",
       "      <td>0.295065</td>\n",
       "      <td>0.594060</td>\n",
       "      <td>78.692768</td>\n",
       "      <td>1.119495e+05</td>\n",
       "      <td>5.855423e+04</td>\n",
       "      <td>0.368949</td>\n",
       "      <td>5236.287765</td>\n",
       "      <td>0.015335</td>\n",
       "      <td>2.157003e+03</td>\n",
       "    </tr>\n",
       "    <tr>\n",
       "      <th>std</th>\n",
       "      <td>34437.757785</td>\n",
       "      <td>7.015295</td>\n",
       "      <td>0.182729</td>\n",
       "      <td>0.168770</td>\n",
       "      <td>0.137757</td>\n",
       "      <td>29670.457993</td>\n",
       "      <td>14327.205251</td>\n",
       "      <td>4544.191364</td>\n",
       "      <td>0.128338</td>\n",
       "      <td>0.110132</td>\n",
       "      <td>...</td>\n",
       "      <td>0.157817</td>\n",
       "      <td>0.155631</td>\n",
       "      <td>0.112812</td>\n",
       "      <td>7.876387</td>\n",
       "      <td>2.517040e+05</td>\n",
       "      <td>1.553782e+05</td>\n",
       "      <td>0.307444</td>\n",
       "      <td>11701.388496</td>\n",
       "      <td>0.076179</td>\n",
       "      <td>1.876617e+04</td>\n",
       "    </tr>\n",
       "    <tr>\n",
       "      <th>min</th>\n",
       "      <td>7239.477100</td>\n",
       "      <td>2.500000</td>\n",
       "      <td>0.000000</td>\n",
       "      <td>0.000000</td>\n",
       "      <td>0.000000</td>\n",
       "      <td>2499.000000</td>\n",
       "      <td>4999.000000</td>\n",
       "      <td>0.000000</td>\n",
       "      <td>0.000000</td>\n",
       "      <td>0.000000</td>\n",
       "      <td>...</td>\n",
       "      <td>0.000000</td>\n",
       "      <td>0.000000</td>\n",
       "      <td>0.000000</td>\n",
       "      <td>0.000000</td>\n",
       "      <td>0.000000e+00</td>\n",
       "      <td>0.000000e+00</td>\n",
       "      <td>0.000000</td>\n",
       "      <td>0.000000</td>\n",
       "      <td>-0.606690</td>\n",
       "      <td>0.000000e+00</td>\n",
       "    </tr>\n",
       "    <tr>\n",
       "      <th>25%</th>\n",
       "      <td>57366.266000</td>\n",
       "      <td>22.034706</td>\n",
       "      <td>0.130765</td>\n",
       "      <td>0.110645</td>\n",
       "      <td>0.023023</td>\n",
       "      <td>38698.000000</td>\n",
       "      <td>22257.000000</td>\n",
       "      <td>95.557041</td>\n",
       "      <td>0.059191</td>\n",
       "      <td>0.050159</td>\n",
       "      <td>...</td>\n",
       "      <td>0.182487</td>\n",
       "      <td>0.184125</td>\n",
       "      <td>0.532866</td>\n",
       "      <td>74.300003</td>\n",
       "      <td>6.454000e+03</td>\n",
       "      <td>2.279750e+03</td>\n",
       "      <td>0.108159</td>\n",
       "      <td>314.829350</td>\n",
       "      <td>-0.018859</td>\n",
       "      <td>5.673720e+01</td>\n",
       "    </tr>\n",
       "    <tr>\n",
       "      <th>50%</th>\n",
       "      <td>71705.953000</td>\n",
       "      <td>26.164030</td>\n",
       "      <td>0.218334</td>\n",
       "      <td>0.186889</td>\n",
       "      <td>0.067070</td>\n",
       "      <td>52291.500000</td>\n",
       "      <td>29806.500000</td>\n",
       "      <td>755.014890</td>\n",
       "      <td>0.116065</td>\n",
       "      <td>0.095659</td>\n",
       "      <td>...</td>\n",
       "      <td>0.258736</td>\n",
       "      <td>0.265494</td>\n",
       "      <td>0.607797</td>\n",
       "      <td>79.599998</td>\n",
       "      <td>4.221550e+04</td>\n",
       "      <td>1.691450e+04</td>\n",
       "      <td>0.265904</td>\n",
       "      <td>2189.878900</td>\n",
       "      <td>0.008496</td>\n",
       "      <td>4.125840e+02</td>\n",
       "    </tr>\n",
       "    <tr>\n",
       "      <th>75%</th>\n",
       "      <td>94675.211000</td>\n",
       "      <td>31.048534</td>\n",
       "      <td>0.370618</td>\n",
       "      <td>0.325419</td>\n",
       "      <td>0.168883</td>\n",
       "      <td>71851.000000</td>\n",
       "      <td>39408.250000</td>\n",
       "      <td>2000.978350</td>\n",
       "      <td>0.205636</td>\n",
       "      <td>0.171529</td>\n",
       "      <td>...</td>\n",
       "      <td>0.366292</td>\n",
       "      <td>0.376318</td>\n",
       "      <td>0.670782</td>\n",
       "      <td>84.300003</td>\n",
       "      <td>1.228150e+05</td>\n",
       "      <td>5.771550e+04</td>\n",
       "      <td>0.587899</td>\n",
       "      <td>5284.204800</td>\n",
       "      <td>0.040975</td>\n",
       "      <td>1.371066e+03</td>\n",
       "    </tr>\n",
       "    <tr>\n",
       "      <th>max</th>\n",
       "      <td>434368.630000</td>\n",
       "      <td>80.025421</td>\n",
       "      <td>1.000000</td>\n",
       "      <td>1.000000</td>\n",
       "      <td>1.000000</td>\n",
       "      <td>250001.000000</td>\n",
       "      <td>150001.000000</td>\n",
       "      <td>205382.190000</td>\n",
       "      <td>1.000000</td>\n",
       "      <td>1.000000</td>\n",
       "      <td>...</td>\n",
       "      <td>1.000000</td>\n",
       "      <td>1.000000</td>\n",
       "      <td>1.000000</td>\n",
       "      <td>100.000000</td>\n",
       "      <td>2.826437e+06</td>\n",
       "      <td>1.794186e+06</td>\n",
       "      <td>1.000000</td>\n",
       "      <td>543333.310000</td>\n",
       "      <td>1.336456</td>\n",
       "      <td>2.905290e+06</td>\n",
       "    </tr>\n",
       "  </tbody>\n",
       "</table>\n",
       "<p>8 rows × 31 columns</p>\n",
       "</div>"
      ],
      "text/plain": [
       "       hhinc_mean2000  mean_commutetime2000  frac_coll_plus2010  \\\n",
       "count    72393.000000          72417.000000        73248.000000   \n",
       "mean     80327.556155             26.946929            0.269188   \n",
       "std      34437.757785              7.015295            0.182729   \n",
       "min       7239.477100              2.500000            0.000000   \n",
       "25%      57366.266000             22.034706            0.130765   \n",
       "50%      71705.953000             26.164030            0.218334   \n",
       "75%      94675.211000             31.048534            0.370618   \n",
       "max     434368.630000             80.025421            1.000000   \n",
       "\n",
       "       frac_coll_plus2000  foreign_share2010  med_hhinc2016  med_hhinc1990  \\\n",
       "count        72464.000000       72378.000000   72954.000000   72420.000000   \n",
       "mean             0.237791           0.120875   58810.315528   32178.195869   \n",
       "std              0.168770           0.137757   29670.457993   14327.205251   \n",
       "min              0.000000           0.000000    2499.000000    4999.000000   \n",
       "25%              0.110645           0.023023   38698.000000   22257.000000   \n",
       "50%              0.186889           0.067070   52291.500000   29806.500000   \n",
       "75%              0.325419           0.168883   71851.000000   39408.250000   \n",
       "max              1.000000           1.000000  250001.000000  150001.000000   \n",
       "\n",
       "       popdensity2000  poor_share2010  poor_share2000  ...  \\\n",
       "count    72739.000000    73137.000000    72416.000000  ...   \n",
       "mean      1983.551558        0.151696        0.128522  ...   \n",
       "std       4544.191364        0.128338        0.110132  ...   \n",
       "min          0.000000        0.000000        0.000000  ...   \n",
       "25%         95.557041        0.059191        0.050159  ...   \n",
       "50%        755.014890        0.116065        0.095659  ...   \n",
       "75%       2000.978350        0.205636        0.171529  ...   \n",
       "max     205382.190000        1.000000        1.000000  ...   \n",
       "\n",
       "       singleparent_share2000  traveltime15_2010       emp2000  \\\n",
       "count            72378.000000       73160.000000  72467.000000   \n",
       "mean                 0.293477           0.295065      0.594060   \n",
       "std                  0.157817           0.155631      0.112812   \n",
       "min                  0.000000           0.000000      0.000000   \n",
       "25%                  0.182487           0.184125      0.532866   \n",
       "50%                  0.258736           0.265494      0.607797   \n",
       "75%                  0.366292           0.376318      0.670782   \n",
       "max                  1.000000           1.000000      1.000000   \n",
       "\n",
       "       mail_return_rate2010  jobs_total_5mi_2015  jobs_highpay_5mi_2015  \\\n",
       "count          72789.000000         7.268000e+04           7.268000e+04   \n",
       "mean              78.692768         1.119495e+05           5.855423e+04   \n",
       "std                7.876387         2.517040e+05           1.553782e+05   \n",
       "min                0.000000         0.000000e+00           0.000000e+00   \n",
       "25%               74.300003         6.454000e+03           2.279750e+03   \n",
       "50%               79.599998         4.221550e+04           1.691450e+04   \n",
       "75%               84.300003         1.228150e+05           5.771550e+04   \n",
       "max              100.000000         2.826437e+06           1.794186e+06   \n",
       "\n",
       "       nonwhite_share2010  popdensity2010  ann_avg_job_growth_2004_2013  \\\n",
       "count        73426.000000    73642.000000                  70664.000000   \n",
       "mean             0.368949     5236.287765                      0.015335   \n",
       "std              0.307444    11701.388496                      0.076179   \n",
       "min              0.000000        0.000000                     -0.606690   \n",
       "25%              0.108159      314.829350                     -0.018859   \n",
       "50%              0.265904     2189.878900                      0.008496   \n",
       "75%              0.587899     5284.204800                      0.040975   \n",
       "max              1.000000   543333.310000                      1.336456   \n",
       "\n",
       "       job_density_2013  \n",
       "count      7.246300e+04  \n",
       "mean       2.157003e+03  \n",
       "std        1.876617e+04  \n",
       "min        0.000000e+00  \n",
       "25%        5.673720e+01  \n",
       "50%        4.125840e+02  \n",
       "75%        1.371066e+03  \n",
       "max        2.905290e+06  \n",
       "\n",
       "[8 rows x 31 columns]"
      ]
     },
     "execution_count": 8,
     "metadata": {},
     "output_type": "execute_result"
    }
   ],
   "source": [
    "# check overal stats of dataframe\n",
    "df.describe()"
   ]
  },
  {
   "cell_type": "markdown",
   "metadata": {},
   "source": [
    "A few things we can notice here: \n",
    "\n",
    "- some columns present the same data collected from different years. We can note some disparities, such as how the minimum median income went significantly down from 1990 to 2016. It could make more sense to treat these columns with as percentual variance for the ones that are not shares already, instead of keeping both years' measurements data. In this way, we would be getting more information in relation to which areas became more or less affluent over the time passed. We could try modeling with both approaches and see if which gives us best results. \n",
    "\n",
    "- data magnitude varies a lot from column to column and scaling and standardizing will certainly be necessary.\n",
    "\n",
    "Let's have a look at their distributions as well."
   ]
  },
  {
   "cell_type": "code",
   "execution_count": 9,
   "metadata": {},
   "outputs": [
    {
     "data": {
      "image/png": "[encoded data removed]",
      "text/plain": [
       "<Figure size 1296x1008 with 36 Axes>"
      ]
     },
     "metadata": {
      "needs_background": "light"
     },
     "output_type": "display_data"
    }
   ],
   "source": [
    "df.hist(figsize=(18,14));"
   ]
  },
  {
   "cell_type": "markdown",
   "metadata": {},
   "source": [
    "Again, some of our data is heavy on zeros. Further investigating for null values as zeros, and scaling the data will be a necessary step in order to better balance our data for the machine learning algorithms. Let's have a deeper look into our columns unique values and try to see where it makes sense to have zero or not."
   ]
  },
  {
   "cell_type": "code",
   "execution_count": 10,
   "metadata": {},
   "outputs": [],
   "source": [
    "# create a columns with percentual change for dimentional columns with measurements over years\n",
    "df['change_med_hhinc'] = (df['med_hhinc2016'] - df['med_hhinc1990'])/df['med_hhinc1990']*100\n",
    "df['change_popdensity'] = (df['popdensity2010'] - df['popdensity2000'])/df['popdensity2000']*100"
   ]
  },
  {
   "cell_type": "code",
   "execution_count": 11,
   "metadata": {},
   "outputs": [],
   "source": [
    "df.replace([np.inf, -np.inf], np.nan, inplace=True)"
   ]
  },
  {
   "cell_type": "code",
   "execution_count": 12,
   "metadata": {},
   "outputs": [],
   "source": [
    "# drop now unecessary columns\n",
    "df.drop(['med_hhinc2016', 'popdensity2010'], axis=1, inplace=True)"
   ]
  },
  {
   "cell_type": "code",
   "execution_count": 13,
   "metadata": {
    "scrolled": true
   },
   "outputs": [
    {
     "data": {
      "text/html": [
       "<div>\n",
       "<style scoped>\n",
       "    .dataframe tbody tr th:only-of-type {\n",
       "        vertical-align: middle;\n",
       "    }\n",
       "\n",
       "    .dataframe tbody tr th {\n",
       "        vertical-align: top;\n",
       "    }\n",
       "\n",
       "    .dataframe thead th {\n",
       "        text-align: right;\n",
       "    }\n",
       "</style>\n",
       "<table border=\"1\" class=\"dataframe\">\n",
       "  <thead>\n",
       "    <tr style=\"text-align: right;\">\n",
       "      <th></th>\n",
       "      <th>id</th>\n",
       "      <th>hhinc_mean2000</th>\n",
       "      <th>mean_commutetime2000</th>\n",
       "      <th>frac_coll_plus2010</th>\n",
       "      <th>frac_coll_plus2000</th>\n",
       "      <th>foreign_share2010</th>\n",
       "      <th>med_hhinc1990</th>\n",
       "      <th>popdensity2000</th>\n",
       "      <th>poor_share2010</th>\n",
       "      <th>poor_share2000</th>\n",
       "      <th>...</th>\n",
       "      <th>traveltime15_2010</th>\n",
       "      <th>emp2000</th>\n",
       "      <th>mail_return_rate2010</th>\n",
       "      <th>jobs_total_5mi_2015</th>\n",
       "      <th>jobs_highpay_5mi_2015</th>\n",
       "      <th>nonwhite_share2010</th>\n",
       "      <th>ann_avg_job_growth_2004_2013</th>\n",
       "      <th>job_density_2013</th>\n",
       "      <th>change_med_hhinc</th>\n",
       "      <th>change_popdensity</th>\n",
       "    </tr>\n",
       "  </thead>\n",
       "  <tbody>\n",
       "    <tr>\n",
       "      <th>0</th>\n",
       "      <td>20100-1-1</td>\n",
       "      <td>68638.727</td>\n",
       "      <td>26.171911</td>\n",
       "      <td>0.254428</td>\n",
       "      <td>0.156479</td>\n",
       "      <td>0.009950</td>\n",
       "      <td>27375.000000</td>\n",
       "      <td>195.723800</td>\n",
       "      <td>0.105030</td>\n",
       "      <td>0.126816</td>\n",
       "      <td>...</td>\n",
       "      <td>0.273034</td>\n",
       "      <td>0.567308</td>\n",
       "      <td>83.500000</td>\n",
       "      <td>10109.0</td>\n",
       "      <td>3396.0</td>\n",
       "      <td>0.162657</td>\n",
       "      <td>-0.006769</td>\n",
       "      <td>92.133049</td>\n",
       "      <td>141.095890</td>\n",
       "      <td>157.889858</td>\n",
       "    </tr>\n",
       "    <tr>\n",
       "      <th>1</th>\n",
       "      <td>20200-1-1</td>\n",
       "      <td>57242.512</td>\n",
       "      <td>24.806705</td>\n",
       "      <td>0.267194</td>\n",
       "      <td>0.146932</td>\n",
       "      <td>0.016337</td>\n",
       "      <td>19000.000000</td>\n",
       "      <td>566.381410</td>\n",
       "      <td>0.147590</td>\n",
       "      <td>0.227058</td>\n",
       "      <td>...</td>\n",
       "      <td>0.152040</td>\n",
       "      <td>0.493169</td>\n",
       "      <td>81.300003</td>\n",
       "      <td>9948.0</td>\n",
       "      <td>3328.0</td>\n",
       "      <td>0.611060</td>\n",
       "      <td>-0.004253</td>\n",
       "      <td>971.317870</td>\n",
       "      <td>116.352632</td>\n",
       "      <td>197.003127</td>\n",
       "    </tr>\n",
       "    <tr>\n",
       "      <th>2</th>\n",
       "      <td>20300-1-1</td>\n",
       "      <td>75647.727</td>\n",
       "      <td>25.322525</td>\n",
       "      <td>0.164159</td>\n",
       "      <td>0.224413</td>\n",
       "      <td>0.027096</td>\n",
       "      <td>29419.000000</td>\n",
       "      <td>624.196840</td>\n",
       "      <td>0.080385</td>\n",
       "      <td>0.076640</td>\n",
       "      <td>...</td>\n",
       "      <td>0.205534</td>\n",
       "      <td>0.578560</td>\n",
       "      <td>79.500000</td>\n",
       "      <td>10387.0</td>\n",
       "      <td>3230.0</td>\n",
       "      <td>0.247554</td>\n",
       "      <td>0.014218</td>\n",
       "      <td>340.920070</td>\n",
       "      <td>74.207145</td>\n",
       "      <td>161.682501</td>\n",
       "    </tr>\n",
       "    <tr>\n",
       "      <th>3</th>\n",
       "      <td>20400-1-1</td>\n",
       "      <td>74852.055</td>\n",
       "      <td>22.965347</td>\n",
       "      <td>0.252744</td>\n",
       "      <td>0.230469</td>\n",
       "      <td>0.015083</td>\n",
       "      <td>37891.000000</td>\n",
       "      <td>713.803960</td>\n",
       "      <td>0.063223</td>\n",
       "      <td>0.045485</td>\n",
       "      <td>...</td>\n",
       "      <td>0.350673</td>\n",
       "      <td>0.596501</td>\n",
       "      <td>83.500000</td>\n",
       "      <td>12933.0</td>\n",
       "      <td>3635.0</td>\n",
       "      <td>0.081167</td>\n",
       "      <td>-0.019841</td>\n",
       "      <td>207.386370</td>\n",
       "      <td>39.093716</td>\n",
       "      <td>149.372741</td>\n",
       "    </tr>\n",
       "    <tr>\n",
       "      <th>4</th>\n",
       "      <td>20500-1-1</td>\n",
       "      <td>96174.766</td>\n",
       "      <td>26.222353</td>\n",
       "      <td>0.375063</td>\n",
       "      <td>0.321154</td>\n",
       "      <td>0.046488</td>\n",
       "      <td>41516.000000</td>\n",
       "      <td>529.930300</td>\n",
       "      <td>0.059569</td>\n",
       "      <td>0.036792</td>\n",
       "      <td>...</td>\n",
       "      <td>0.250496</td>\n",
       "      <td>0.661268</td>\n",
       "      <td>77.300003</td>\n",
       "      <td>12933.0</td>\n",
       "      <td>3635.0</td>\n",
       "      <td>0.216236</td>\n",
       "      <td>0.018627</td>\n",
       "      <td>800.272640</td>\n",
       "      <td>26.368147</td>\n",
       "      <td>361.619613</td>\n",
       "    </tr>\n",
       "    <tr>\n",
       "      <th>5</th>\n",
       "      <td>20600-1-1</td>\n",
       "      <td>68095.766</td>\n",
       "      <td>21.630421</td>\n",
       "      <td>0.239424</td>\n",
       "      <td>0.160706</td>\n",
       "      <td>0.024985</td>\n",
       "      <td>29000.000000</td>\n",
       "      <td>408.373960</td>\n",
       "      <td>0.105232</td>\n",
       "      <td>0.152161</td>\n",
       "      <td>...</td>\n",
       "      <td>0.341646</td>\n",
       "      <td>0.642679</td>\n",
       "      <td>82.800003</td>\n",
       "      <td>9193.0</td>\n",
       "      <td>3052.0</td>\n",
       "      <td>0.271538</td>\n",
       "      <td>-0.051588</td>\n",
       "      <td>336.777530</td>\n",
       "      <td>119.827586</td>\n",
       "      <td>190.021455</td>\n",
       "    </tr>\n",
       "    <tr>\n",
       "      <th>6</th>\n",
       "      <td>20700-1-1</td>\n",
       "      <td>65182.262</td>\n",
       "      <td>23.227625</td>\n",
       "      <td>0.069114</td>\n",
       "      <td>0.116883</td>\n",
       "      <td>0.019895</td>\n",
       "      <td>26895.000000</td>\n",
       "      <td>129.416530</td>\n",
       "      <td>0.166291</td>\n",
       "      <td>0.110000</td>\n",
       "      <td>...</td>\n",
       "      <td>0.127010</td>\n",
       "      <td>0.669659</td>\n",
       "      <td>83.199997</td>\n",
       "      <td>11578.0</td>\n",
       "      <td>3389.0</td>\n",
       "      <td>0.206503</td>\n",
       "      <td>0.005518</td>\n",
       "      <td>141.123430</td>\n",
       "      <td>68.187395</td>\n",
       "      <td>158.191407</td>\n",
       "    </tr>\n",
       "    <tr>\n",
       "      <th>7</th>\n",
       "      <td>20801-1-1</td>\n",
       "      <td>76873.500</td>\n",
       "      <td>30.329140</td>\n",
       "      <td>0.282572</td>\n",
       "      <td>0.188181</td>\n",
       "      <td>0.002448</td>\n",
       "      <td>30956.511770</td>\n",
       "      <td>17.487595</td>\n",
       "      <td>0.079720</td>\n",
       "      <td>0.087650</td>\n",
       "      <td>...</td>\n",
       "      <td>0.232400</td>\n",
       "      <td>0.645279</td>\n",
       "      <td>85.500000</td>\n",
       "      <td>1567.0</td>\n",
       "      <td>989.0</td>\n",
       "      <td>0.136644</td>\n",
       "      <td>-0.039299</td>\n",
       "      <td>3.501021</td>\n",
       "      <td>140.992915</td>\n",
       "      <td>267.153002</td>\n",
       "    </tr>\n",
       "    <tr>\n",
       "      <th>8</th>\n",
       "      <td>20802-1-1</td>\n",
       "      <td>77310.141</td>\n",
       "      <td>30.726799</td>\n",
       "      <td>0.194913</td>\n",
       "      <td>0.189494</td>\n",
       "      <td>0.006912</td>\n",
       "      <td>31136.969087</td>\n",
       "      <td>38.190983</td>\n",
       "      <td>0.116071</td>\n",
       "      <td>0.084440</td>\n",
       "      <td>...</td>\n",
       "      <td>0.179632</td>\n",
       "      <td>0.645393</td>\n",
       "      <td>85.400002</td>\n",
       "      <td>2615.0</td>\n",
       "      <td>1176.0</td>\n",
       "      <td>0.171155</td>\n",
       "      <td>0.008160</td>\n",
       "      <td>14.048567</td>\n",
       "      <td>96.685810</td>\n",
       "      <td>270.871365</td>\n",
       "    </tr>\n",
       "    <tr>\n",
       "      <th>9</th>\n",
       "      <td>20900-1-1</td>\n",
       "      <td>66234.398</td>\n",
       "      <td>36.436531</td>\n",
       "      <td>0.127820</td>\n",
       "      <td>0.089286</td>\n",
       "      <td>0.009670</td>\n",
       "      <td>18430.000000</td>\n",
       "      <td>15.811758</td>\n",
       "      <td>0.099070</td>\n",
       "      <td>0.138435</td>\n",
       "      <td>...</td>\n",
       "      <td>0.061808</td>\n",
       "      <td>0.546725</td>\n",
       "      <td>83.000000</td>\n",
       "      <td>279.0</td>\n",
       "      <td>106.0</td>\n",
       "      <td>0.156652</td>\n",
       "      <td>0.001544</td>\n",
       "      <td>2.565600</td>\n",
       "      <td>141.947911</td>\n",
       "      <td>217.524054</td>\n",
       "    </tr>\n",
       "  </tbody>\n",
       "</table>\n",
       "<p>10 rows × 32 columns</p>\n",
       "</div>"
      ],
      "text/plain": [
       "          id  hhinc_mean2000  mean_commutetime2000  frac_coll_plus2010  \\\n",
       "0  20100-1-1       68638.727             26.171911            0.254428   \n",
       "1  20200-1-1       57242.512             24.806705            0.267194   \n",
       "2  20300-1-1       75647.727             25.322525            0.164159   \n",
       "3  20400-1-1       74852.055             22.965347            0.252744   \n",
       "4  20500-1-1       96174.766             26.222353            0.375063   \n",
       "5  20600-1-1       68095.766             21.630421            0.239424   \n",
       "6  20700-1-1       65182.262             23.227625            0.069114   \n",
       "7  20801-1-1       76873.500             30.329140            0.282572   \n",
       "8  20802-1-1       77310.141             30.726799            0.194913   \n",
       "9  20900-1-1       66234.398             36.436531            0.127820   \n",
       "\n",
       "   frac_coll_plus2000  foreign_share2010  med_hhinc1990  popdensity2000  \\\n",
       "0            0.156479           0.009950   27375.000000      195.723800   \n",
       "1            0.146932           0.016337   19000.000000      566.381410   \n",
       "2            0.224413           0.027096   29419.000000      624.196840   \n",
       "3            0.230469           0.015083   37891.000000      713.803960   \n",
       "4            0.321154           0.046488   41516.000000      529.930300   \n",
       "5            0.160706           0.024985   29000.000000      408.373960   \n",
       "6            0.116883           0.019895   26895.000000      129.416530   \n",
       "7            0.188181           0.002448   30956.511770       17.487595   \n",
       "8            0.189494           0.006912   31136.969087       38.190983   \n",
       "9            0.089286           0.009670   18430.000000       15.811758   \n",
       "\n",
       "   poor_share2010  poor_share2000  ...  traveltime15_2010   emp2000  \\\n",
       "0        0.105030        0.126816  ...           0.273034  0.567308   \n",
       "1        0.147590        0.227058  ...           0.152040  0.493169   \n",
       "2        0.080385        0.076640  ...           0.205534  0.578560   \n",
       "3        0.063223        0.045485  ...           0.350673  0.596501   \n",
       "4        0.059569        0.036792  ...           0.250496  0.661268   \n",
       "5        0.105232        0.152161  ...           0.341646  0.642679   \n",
       "6        0.166291        0.110000  ...           0.127010  0.669659   \n",
       "7        0.079720        0.087650  ...           0.232400  0.645279   \n",
       "8        0.116071        0.084440  ...           0.179632  0.645393   \n",
       "9        0.099070        0.138435  ...           0.061808  0.546725   \n",
       "\n",
       "   mail_return_rate2010  jobs_total_5mi_2015  jobs_highpay_5mi_2015  \\\n",
       "0             83.500000              10109.0                 3396.0   \n",
       "1             81.300003               9948.0                 3328.0   \n",
       "2             79.500000              10387.0                 3230.0   \n",
       "3             83.500000              12933.0                 3635.0   \n",
       "4             77.300003              12933.0                 3635.0   \n",
       "5             82.800003               9193.0                 3052.0   \n",
       "6             83.199997              11578.0                 3389.0   \n",
       "7             85.500000               1567.0                  989.0   \n",
       "8             85.400002               2615.0                 1176.0   \n",
       "9             83.000000                279.0                  106.0   \n",
       "\n",
       "   nonwhite_share2010  ann_avg_job_growth_2004_2013  job_density_2013  \\\n",
       "0            0.162657                     -0.006769         92.133049   \n",
       "1            0.611060                     -0.004253        971.317870   \n",
       "2            0.247554                      0.014218        340.920070   \n",
       "3            0.081167                     -0.019841        207.386370   \n",
       "4            0.216236                      0.018627        800.272640   \n",
       "5            0.271538                     -0.051588        336.777530   \n",
       "6            0.206503                      0.005518        141.123430   \n",
       "7            0.136644                     -0.039299          3.501021   \n",
       "8            0.171155                      0.008160         14.048567   \n",
       "9            0.156652                      0.001544          2.565600   \n",
       "\n",
       "   change_med_hhinc  change_popdensity  \n",
       "0        141.095890         157.889858  \n",
       "1        116.352632         197.003127  \n",
       "2         74.207145         161.682501  \n",
       "3         39.093716         149.372741  \n",
       "4         26.368147         361.619613  \n",
       "5        119.827586         190.021455  \n",
       "6         68.187395         158.191407  \n",
       "7        140.992915         267.153002  \n",
       "8         96.685810         270.871365  \n",
       "9        141.947911         217.524054  \n",
       "\n",
       "[10 rows x 32 columns]"
      ]
     },
     "execution_count": 13,
     "metadata": {},
     "output_type": "execute_result"
    }
   ],
   "source": [
    "df.head(10)"
   ]
  },
  {
   "cell_type": "code",
   "execution_count": 14,
   "metadata": {},
   "outputs": [
    {
     "name": "stdout",
     "output_type": "stream",
     "text": [
      "<class 'pandas.core.frame.DataFrame'>\n",
      "RangeIndex: 74123 entries, 0 to 74122\n",
      "Data columns (total 32 columns):\n",
      "id                              74123 non-null object\n",
      "hhinc_mean2000                  72393 non-null float64\n",
      "mean_commutetime2000            72417 non-null float64\n",
      "frac_coll_plus2010              73248 non-null float64\n",
      "frac_coll_plus2000              72464 non-null float64\n",
      "foreign_share2010               72378 non-null float64\n",
      "med_hhinc1990                   72420 non-null float64\n",
      "popdensity2000                  72739 non-null float64\n",
      "poor_share2010                  73137 non-null float64\n",
      "poor_share2000                  72416 non-null float64\n",
      "poor_share1990                  72436 non-null float64\n",
      "share_black2010                 73426 non-null float64\n",
      "share_hisp2010                  73426 non-null float64\n",
      "share_asian2010                 72188 non-null float64\n",
      "share_black2000                 72496 non-null float64\n",
      "share_white2000                 72496 non-null float64\n",
      "share_hisp2000                  72496 non-null float64\n",
      "share_asian2000                 71166 non-null float64\n",
      "gsmn_math_g3_2013               72626 non-null float64\n",
      "singleparent_share2010          72742 non-null float64\n",
      "singleparent_share1990          72292 non-null float64\n",
      "singleparent_share2000          72378 non-null float64\n",
      "traveltime15_2010               73160 non-null float64\n",
      "emp2000                         72467 non-null float64\n",
      "mail_return_rate2010            72789 non-null float64\n",
      "jobs_total_5mi_2015             72680 non-null float64\n",
      "jobs_highpay_5mi_2015           72680 non-null float64\n",
      "nonwhite_share2010              73426 non-null float64\n",
      "ann_avg_job_growth_2004_2013    70664 non-null float64\n",
      "job_density_2013                72463 non-null float64\n",
      "change_med_hhinc                72020 non-null float64\n",
      "change_popdensity               72496 non-null float64\n",
      "dtypes: float64(31), object(1)\n",
      "memory usage: 18.1+ MB\n"
     ]
    }
   ],
   "source": [
    "# check overall feature columns one last time\n",
    "df.info()"
   ]
  },
  {
   "cell_type": "code",
   "execution_count": 15,
   "metadata": {},
   "outputs": [
    {
     "data": {
      "image/png": "[encoded data removed]",
      "text/plain": [
       "<Figure size 1296x1008 with 36 Axes>"
      ]
     },
     "metadata": {
      "needs_background": "light"
     },
     "output_type": "display_data"
    }
   ],
   "source": [
    "df.hist(figsize=(18,14));"
   ]
  },
  {
   "cell_type": "markdown",
   "metadata": {},
   "source": [
    "#### Getting the target variable\n",
    "\n",
    "Now let's get our target variable. We want to measure social mobility - meaning, when children fair better in terms of income than their parents. To do this, we will bring data from another dataset, in the same study, that has ranks for income for both parents and children and do some feature engineering. \n",
    "\n",
    "From the dataset called [All Outcomes by Census Tract, Race, Gender and Parental Income Percentile](https://opportunityinsights.org/data/), we will bring the columns that give us the unique identifiers, so that we can match the two datasets, as well as the following two columns, from which we will extract information on social mobility:\n",
    "\n",
    "* kfr_pooled_pooled_mean = Mean percentile rank (relative to other children born in the same year) in the national distribution of household income (i.e. own earnings and spouse’s earnings) measured as mean earnings in 2014-2015 for the baseline sample\n",
    "\n",
    "* par_rank_pooled_pooled_mean = Mean household income rank for parents of children of race [race] and gender [gender]. Parents are ranked relative to other parents with children in the same birth cohort (averaged over 1994-1995 and 1998-2000).\n",
    "\n",
    "To get the outcome for social mobility, we will subtract children's rank from their respective parents' rank on each census tract, providing us with a number that is equivalent to a change in rank. When that result is positive, that means there has been an upward rank change and we classify that as a presenting social mobility. "
   ]
  },
  {
   "cell_type": "code",
   "execution_count": 16,
   "metadata": {},
   "outputs": [],
   "source": [
    "# load only necessary information from dataframe\n",
    "df3 = pd.read_csv('tract_outcomes_early.csv', usecols=['tract', 'county', 'state', 'kfr_pooled_pooled_mean', 'par_rank_pooled_pooled_mean'])"
   ]
  },
  {
   "cell_type": "code",
   "execution_count": 17,
   "metadata": {},
   "outputs": [
    {
     "data": {
      "text/html": [
       "<div>\n",
       "<style scoped>\n",
       "    .dataframe tbody tr th:only-of-type {\n",
       "        vertical-align: middle;\n",
       "    }\n",
       "\n",
       "    .dataframe tbody tr th {\n",
       "        vertical-align: top;\n",
       "    }\n",
       "\n",
       "    .dataframe thead th {\n",
       "        text-align: right;\n",
       "    }\n",
       "</style>\n",
       "<table border=\"1\" class=\"dataframe\">\n",
       "  <thead>\n",
       "    <tr style=\"text-align: right;\">\n",
       "      <th></th>\n",
       "      <th>state</th>\n",
       "      <th>county</th>\n",
       "      <th>tract</th>\n",
       "      <th>kfr_pooled_pooled_mean</th>\n",
       "      <th>par_rank_pooled_pooled_mean</th>\n",
       "    </tr>\n",
       "  </thead>\n",
       "  <tbody>\n",
       "    <tr>\n",
       "      <th>0</th>\n",
       "      <td>1</td>\n",
       "      <td>1</td>\n",
       "      <td>20100</td>\n",
       "      <td>0.481355</td>\n",
       "      <td>0.512273</td>\n",
       "    </tr>\n",
       "    <tr>\n",
       "      <th>1</th>\n",
       "      <td>1</td>\n",
       "      <td>1</td>\n",
       "      <td>20200</td>\n",
       "      <td>0.370569</td>\n",
       "      <td>0.357840</td>\n",
       "    </tr>\n",
       "    <tr>\n",
       "      <th>2</th>\n",
       "      <td>1</td>\n",
       "      <td>1</td>\n",
       "      <td>20300</td>\n",
       "      <td>0.487227</td>\n",
       "      <td>0.534671</td>\n",
       "    </tr>\n",
       "    <tr>\n",
       "      <th>3</th>\n",
       "      <td>1</td>\n",
       "      <td>1</td>\n",
       "      <td>20400</td>\n",
       "      <td>0.536163</td>\n",
       "      <td>0.597961</td>\n",
       "    </tr>\n",
       "    <tr>\n",
       "      <th>4</th>\n",
       "      <td>1</td>\n",
       "      <td>1</td>\n",
       "      <td>20500</td>\n",
       "      <td>0.579610</td>\n",
       "      <td>0.651672</td>\n",
       "    </tr>\n",
       "  </tbody>\n",
       "</table>\n",
       "</div>"
      ],
      "text/plain": [
       "   state  county  tract  kfr_pooled_pooled_mean  par_rank_pooled_pooled_mean\n",
       "0      1       1  20100                0.481355                     0.512273\n",
       "1      1       1  20200                0.370569                     0.357840\n",
       "2      1       1  20300                0.487227                     0.534671\n",
       "3      1       1  20400                0.536163                     0.597961\n",
       "4      1       1  20500                0.579610                     0.651672"
      ]
     },
     "execution_count": 17,
     "metadata": {},
     "output_type": "execute_result"
    }
   ],
   "source": [
    "# check dataframe\n",
    "df3.head()"
   ]
  },
  {
   "cell_type": "code",
   "execution_count": 18,
   "metadata": {},
   "outputs": [],
   "source": [
    "# combine tract, map and state as one unique identifier for each census location\n",
    "df3['id'] = df3.tract.map(str) + '-' + df3.county.map(str) + '-' + df3.state.map(str)"
   ]
  },
  {
   "cell_type": "code",
   "execution_count": 19,
   "metadata": {},
   "outputs": [],
   "source": [
    "# move identifier column to beginning of dataframe \n",
    "cols = list(df3)\n",
    "cols.insert(0, cols.pop(cols.index('id')))\n",
    "df3 = df3.loc[:, cols]"
   ]
  },
  {
   "cell_type": "code",
   "execution_count": 20,
   "metadata": {},
   "outputs": [],
   "source": [
    "# remove columns that are no longer needed\n",
    "df3.drop(['tract', 'county', 'state'], axis=1, inplace=True)"
   ]
  },
  {
   "cell_type": "code",
   "execution_count": 21,
   "metadata": {},
   "outputs": [
    {
     "data": {
      "text/plain": [
       "(73278, 3)"
      ]
     },
     "execution_count": 21,
     "metadata": {},
     "output_type": "execute_result"
    }
   ],
   "source": [
    "# check number of columns and rows\n",
    "df3.shape"
   ]
  },
  {
   "cell_type": "code",
   "execution_count": 22,
   "metadata": {},
   "outputs": [
    {
     "data": {
      "text/plain": [
       "id                             0.000000\n",
       "kfr_pooled_pooled_mean         1.724938\n",
       "par_rank_pooled_pooled_mean    1.724938\n",
       "dtype: float64"
      ]
     },
     "execution_count": 22,
     "metadata": {},
     "output_type": "execute_result"
    }
   ],
   "source": [
    "# check percentage of NaNs\n",
    "df3.isna().sum()/len(df3)*100"
   ]
  },
  {
   "cell_type": "code",
   "execution_count": 23,
   "metadata": {},
   "outputs": [],
   "source": [
    "# calculate mobility in a new column by subtracting rank from parents' rank\n",
    "df3['mobility'] = df3['kfr_pooled_pooled_mean'] - df3['par_rank_pooled_pooled_mean']"
   ]
  },
  {
   "cell_type": "code",
   "execution_count": 24,
   "metadata": {},
   "outputs": [
    {
     "data": {
      "text/html": [
       "<div>\n",
       "<style scoped>\n",
       "    .dataframe tbody tr th:only-of-type {\n",
       "        vertical-align: middle;\n",
       "    }\n",
       "\n",
       "    .dataframe tbody tr th {\n",
       "        vertical-align: top;\n",
       "    }\n",
       "\n",
       "    .dataframe thead th {\n",
       "        text-align: right;\n",
       "    }\n",
       "</style>\n",
       "<table border=\"1\" class=\"dataframe\">\n",
       "  <thead>\n",
       "    <tr style=\"text-align: right;\">\n",
       "      <th></th>\n",
       "      <th>kfr_pooled_pooled_mean</th>\n",
       "      <th>par_rank_pooled_pooled_mean</th>\n",
       "      <th>mobility</th>\n",
       "    </tr>\n",
       "  </thead>\n",
       "  <tbody>\n",
       "    <tr>\n",
       "      <th>count</th>\n",
       "      <td>72014.000000</td>\n",
       "      <td>72014.000000</td>\n",
       "      <td>72014.000000</td>\n",
       "    </tr>\n",
       "    <tr>\n",
       "      <th>mean</th>\n",
       "      <td>0.507519</td>\n",
       "      <td>0.523503</td>\n",
       "      <td>-0.015984</td>\n",
       "    </tr>\n",
       "    <tr>\n",
       "      <th>std</th>\n",
       "      <td>0.095564</td>\n",
       "      <td>0.153076</td>\n",
       "      <td>0.081375</td>\n",
       "    </tr>\n",
       "    <tr>\n",
       "      <th>min</th>\n",
       "      <td>0.158528</td>\n",
       "      <td>0.101707</td>\n",
       "      <td>-0.688561</td>\n",
       "    </tr>\n",
       "    <tr>\n",
       "      <th>25%</th>\n",
       "      <td>0.443233</td>\n",
       "      <td>0.413284</td>\n",
       "      <td>-0.072159</td>\n",
       "    </tr>\n",
       "    <tr>\n",
       "      <th>50%</th>\n",
       "      <td>0.512092</td>\n",
       "      <td>0.519227</td>\n",
       "      <td>-0.016234</td>\n",
       "    </tr>\n",
       "    <tr>\n",
       "      <th>75%</th>\n",
       "      <td>0.576070</td>\n",
       "      <td>0.633467</td>\n",
       "      <td>0.037503</td>\n",
       "    </tr>\n",
       "    <tr>\n",
       "      <th>max</th>\n",
       "      <td>0.792643</td>\n",
       "      <td>0.957305</td>\n",
       "      <td>0.419661</td>\n",
       "    </tr>\n",
       "  </tbody>\n",
       "</table>\n",
       "</div>"
      ],
      "text/plain": [
       "       kfr_pooled_pooled_mean  par_rank_pooled_pooled_mean      mobility\n",
       "count            72014.000000                 72014.000000  72014.000000\n",
       "mean                 0.507519                     0.523503     -0.015984\n",
       "std                  0.095564                     0.153076      0.081375\n",
       "min                  0.158528                     0.101707     -0.688561\n",
       "25%                  0.443233                     0.413284     -0.072159\n",
       "50%                  0.512092                     0.519227     -0.016234\n",
       "75%                  0.576070                     0.633467      0.037503\n",
       "max                  0.792643                     0.957305      0.419661"
      ]
     },
     "execution_count": 24,
     "metadata": {},
     "output_type": "execute_result"
    }
   ],
   "source": [
    "# check stats\n",
    "df3.describe()"
   ]
  },
  {
   "cell_type": "code",
   "execution_count": 25,
   "metadata": {},
   "outputs": [
    {
     "data": {
      "image/png": "[encoded data removed]",
      "text/plain": [
       "<Figure size 432x288 with 4 Axes>"
      ]
     },
     "metadata": {
      "needs_background": "light"
     },
     "output_type": "display_data"
    }
   ],
   "source": [
    "# check distribution\n",
    "df3.hist();"
   ]
  },
  {
   "cell_type": "code",
   "execution_count": 26,
   "metadata": {},
   "outputs": [
    {
     "data": {
      "text/plain": [
       "<matplotlib.axes._subplots.AxesSubplot at 0x125272ba8>"
      ]
     },
     "execution_count": 26,
     "metadata": {},
     "output_type": "execute_result"
    },
    {
     "data": {
      "image/png": "[encoded data removed]",
      "text/plain": [
       "<Figure size 432x288 with 1 Axes>"
      ]
     },
     "metadata": {
      "needs_background": "light"
     },
     "output_type": "display_data"
    }
   ],
   "source": [
    "# check outliers\n",
    "sns.boxplot(df3.mobility)"
   ]
  },
  {
   "cell_type": "code",
   "execution_count": 27,
   "metadata": {
    "scrolled": true
   },
   "outputs": [
    {
     "data": {
      "text/plain": [
       "41.312535822484236"
      ]
     },
     "execution_count": 27,
     "metadata": {},
     "output_type": "execute_result"
    }
   ],
   "source": [
    "# check percentage at positive mobility\n",
    "len(df3.mobility[df3.mobility > 0])/len(df3.mobility)*100"
   ]
  },
  {
   "cell_type": "code",
   "execution_count": 28,
   "metadata": {},
   "outputs": [],
   "source": [
    "# classify outcomes for positive mobility and no/negative mobility\n",
    "df3['outcome'] = np.where(df3.mobility > 0, 1, 0)"
   ]
  },
  {
   "cell_type": "code",
   "execution_count": 29,
   "metadata": {
    "scrolled": false
   },
   "outputs": [
    {
     "data": {
      "text/plain": [
       "0    0.586875\n",
       "1    0.413125\n",
       "Name: outcome, dtype: float64"
      ]
     },
     "execution_count": 29,
     "metadata": {},
     "output_type": "execute_result"
    }
   ],
   "source": [
    "# check balance of target variable\n",
    "df3.outcome.value_counts()/len(df3)"
   ]
  },
  {
   "cell_type": "code",
   "execution_count": 30,
   "metadata": {
    "scrolled": true
   },
   "outputs": [],
   "source": [
    "# drop all the other columns, keeping only the outcome\n",
    "df3.drop(columns=['kfr_pooled_pooled_mean', 'par_rank_pooled_pooled_mean', 'mobility'], inplace=True)"
   ]
  },
  {
   "cell_type": "code",
   "execution_count": 31,
   "metadata": {},
   "outputs": [
    {
     "data": {
      "text/html": [
       "<div>\n",
       "<style scoped>\n",
       "    .dataframe tbody tr th:only-of-type {\n",
       "        vertical-align: middle;\n",
       "    }\n",
       "\n",
       "    .dataframe tbody tr th {\n",
       "        vertical-align: top;\n",
       "    }\n",
       "\n",
       "    .dataframe thead th {\n",
       "        text-align: right;\n",
       "    }\n",
       "</style>\n",
       "<table border=\"1\" class=\"dataframe\">\n",
       "  <thead>\n",
       "    <tr style=\"text-align: right;\">\n",
       "      <th></th>\n",
       "      <th>id</th>\n",
       "      <th>hhinc_mean2000</th>\n",
       "      <th>mean_commutetime2000</th>\n",
       "      <th>frac_coll_plus2010</th>\n",
       "      <th>frac_coll_plus2000</th>\n",
       "      <th>foreign_share2010</th>\n",
       "      <th>med_hhinc1990</th>\n",
       "      <th>popdensity2000</th>\n",
       "      <th>poor_share2010</th>\n",
       "      <th>poor_share2000</th>\n",
       "      <th>...</th>\n",
       "      <th>emp2000</th>\n",
       "      <th>mail_return_rate2010</th>\n",
       "      <th>jobs_total_5mi_2015</th>\n",
       "      <th>jobs_highpay_5mi_2015</th>\n",
       "      <th>nonwhite_share2010</th>\n",
       "      <th>ann_avg_job_growth_2004_2013</th>\n",
       "      <th>job_density_2013</th>\n",
       "      <th>change_med_hhinc</th>\n",
       "      <th>change_popdensity</th>\n",
       "      <th>outcome</th>\n",
       "    </tr>\n",
       "  </thead>\n",
       "  <tbody>\n",
       "    <tr>\n",
       "      <th>0</th>\n",
       "      <td>20100-1-1</td>\n",
       "      <td>68638.727</td>\n",
       "      <td>26.171911</td>\n",
       "      <td>0.254428</td>\n",
       "      <td>0.156479</td>\n",
       "      <td>0.009950</td>\n",
       "      <td>27375.0</td>\n",
       "      <td>195.72380</td>\n",
       "      <td>0.105030</td>\n",
       "      <td>0.126816</td>\n",
       "      <td>...</td>\n",
       "      <td>0.567308</td>\n",
       "      <td>83.500000</td>\n",
       "      <td>10109.0</td>\n",
       "      <td>3396.0</td>\n",
       "      <td>0.162657</td>\n",
       "      <td>-0.006769</td>\n",
       "      <td>92.133049</td>\n",
       "      <td>141.095890</td>\n",
       "      <td>157.889858</td>\n",
       "      <td>0</td>\n",
       "    </tr>\n",
       "    <tr>\n",
       "      <th>1</th>\n",
       "      <td>20200-1-1</td>\n",
       "      <td>57242.512</td>\n",
       "      <td>24.806705</td>\n",
       "      <td>0.267194</td>\n",
       "      <td>0.146932</td>\n",
       "      <td>0.016337</td>\n",
       "      <td>19000.0</td>\n",
       "      <td>566.38141</td>\n",
       "      <td>0.147590</td>\n",
       "      <td>0.227058</td>\n",
       "      <td>...</td>\n",
       "      <td>0.493169</td>\n",
       "      <td>81.300003</td>\n",
       "      <td>9948.0</td>\n",
       "      <td>3328.0</td>\n",
       "      <td>0.611060</td>\n",
       "      <td>-0.004253</td>\n",
       "      <td>971.317870</td>\n",
       "      <td>116.352632</td>\n",
       "      <td>197.003127</td>\n",
       "      <td>1</td>\n",
       "    </tr>\n",
       "    <tr>\n",
       "      <th>2</th>\n",
       "      <td>20300-1-1</td>\n",
       "      <td>75647.727</td>\n",
       "      <td>25.322525</td>\n",
       "      <td>0.164159</td>\n",
       "      <td>0.224413</td>\n",
       "      <td>0.027096</td>\n",
       "      <td>29419.0</td>\n",
       "      <td>624.19684</td>\n",
       "      <td>0.080385</td>\n",
       "      <td>0.076640</td>\n",
       "      <td>...</td>\n",
       "      <td>0.578560</td>\n",
       "      <td>79.500000</td>\n",
       "      <td>10387.0</td>\n",
       "      <td>3230.0</td>\n",
       "      <td>0.247554</td>\n",
       "      <td>0.014218</td>\n",
       "      <td>340.920070</td>\n",
       "      <td>74.207145</td>\n",
       "      <td>161.682501</td>\n",
       "      <td>0</td>\n",
       "    </tr>\n",
       "    <tr>\n",
       "      <th>3</th>\n",
       "      <td>20400-1-1</td>\n",
       "      <td>74852.055</td>\n",
       "      <td>22.965347</td>\n",
       "      <td>0.252744</td>\n",
       "      <td>0.230469</td>\n",
       "      <td>0.015083</td>\n",
       "      <td>37891.0</td>\n",
       "      <td>713.80396</td>\n",
       "      <td>0.063223</td>\n",
       "      <td>0.045485</td>\n",
       "      <td>...</td>\n",
       "      <td>0.596501</td>\n",
       "      <td>83.500000</td>\n",
       "      <td>12933.0</td>\n",
       "      <td>3635.0</td>\n",
       "      <td>0.081167</td>\n",
       "      <td>-0.019841</td>\n",
       "      <td>207.386370</td>\n",
       "      <td>39.093716</td>\n",
       "      <td>149.372741</td>\n",
       "      <td>0</td>\n",
       "    </tr>\n",
       "    <tr>\n",
       "      <th>4</th>\n",
       "      <td>20500-1-1</td>\n",
       "      <td>96174.766</td>\n",
       "      <td>26.222353</td>\n",
       "      <td>0.375063</td>\n",
       "      <td>0.321154</td>\n",
       "      <td>0.046488</td>\n",
       "      <td>41516.0</td>\n",
       "      <td>529.93030</td>\n",
       "      <td>0.059569</td>\n",
       "      <td>0.036792</td>\n",
       "      <td>...</td>\n",
       "      <td>0.661268</td>\n",
       "      <td>77.300003</td>\n",
       "      <td>12933.0</td>\n",
       "      <td>3635.0</td>\n",
       "      <td>0.216236</td>\n",
       "      <td>0.018627</td>\n",
       "      <td>800.272640</td>\n",
       "      <td>26.368147</td>\n",
       "      <td>361.619613</td>\n",
       "      <td>0</td>\n",
       "    </tr>\n",
       "  </tbody>\n",
       "</table>\n",
       "<p>5 rows × 33 columns</p>\n",
       "</div>"
      ],
      "text/plain": [
       "          id  hhinc_mean2000  mean_commutetime2000  frac_coll_plus2010  \\\n",
       "0  20100-1-1       68638.727             26.171911            0.254428   \n",
       "1  20200-1-1       57242.512             24.806705            0.267194   \n",
       "2  20300-1-1       75647.727             25.322525            0.164159   \n",
       "3  20400-1-1       74852.055             22.965347            0.252744   \n",
       "4  20500-1-1       96174.766             26.222353            0.375063   \n",
       "\n",
       "   frac_coll_plus2000  foreign_share2010  med_hhinc1990  popdensity2000  \\\n",
       "0            0.156479           0.009950        27375.0       195.72380   \n",
       "1            0.146932           0.016337        19000.0       566.38141   \n",
       "2            0.224413           0.027096        29419.0       624.19684   \n",
       "3            0.230469           0.015083        37891.0       713.80396   \n",
       "4            0.321154           0.046488        41516.0       529.93030   \n",
       "\n",
       "   poor_share2010  poor_share2000  ...   emp2000  mail_return_rate2010  \\\n",
       "0        0.105030        0.126816  ...  0.567308             83.500000   \n",
       "1        0.147590        0.227058  ...  0.493169             81.300003   \n",
       "2        0.080385        0.076640  ...  0.578560             79.500000   \n",
       "3        0.063223        0.045485  ...  0.596501             83.500000   \n",
       "4        0.059569        0.036792  ...  0.661268             77.300003   \n",
       "\n",
       "   jobs_total_5mi_2015  jobs_highpay_5mi_2015  nonwhite_share2010  \\\n",
       "0              10109.0                 3396.0            0.162657   \n",
       "1               9948.0                 3328.0            0.611060   \n",
       "2              10387.0                 3230.0            0.247554   \n",
       "3              12933.0                 3635.0            0.081167   \n",
       "4              12933.0                 3635.0            0.216236   \n",
       "\n",
       "   ann_avg_job_growth_2004_2013  job_density_2013  change_med_hhinc  \\\n",
       "0                     -0.006769         92.133049        141.095890   \n",
       "1                     -0.004253        971.317870        116.352632   \n",
       "2                      0.014218        340.920070         74.207145   \n",
       "3                     -0.019841        207.386370         39.093716   \n",
       "4                      0.018627        800.272640         26.368147   \n",
       "\n",
       "   change_popdensity  outcome  \n",
       "0         157.889858        0  \n",
       "1         197.003127        1  \n",
       "2         161.682501        0  \n",
       "3         149.372741        0  \n",
       "4         361.619613        0  \n",
       "\n",
       "[5 rows x 33 columns]"
      ]
     },
     "execution_count": 31,
     "metadata": {},
     "output_type": "execute_result"
    }
   ],
   "source": [
    "# merge dataframes\n",
    "df = pd.merge(df, df3, on='id')\n",
    "df.head()"
   ]
  },
  {
   "cell_type": "code",
   "execution_count": 32,
   "metadata": {
    "scrolled": true
   },
   "outputs": [
    {
     "data": {
      "text/plain": [
       "id                              0.000000\n",
       "hhinc_mean2000                  1.331914\n",
       "mean_commutetime2000            1.316903\n",
       "frac_coll_plus2010              0.388930\n",
       "frac_coll_plus2000              1.275963\n",
       "foreign_share2010               1.363301\n",
       "med_hhinc1990                   1.316903\n",
       "popdensity2000                  1.104015\n",
       "poor_share2010                  0.470810\n",
       "poor_share2000                  1.314173\n",
       "poor_share1990                  1.303256\n",
       "share_black2010                 0.227899\n",
       "share_hisp2010                  0.227899\n",
       "share_asian2010                 1.819100\n",
       "share_black2000                 1.241846\n",
       "share_white2000                 1.241846\n",
       "share_hisp2000                  1.241846\n",
       "share_asian2000                 3.040476\n",
       "gsmn_math_g3_2013               1.621223\n",
       "singleparent_share2010          0.974372\n",
       "singleparent_share1990          1.476569\n",
       "singleparent_share2000          1.355113\n",
       "traveltime15_2010               0.462622\n",
       "emp2000                         1.274598\n",
       "mail_return_rate2010            0.997571\n",
       "jobs_total_5mi_2015             1.319632\n",
       "jobs_highpay_5mi_2015           1.319632\n",
       "nonwhite_share2010              0.227899\n",
       "ann_avg_job_growth_2004_2013    3.567237\n",
       "job_density_2013                1.112203\n",
       "change_med_hhinc                1.727667\n",
       "change_popdensity               1.241846\n",
       "outcome                         0.000000\n",
       "dtype: float64"
      ]
     },
     "execution_count": 32,
     "metadata": {},
     "output_type": "execute_result"
    }
   ],
   "source": [
    "# check percentage of NaNs\n",
    "df.isna().sum()/len(df)*100"
   ]
  },
  {
   "cell_type": "markdown",
   "metadata": {},
   "source": [
    "We still have some NaNs, but because each row represents a unique location, instead of dropping the NaNs I'll replace them with the column mean value."
   ]
  },
  {
   "cell_type": "code",
   "execution_count": 33,
   "metadata": {},
   "outputs": [],
   "source": [
    "# fill nans with columns mean\n",
    "df = df.fillna(df.mean())"
   ]
  },
  {
   "cell_type": "code",
   "execution_count": 34,
   "metadata": {},
   "outputs": [
    {
     "data": {
      "text/plain": [
       "(73278, 33)"
      ]
     },
     "execution_count": 34,
     "metadata": {},
     "output_type": "execute_result"
    }
   ],
   "source": [
    "# check lenght of rows and columns\n",
    "df.shape"
   ]
  },
  {
   "cell_type": "code",
   "execution_count": 35,
   "metadata": {},
   "outputs": [
    {
     "data": {
      "text/plain": [
       "0    58.687464\n",
       "1    41.312536\n",
       "Name: outcome, dtype: float64"
      ]
     },
     "execution_count": 35,
     "metadata": {},
     "output_type": "execute_result"
    }
   ],
   "source": [
    "# check balance of target after drop of NaNs\n",
    "df.outcome.value_counts()/len(df.outcome)*100"
   ]
  },
  {
   "cell_type": "code",
   "execution_count": 36,
   "metadata": {},
   "outputs": [
    {
     "data": {
      "text/plain": [
       "<matplotlib.axes._subplots.AxesSubplot at 0x1219d5ef0>"
      ]
     },
     "execution_count": 36,
     "metadata": {},
     "output_type": "execute_result"
    },
    {
     "data": {
      "image/png": "[encoded data removed]",
      "text/plain": [
       "<Figure size 792x648 with 2 Axes>"
      ]
     },
     "metadata": {
      "needs_background": "light"
     },
     "output_type": "display_data"
    }
   ],
   "source": [
    "# Compute the correlation matrix\n",
    "corr = df.corr()\n",
    "\n",
    "# Generate a mask for the upper triangle\n",
    "mask = np.zeros_like(corr, dtype=np.bool)\n",
    "mask[np.triu_indices_from(mask)] = True\n",
    "\n",
    "# Set up the matplotlib figure\n",
    "f, ax = plt.subplots(figsize=(11, 9))\n",
    "\n",
    "# Generate a custom diverging colormap\n",
    "cmap = sns.diverging_palette(220, 10, as_cmap=True)\n",
    "\n",
    "# Draw the heatmap with the mask and correct aspect ratio\n",
    "sns.heatmap(corr, mask=mask, cmap=cmap, vmax=.3, center=0,\n",
    "            square=True, linewidths=.5, cbar_kws={\"shrink\": .5})"
   ]
  },
  {
   "cell_type": "markdown",
   "metadata": {},
   "source": [
    "The only main correlation we see is for 'white_share200' to 'nonwhite_share2010', which seems reasonable since they are in a way opposite measurements, and also informs us that overall the racial make up of most regions haven't change much in a decade. \n",
    "\n",
    "Ok, we have all our data looking good and we're ready to start trying out some models. Let's separate our target and feature variables, and split the data into train, validating and test sets. We will also use a pipeline for our process that includes some feature engineering (scaling data), so this step will be done during the modeling part."
   ]
  },
  {
   "cell_type": "code",
   "execution_count": 37,
   "metadata": {},
   "outputs": [],
   "source": [
    "# define target variable\n",
    "target = df.outcome"
   ]
  },
  {
   "cell_type": "code",
   "execution_count": 38,
   "metadata": {},
   "outputs": [],
   "source": [
    "# define features\n",
    "features = df.iloc[:,1:32]"
   ]
  },
  {
   "cell_type": "code",
   "execution_count": 39,
   "metadata": {},
   "outputs": [],
   "source": [
    "# split the data into train and test\n",
    "X_train, X_test, y_train, y_test = train_test_split(features, target, test_size=0.2, random_state=0)"
   ]
  },
  {
   "cell_type": "code",
   "execution_count": 40,
   "metadata": {},
   "outputs": [],
   "source": [
    "# split again the train data into train and validation \n",
    "X_train, X_valid, y_train, y_valid = train_test_split(X_train, y_train, test_size=0.2, random_state=0)"
   ]
  },
  {
   "cell_type": "code",
   "execution_count": 41,
   "metadata": {},
   "outputs": [
    {
     "name": "stdout",
     "output_type": "stream",
     "text": [
      "Train data shape: ((46897, 31), (46897,))\n",
      "Validation data shape: ((11725, 31), (11725,))\n",
      "Test data shape: ((14656, 31), (14656,))\n"
     ]
    }
   ],
   "source": [
    "# check the shape of resultig datasets\n",
    "print(f'Train data shape: {X_train.shape, y_train.shape}')\n",
    "print(f'Validation data shape: {X_valid.shape, y_valid.shape}')\n",
    "print(f'Test data shape: {X_test.shape, y_test.shape}')"
   ]
  },
  {
   "cell_type": "code",
   "execution_count": 53,
   "metadata": {
    "scrolled": true
   },
   "outputs": [
    {
     "data": {
      "text/plain": [
       "0    0.585539\n",
       "1    0.414461\n",
       "Name: outcome, dtype: float64"
      ]
     },
     "execution_count": 53,
     "metadata": {},
     "output_type": "execute_result"
    }
   ],
   "source": [
    "# check balance of outomes in train dataset\n",
    "y_train.value_counts()/len(y_train)"
   ]
  },
  {
   "cell_type": "code",
   "execution_count": 54,
   "metadata": {},
   "outputs": [
    {
     "data": {
      "text/plain": [
       "0    0.586951\n",
       "1    0.413049\n",
       "Name: outcome, dtype: float64"
      ]
     },
     "execution_count": 54,
     "metadata": {},
     "output_type": "execute_result"
    }
   ],
   "source": [
    "# check balance of outomes in validation dataset\n",
    "y_valid.value_counts()/len(y_valid)"
   ]
  },
  {
   "cell_type": "code",
   "execution_count": 55,
   "metadata": {},
   "outputs": [
    {
     "data": {
      "text/plain": [
       "0    0.591089\n",
       "1    0.408911\n",
       "Name: outcome, dtype: float64"
      ]
     },
     "execution_count": 55,
     "metadata": {},
     "output_type": "execute_result"
    }
   ],
   "source": [
    "# check balance of outomes in test dataset\n",
    "y_test.value_counts()/len(y_test)"
   ]
  },
  {
   "cell_type": "markdown",
   "metadata": {},
   "source": [
    "### 2. Fit, Evaluate and Tune Models\n",
    "\n",
    "We have a supervised binary classification problem, and thus we could use several different types of models to get our results. We also don't have a too large dataset, which releases some constraints in terms of processing cost. Because we have such freedom and not too much computational demands we will go through several diferent types of models and see how well they perform.\n",
    "\n",
    "#### Selecting a model\n",
    "\n",
    "I'll create a pipeline and run a vanilla model for several different types of models to see how each perform with our data. My pipeline will scale all the data and train each of the models in a loop. Then we will check the accuracy of each of the models using the validation data sets to compare and decide which one can provide us the the best results for our data with the least tuning."
   ]
  },
  {
   "cell_type": "code",
   "execution_count": 56,
   "metadata": {
    "scrolled": false
   },
   "outputs": [
    {
     "name": "stdout",
     "output_type": "stream",
     "text": [
      "KNeighborsClassifier(algorithm='auto', leaf_size=30, metric='minkowski',\n",
      "           metric_params=None, n_jobs=None, n_neighbors=5, p=2,\n",
      "           weights='uniform')\n",
      "model score: 0.8420469083155651\n",
      "----------------\n",
      "SVC(C=1.0, cache_size=200, class_weight=None, coef0=0.0,\n",
      "  decision_function_shape='ovr', degree=3, gamma='auto_deprecated',\n",
      "  kernel='rbf', max_iter=-1, probability=False, random_state=None,\n",
      "  shrinking=True, tol=0.001, verbose=False)\n",
      "model score: 0.8640511727078891\n",
      "----------------\n",
      "LinearSVC(C=1.0, class_weight=None, dual=True, fit_intercept=True,\n",
      "     intercept_scaling=1, loss='squared_hinge', max_iter=1000,\n",
      "     multi_class='ovr', penalty='l2', random_state=None, tol=0.0001,\n",
      "     verbose=0)\n",
      "model score: 0.8438379530916844\n",
      "----------------\n",
      "NuSVC(cache_size=200, class_weight=None, coef0=0.0,\n",
      "   decision_function_shape='ovr', degree=3, gamma='auto_deprecated',\n",
      "   kernel='rbf', max_iter=-1, nu=0.5, probability=False, random_state=None,\n",
      "   shrinking=True, tol=0.001, verbose=False)\n",
      "model score: 0.8354797441364605\n",
      "----------------\n",
      "DecisionTreeClassifier(class_weight=None, criterion='gini', max_depth=None,\n",
      "            max_features=None, max_leaf_nodes=None,\n",
      "            min_impurity_decrease=0.0, min_impurity_split=None,\n",
      "            min_samples_leaf=1, min_samples_split=2,\n",
      "            min_weight_fraction_leaf=0.0, presort=False, random_state=None,\n",
      "            splitter='best')\n",
      "model score: 0.8022174840085288\n",
      "----------------\n",
      "RandomForestClassifier(bootstrap=True, class_weight=None, criterion='gini',\n",
      "            max_depth=None, max_features='auto', max_leaf_nodes=None,\n",
      "            min_impurity_decrease=0.0, min_impurity_split=None,\n",
      "            min_samples_leaf=1, min_samples_split=2,\n",
      "            min_weight_fraction_leaf=0.0, n_estimators=10, n_jobs=None,\n",
      "            oob_score=False, random_state=None, verbose=0,\n",
      "            warm_start=False)\n",
      "model score: 0.8496375266524521\n",
      "----------------\n",
      "AdaBoostClassifier(algorithm='SAMME.R', base_estimator=None,\n",
      "          learning_rate=1.0, n_estimators=50, random_state=None)\n",
      "model score: 0.8504904051172708\n",
      "----------------\n",
      "GradientBoostingClassifier(criterion='friedman_mse', init=None,\n",
      "              learning_rate=0.1, loss='deviance', max_depth=3,\n",
      "              max_features=None, max_leaf_nodes=None,\n",
      "              min_impurity_decrease=0.0, min_impurity_split=None,\n",
      "              min_samples_leaf=1, min_samples_split=2,\n",
      "              min_weight_fraction_leaf=0.0, n_estimators=100,\n",
      "              n_iter_no_change=None, presort='auto', random_state=None,\n",
      "              subsample=1.0, tol=0.0001, validation_fraction=0.1,\n",
      "              verbose=0, warm_start=False)\n",
      "model score: 0.8581663113006397\n",
      "----------------\n",
      "XGBClassifier(base_score=0.5, booster='gbtree', colsample_bylevel=1,\n",
      "       colsample_bytree=1, gamma=0, learning_rate=0.1, max_delta_step=0,\n",
      "       max_depth=3, min_child_weight=1, missing=None, n_estimators=100,\n",
      "       n_jobs=1, nthread=None, objective='binary:logistic', random_state=0,\n",
      "       reg_alpha=0, reg_lambda=1, scale_pos_weight=1, seed=None,\n",
      "       silent=True, subsample=1)\n",
      "model score: 0.8575692963752666\n",
      "----------------\n"
     ]
    }
   ],
   "source": [
    "# list all classifiers to test\n",
    "classifiers = [\n",
    "    KNeighborsClassifier(),\n",
    "    SVC(),\n",
    "    LinearSVC(),\n",
    "    NuSVC(),\n",
    "    DecisionTreeClassifier(),\n",
    "    RandomForestClassifier(),\n",
    "    AdaBoostClassifier(),\n",
    "    GradientBoostingClassifier(),\n",
    "    XGBClassifier()\n",
    "    ]\n",
    "# run a pipeline in a loop for each classifier, along with its validation scores\n",
    "for classifier in classifiers:\n",
    "    pipe = Pipeline(steps=[('scaler', StandardScaler()),\n",
    "                           ('classifier', classifier)])\n",
    "    pipe.fit(X_train, y_train)   \n",
    "    print(classifier)\n",
    "    print(f'model score: {pipe.score(X_valid, y_valid)}')\n",
    "    print('----------------')"
   ]
  },
  {
   "cell_type": "markdown",
   "metadata": {},
   "source": [
    "#### Tuning the model\n",
    "\n",
    "Great! Our results show that we are likely looking at a non-linear Support Vector Machine as the best model for our classification problem. Now let's try to improve our model results with some tuning of the hyperparameters. I want to run another pipeline now on this model with a grid search and crossvalidation to test out and find the best parameters for our model."
   ]
  },
  {
   "cell_type": "code",
   "execution_count": 80,
   "metadata": {},
   "outputs": [],
   "source": [
    "# create a pipeline for grid search\n",
    "pipe_svm = Pipeline([('scaler', StandardScaler()),\n",
    "                     ('SVM', SVC())])\n",
    "\n",
    "# Set grid search parameters for C and gamma for a rbf kennel\n",
    "param_grid_svm = {'SVM__C': [0.1, 1, 10],  \n",
    "              'SVM__gamma': [1, 0.1, 0.01]}\n",
    "\n",
    "# Construct grid search\n",
    "grid_svm = GridSearchCV(estimator=pipe_svm,\n",
    "            param_grid=param_grid_svm,\n",
    "            scoring='accuracy',\n",
    "            cv=3, verbose=2, n_jobs = -1)"
   ]
  },
  {
   "cell_type": "code",
   "execution_count": 81,
   "metadata": {},
   "outputs": [
    {
     "name": "stdout",
     "output_type": "stream",
     "text": [
      "Fitting 3 folds for each of 9 candidates, totalling 27 fits\n"
     ]
    },
    {
     "name": "stderr",
     "output_type": "stream",
     "text": [
      "[Parallel(n_jobs=-1)]: Using backend LokyBackend with 4 concurrent workers.\n",
      "[Parallel(n_jobs=-1)]: Done  27 out of  27 | elapsed: 35.1min finished\n"
     ]
    },
    {
     "name": "stdout",
     "output_type": "stream",
     "text": [
      "CPU times: user 1min 20s, sys: 1.13 s, total: 1min 21s\n",
      "Wall time: 36min 27s\n"
     ]
    },
    {
     "data": {
      "text/plain": [
       "GridSearchCV(cv=3, error_score='raise-deprecating',\n",
       "       estimator=Pipeline(memory=None,\n",
       "     steps=[('scaler', StandardScaler(copy=True, with_mean=True, with_std=True)), ('SVM', SVC(C=1.0, cache_size=200, class_weight=None, coef0=0.0,\n",
       "  decision_function_shape='ovr', degree=3, gamma='auto_deprecated',\n",
       "  kernel='rbf', max_iter=-1, probability=False, random_state=None,\n",
       "  shrinking=True, tol=0.001, verbose=False))]),\n",
       "       fit_params=None, iid='warn', n_jobs=-1,\n",
       "       param_grid={'SVM__C': [0.1, 1, 10], 'SVM__gamma': [1, 0.1, 0.01]},\n",
       "       pre_dispatch='2*n_jobs', refit=True, return_train_score='warn',\n",
       "       scoring='accuracy', verbose=2)"
      ]
     },
     "execution_count": 81,
     "metadata": {},
     "output_type": "execute_result"
    }
   ],
   "source": [
    "# Fit using the grid search\n",
    "%time grid_svm.fit(X_train, y_train)"
   ]
  },
  {
   "cell_type": "code",
   "execution_count": 83,
   "metadata": {},
   "outputs": [
    {
     "data": {
      "text/plain": [
       "{'SVM__C': 10, 'SVM__gamma': 0.01}"
      ]
     },
     "execution_count": 83,
     "metadata": {},
     "output_type": "execute_result"
    }
   ],
   "source": [
    "# check which are the best parameters\n",
    "grid_svm.best_params_"
   ]
  },
  {
   "cell_type": "code",
   "execution_count": 84,
   "metadata": {
    "scrolled": true
   },
   "outputs": [
    {
     "data": {
      "text/plain": [
       "0.8749173721133549"
      ]
     },
     "execution_count": 84,
     "metadata": {},
     "output_type": "execute_result"
    }
   ],
   "source": [
    "# check train accuracy score\n",
    "grid_svm.score(X_train, y_train)"
   ]
  },
  {
   "cell_type": "code",
   "execution_count": 85,
   "metadata": {},
   "outputs": [
    {
     "data": {
      "text/plain": [
       "0.8622601279317698"
      ]
     },
     "execution_count": 85,
     "metadata": {},
     "output_type": "execute_result"
    }
   ],
   "source": [
    "# check validation accuracy score\n",
    "grid_svm.score(X_valid, y_valid)"
   ]
  },
  {
   "cell_type": "code",
   "execution_count": 86,
   "metadata": {},
   "outputs": [
    {
     "name": "stdout",
     "output_type": "stream",
     "text": [
      "              precision    recall  f1-score   support\n",
      "\n",
      "           0       0.88      0.88      0.88      6882\n",
      "           1       0.83      0.83      0.83      4843\n",
      "\n",
      "   micro avg       0.86      0.86      0.86     11725\n",
      "   macro avg       0.86      0.86      0.86     11725\n",
      "weighted avg       0.86      0.86      0.86     11725\n",
      "\n"
     ]
    }
   ],
   "source": [
    "# print the classification report with all scoring results \n",
    "predictions = grid_svm.predict(X_valid) \n",
    "print(classification_report(y_valid, predictions))"
   ]
  },
  {
   "cell_type": "code",
   "execution_count": 87,
   "metadata": {},
   "outputs": [
    {
     "name": "stdout",
     "output_type": "stream",
     "text": [
      "[[6082  800]\n",
      " [ 815 4028]]\n"
     ]
    }
   ],
   "source": [
    "# print confusion matrix\n",
    "print(confusion_matrix(y_valid,predictions))"
   ]
  },
  {
   "cell_type": "markdown",
   "metadata": {},
   "source": [
    "This is a not too bad result, but not too much improvement from our initial model. I also want to try a polynomial kernel to see how it does. To do this I'll run another pipeline."
   ]
  },
  {
   "cell_type": "code",
   "execution_count": 73,
   "metadata": {},
   "outputs": [],
   "source": [
    "# create a pipeline for grid search\n",
    "pipe_svm2 = Pipeline([('scaler', StandardScaler()),\n",
    "                     ('SVM', SVC())])\n",
    "\n",
    "# Set grid search parameters to fit a poly kernell with different degrees\n",
    "param_grid_svm2 = {'SVM__kernel':['poly'],'SVM__degree': [2,3,4]}\n",
    "\n",
    "# Construct grid search\n",
    "grid_svm2 = GridSearchCV(estimator=pipe_svm2,\n",
    "            param_grid=param_grid_svm2,\n",
    "            scoring='accuracy',\n",
    "            cv=3, verbose=2, n_jobs = -1)"
   ]
  },
  {
   "cell_type": "code",
   "execution_count": 74,
   "metadata": {
    "scrolled": true
   },
   "outputs": [
    {
     "name": "stdout",
     "output_type": "stream",
     "text": [
      "Fitting 3 folds for each of 3 candidates, totalling 9 fits\n"
     ]
    },
    {
     "name": "stderr",
     "output_type": "stream",
     "text": [
      "[Parallel(n_jobs=-1)]: Using backend LokyBackend with 4 concurrent workers.\n",
      "[Parallel(n_jobs=-1)]: Done   7 out of   9 | elapsed:  4.6min remaining:  1.3min\n",
      "[Parallel(n_jobs=-1)]: Done   9 out of   9 | elapsed:  5.4min finished\n"
     ]
    },
    {
     "name": "stdout",
     "output_type": "stream",
     "text": [
      "CPU times: user 1min 17s, sys: 543 ms, total: 1min 17s\n",
      "Wall time: 6min 41s\n"
     ]
    },
    {
     "data": {
      "text/plain": [
       "GridSearchCV(cv=3, error_score='raise-deprecating',\n",
       "       estimator=Pipeline(memory=None,\n",
       "     steps=[('scaler', StandardScaler(copy=True, with_mean=True, with_std=True)), ('SVM', SVC(C=1.0, cache_size=200, class_weight=None, coef0=0.0,\n",
       "  decision_function_shape='ovr', degree=3, gamma='auto_deprecated',\n",
       "  kernel='rbf', max_iter=-1, probability=False, random_state=None,\n",
       "  shrinking=True, tol=0.001, verbose=False))]),\n",
       "       fit_params=None, iid='warn', n_jobs=-1,\n",
       "       param_grid={'SVM__kernel': ['poly'], 'SVM__degree': [2, 3, 4]},\n",
       "       pre_dispatch='2*n_jobs', refit=True, return_train_score='warn',\n",
       "       scoring='accuracy', verbose=2)"
      ]
     },
     "execution_count": 74,
     "metadata": {},
     "output_type": "execute_result"
    }
   ],
   "source": [
    "# Fit using the grid search\n",
    "%time grid_svm2.fit(X_train, y_train)"
   ]
  },
  {
   "cell_type": "code",
   "execution_count": 82,
   "metadata": {},
   "outputs": [
    {
     "data": {
      "text/plain": [
       "{'SVM__degree': 3, 'SVM__kernel': 'poly'}"
      ]
     },
     "execution_count": 82,
     "metadata": {},
     "output_type": "execute_result"
    }
   ],
   "source": [
    "# check which are the best parameters\n",
    "grid_svm2.best_params_"
   ]
  },
  {
   "cell_type": "code",
   "execution_count": 75,
   "metadata": {},
   "outputs": [
    {
     "data": {
      "text/plain": [
       "0.8436817685589519"
      ]
     },
     "execution_count": 75,
     "metadata": {},
     "output_type": "execute_result"
    }
   ],
   "source": [
    "# check validation accuracy score\n",
    "grid_svm2.score(X_test, y_test)"
   ]
  },
  {
   "cell_type": "code",
   "execution_count": 77,
   "metadata": {},
   "outputs": [
    {
     "data": {
      "text/plain": [
       "0.8440085287846482"
      ]
     },
     "execution_count": 77,
     "metadata": {},
     "output_type": "execute_result"
    }
   ],
   "source": [
    "# check validation accuracy score\n",
    "grid_svm2.score(X_valid, y_valid)"
   ]
  },
  {
   "cell_type": "code",
   "execution_count": 78,
   "metadata": {},
   "outputs": [
    {
     "name": "stdout",
     "output_type": "stream",
     "text": [
      "              precision    recall  f1-score   support\n",
      "\n",
      "           0       0.83      0.92      0.87      6882\n",
      "           1       0.86      0.74      0.80      4843\n",
      "\n",
      "   micro avg       0.84      0.84      0.84     11725\n",
      "   macro avg       0.85      0.83      0.84     11725\n",
      "weighted avg       0.85      0.84      0.84     11725\n",
      "\n"
     ]
    }
   ],
   "source": [
    "# print the classification report with all scoring results \n",
    "predictions = grid_svm2.predict(X_valid) \n",
    "print(classification_report(y_valid, predictions))"
   ]
  },
  {
   "cell_type": "code",
   "execution_count": 79,
   "metadata": {},
   "outputs": [
    {
     "name": "stdout",
     "output_type": "stream",
     "text": [
      "[[6317  565]\n",
      " [1264 3579]]\n"
     ]
    }
   ],
   "source": [
    "# print confusion matrix\n",
    "print(confusion_matrix(y_valid,predictions))"
   ]
  },
  {
   "cell_type": "code",
   "execution_count": null,
   "metadata": {},
   "outputs": [],
   "source": []
  },
  {
   "cell_type": "code",
   "execution_count": null,
   "metadata": {},
   "outputs": [],
   "source": []
  },
  {
   "cell_type": "code",
   "execution_count": null,
   "metadata": {},
   "outputs": [],
   "source": []
  },
  {
   "cell_type": "code",
   "execution_count": null,
   "metadata": {},
   "outputs": [],
   "source": []
  },
  {
   "cell_type": "code",
   "execution_count": null,
   "metadata": {},
   "outputs": [],
   "source": []
  },
  {
   "cell_type": "code",
   "execution_count": null,
   "metadata": {},
   "outputs": [],
   "source": []
  },
  {
   "cell_type": "code",
   "execution_count": null,
   "metadata": {},
   "outputs": [],
   "source": []
  },
  {
   "cell_type": "code",
   "execution_count": null,
   "metadata": {},
   "outputs": [],
   "source": []
  },
  {
   "cell_type": "markdown",
   "metadata": {},
   "source": []
  },
  {
   "cell_type": "code",
   "execution_count": null,
   "metadata": {},
   "outputs": [],
   "source": []
  },
  {
   "cell_type": "markdown",
   "metadata": {},
   "source": []
  },
  {
   "cell_type": "code",
   "execution_count": null,
   "metadata": {},
   "outputs": [],
   "source": []
  },
  {
   "cell_type": "markdown",
   "metadata": {},
   "source": []
  },
  {
   "cell_type": "code",
   "execution_count": null,
   "metadata": {},
   "outputs": [],
   "source": []
  },
  {
   "cell_type": "markdown",
   "metadata": {},
   "source": []
  },
  {
   "cell_type": "code",
   "execution_count": null,
   "metadata": {},
   "outputs": [],
   "source": []
  },
  {
   "cell_type": "code",
   "execution_count": null,
   "metadata": {},
   "outputs": [],
   "source": []
  },
  {
   "cell_type": "code",
   "execution_count": null,
   "metadata": {},
   "outputs": [],
   "source": []
  },
  {
   "cell_type": "code",
   "execution_count": null,
   "metadata": {},
   "outputs": [],
   "source": []
  },
  {
   "cell_type": "code",
   "execution_count": null,
   "metadata": {
    "scrolled": false
   },
   "outputs": [],
   "source": []
  },
  {
   "cell_type": "code",
   "execution_count": null,
   "metadata": {},
   "outputs": [],
   "source": []
  },
  {
   "cell_type": "code",
   "execution_count": null,
   "metadata": {
    "scrolled": false
   },
   "outputs": [],
   "source": []
  },
  {
   "cell_type": "code",
   "execution_count": null,
   "metadata": {},
   "outputs": [],
   "source": []
  },
  {
   "cell_type": "code",
   "execution_count": null,
   "metadata": {},
   "outputs": [],
   "source": []
  },
  {
   "cell_type": "code",
   "execution_count": null,
   "metadata": {},
   "outputs": [],
   "source": []
  },
  {
   "cell_type": "code",
   "execution_count": null,
   "metadata": {},
   "outputs": [],
   "source": []
  },
  {
   "cell_type": "code",
   "execution_count": null,
   "metadata": {},
   "outputs": [],
   "source": []
  },
  {
   "cell_type": "code",
   "execution_count": null,
   "metadata": {},
   "outputs": [],
   "source": []
  },
  {
   "cell_type": "markdown",
   "metadata": {},
   "source": [
    "for future work: evaluate by race and gender to see if they are good predictors or even better predictors than other variables"
   ]
  },
  {
   "cell_type": "code",
   "execution_count": null,
   "metadata": {},
   "outputs": [],
   "source": []
  }
 ],
 "metadata": {
  "kernelspec": {
   "display_name": "learn-env",
   "language": "python",
   "name": "learn-env"
  },
  "language_info": {
   "codemirror_mode": {
    "name": "ipython",
    "version": 3
   },
   "file_extension": ".py",
   "mimetype": "text/x-python",
   "name": "python",
   "nbconvert_exporter": "python",
   "pygments_lexer": "ipython3",
   "version": "3.6.6"
  }
 },
 "nbformat": 4,
 "nbformat_minor": 2
}
